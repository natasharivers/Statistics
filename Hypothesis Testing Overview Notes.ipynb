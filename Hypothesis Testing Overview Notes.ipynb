{
 "cells": [
  {
   "cell_type": "markdown",
   "metadata": {},
   "source": [
    "# OVERVIEW"
   ]
  },
  {
   "cell_type": "markdown",
   "metadata": {},
   "source": [
    "## Statistics (Stats):\n",
    "\n",
    "   - descriptive stats\n",
    "        - histograms\n",
    "        \n",
    "   - frequency analysis\n",
    "        - discrete variables\n",
    "        - categorical variables\n",
    "        \n",
    "   - hypthosis testing "
   ]
  },
  {
   "cell_type": "markdown",
   "metadata": {},
   "source": [
    "## Visualizations (Viz):\n",
    "\n",
    "   - Univariate Plots\n",
    "        - only one variable \n",
    "            - (ex) sum of money\n",
    "            \n",
    "   - Bivariate Plots\n",
    "       - plotting two continuous variables\n",
    "           - (ex) scatter plot of \"sqft by price\"\n",
    "       - plotting one continuous by one categorical variable\n",
    "           - (ex) barchart of \"price by number of bedrooms\"\n",
    "       - plotting two categorical variables\n",
    "           - (ex) stacked bar of fiber customers by churn \n",
    "           - x = fiber, no fiber\n",
    "           - y = # of customers\n",
    "           - will need legend (churn, no churn)\n",
    "    - Multivariate\n",
    "        - multiple variables\n",
    "            - (ex) male subset, compare proportion of those who servived alone vs with someone else"
   ]
  },
  {
   "cell_type": "markdown",
   "metadata": {},
   "source": [
    "# Hypothesis Testing"
   ]
  },
  {
   "cell_type": "markdown",
   "metadata": {},
   "source": [
    "- computes the probability of something happening AND gives a visual\n",
    "\n",
    "- see something that looks significant but we are unsure... hypothesis testing will give us that power\n",
    "\n",
    "- Line of Best Fit: \n",
    "    - Spearman's Correlation Test- test linear relationship\n",
    "    - Pearson's Correlation Test- test linear relationship\n",
    "    \n"
   ]
  },
  {
   "cell_type": "markdown",
   "metadata": {},
   "source": [
    "## T-Test, ANOVA, Mann-Whitney Test"
   ]
  },
  {
   "cell_type": "markdown",
   "metadata": {},
   "source": [
    "#### (ex) do two story homes cost more than one story homes per square foot?"
   ]
  },
  {
   "cell_type": "markdown",
   "metadata": {},
   "source": [
    "#### FIRST: run Spearman's then you will get returned \"p value\" and \"test statistic\"\n",
    "- pvalue = probaility that what youve seen is by chance\n",
    "- the higher the pvalue is... the more it was actually by chance\n",
    "    - (ex): pvalue = .88 (very high likelyhood it was by chance)\n",
    "    - (ex): pvalue =.00000023 (very low likelyhood it was by chance)"
   ]
  },
  {
   "cell_type": "markdown",
   "metadata": {},
   "source": [
    "#### Correlation Tests:\n",
    "- Spearmans\n",
    "- Pearsons\n",
    "\n",
    "#### Testing Types:\n",
    "- chiSquare: Discrete Vs Discrete\n",
    "    - (ex): churn vs dependents\n",
    "- T-test: Continuous Vs Discrete\n",
    "    - (ex): mean age vs churn\n",
    "- Spearmans or Pearsons: continuous vs continuous\n",
    "    \n",
    "- Comparing Means value of two things across two groups\n",
    "\n",
    "#### Continuous Variable:\n",
    "- dollars per square feet\n",
    "- square feet\n",
    "- housing price\n",
    "- total charges\n",
    "- tenure\n",
    "\n",
    "#### Discrete/ Categorical Variable:\n",
    "- fiber or no fiber\n",
    "- churn or no churn\n",
    "- one, two or three story home"
   ]
  },
  {
   "cell_type": "markdown",
   "metadata": {},
   "source": [
    "### Setting up a hypothesis test\n",
    "1. Start with a question\n",
    "    - (ex): are customers who churn charged a significantly different (higher or lower) amount on their monthly bill?\n",
    "    - (ex): are younger customers more likely to leave?\n",
    "    - (ex): are customers with dependents more likely to stay longer? (tenure)\n",
    "    - (ex): is there a relationship between those who churn and number of phone lines?\n",
    "    \n",
    " "
   ]
  },
  {
   "cell_type": "markdown",
   "metadata": {},
   "source": [
    "### Vocabulary:\n",
    "\n",
    "#### null hypothesis (H0):\n",
    "   - assumes everything is normal\n",
    "   - defaul hypothesis\n",
    "        -(ex): there is no difference between \n",
    "   - boring\n",
    "   \n",
    "#### alternative hypothesis (H1):\n",
    "   - this is the question you're asking\n",
    "       -(ex): there is a significant difference between the tenure of people with dependents and people without\n",
    "       \n",
    "#### significance level:\n",
    "   - 0.05 (general exceptance)\n",
    "   - anything with a probability less than 0.05, we reject null hypothesis\n",
    "   \n",
    "#### False Negative Rate:\n",
    "   - probability of a type 2 error\n",
    "       - what is a type 2 error: say there is no difference when there actually is\n",
    "       - fail to reject but there actually is a difference\n",
    "   - what is a type 1 error: say there is a difference but there actually is not\n",
    "   \n",
    "#### Type II error: \n",
    "    - if data set is small- p value will be really high, resulting in false negative\n",
    "#### Type I error: \n",
    "    - if data set is huge"
   ]
  },
  {
   "cell_type": "markdown",
   "metadata": {},
   "source": [
    "STEPS:\n",
    "1. plot\n",
    "2. set hypothesis\n",
    "    - null hypothesis- boring: \n",
    "        - there is NO significant difference\n",
    "            - mean_churn(charges) == mean_nochurn(charges)\n",
    "    - alternative hypothesis \n",
    "        - there IS a significant difference\n",
    "            - mean_churn(charges) != mean_nochurn(charges)\n",
    "3. set alpha: \n",
    "    - typically set to .05\n",
    "4. verify assumptions: \n",
    "    - * skip for now\n",
    "5. run the test: use import 'scipy' \n",
    "    - test statistic= (t-stat)\n",
    "    - pvalue\n",
    "6. conclude: \n",
    "    - if pvalue < alpha, we reject our H0\n",
    "        - you'd say: there is a signifcant difference\n",
    "    - if pvalue > alpha, we fail to reject our H0\n",
    "        - you'd say: there is No signifant difference"
   ]
  },
  {
   "cell_type": "markdown",
   "metadata": {},
   "source": []
  },
  {
   "cell_type": "code",
   "execution_count": null,
   "metadata": {},
   "outputs": [],
   "source": []
  }
 ],
 "metadata": {
  "kernelspec": {
   "display_name": "Python 3",
   "language": "python",
   "name": "python3"
  },
  "language_info": {
   "codemirror_mode": {
    "name": "ipython",
    "version": 3
   },
   "file_extension": ".py",
   "mimetype": "text/x-python",
   "name": "python",
   "nbconvert_exporter": "python",
   "pygments_lexer": "ipython3",
   "version": "3.8.5"
  }
 },
 "nbformat": 4,
 "nbformat_minor": 4
}
