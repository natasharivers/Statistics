{
 "cells": [
  {
   "cell_type": "markdown",
   "metadata": {},
   "source": [
    "# STATS INTRO NOTES"
   ]
  },
  {
   "cell_type": "markdown",
   "metadata": {},
   "source": [
    "## DIFFERENT TESTING:\n",
    "- Chi Square Test = χ2 test\n",
    "- t-test\n",
    "- correlation test"
   ]
  },
  {
   "cell_type": "markdown",
   "metadata": {},
   "source": [
    "## VOCABULARY:"
   ]
  },
  {
   "cell_type": "markdown",
   "metadata": {},
   "source": [
    "### Measures of Central Tendency\n",
    "- mean: average value\n",
    "- median: center most value\n",
    "- mode: most frequently occuring value\n",
    "    - bi-modal: two values tie as mode\n",
    "- expected value: similar to mean but weighted"
   ]
  },
  {
   "cell_type": "markdown",
   "metadata": {},
   "source": [
    "### Measures of Spread\n",
    "- min: lowest value\n",
    "- max: highest value\n",
    "- range: difference between max and min\n",
    "- percentile: cut into 100 equal parts\n",
    "\n",
    "- quantile: an set of cut points that divides values equally\n",
    "\n",
    "- quartile: slice a data set into four pieces\n",
    "    - 25% of observations between min and Q1\n",
    "    - 50% of observations between min and Q2\n",
    "    - 75% of observations between min and Q3\n",
    "    \n",
    "- IQR: Q3-Q1\n",
    "    \n",
    "- Variance\n",
    "\n",
    "- Standard Deviation: square root Variance \n",
    "\n",
    "- Skew: Symmetric - hump in middle and tails even on each side\n",
    "    - left-skewed: mean is less than medial, left tail is longer\n",
    "    - right-skewed: mean is greater then median, right tail is longer\n",
    "    "
   ]
  },
  {
   "cell_type": "markdown",
   "metadata": {},
   "source": [
    "# SIMULATIONS:"
   ]
  },
  {
   "cell_type": "code",
   "execution_count": 4,
   "metadata": {},
   "outputs": [],
   "source": [
    "### on another notebook"
   ]
  },
  {
   "cell_type": "markdown",
   "metadata": {},
   "source": []
  }
 ],
 "metadata": {
  "kernelspec": {
   "display_name": "Python 3",
   "language": "python",
   "name": "python3"
  },
  "language_info": {
   "codemirror_mode": {
    "name": "ipython",
    "version": 3
   },
   "file_extension": ".py",
   "mimetype": "text/x-python",
   "name": "python",
   "nbconvert_exporter": "python",
   "pygments_lexer": "ipython3",
   "version": "3.8.5"
  }
 },
 "nbformat": 4,
 "nbformat_minor": 4
}
