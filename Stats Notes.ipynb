{
 "cells": [
  {
   "cell_type": "markdown",
   "metadata": {},
   "source": [
    "# STATS INTRO NOTES"
   ]
  },
  {
   "cell_type": "markdown",
   "metadata": {},
   "source": [
    "## DIFFERENT TESTING:\n",
    "- Chi Square Test = χ2 test\n",
    "- t-test\n",
    "- correlation test"
   ]
  },
  {
   "cell_type": "markdown",
   "metadata": {},
   "source": [
    "## VOCABULARY:"
   ]
  },
  {
   "cell_type": "markdown",
   "metadata": {},
   "source": [
    "### Measures of Central Tendency\n",
    "- mean: average value\n",
    "- median: center most value\n",
    "- mode: most frequently occuring value\n",
    "    - bi-modal: two values tie as mode\n",
    "- expected value: similar to mean but weighted"
   ]
  },
  {
   "cell_type": "markdown",
   "metadata": {},
   "source": [
    "### Measures of Spread\n",
    "- min: lowest value\n",
    "- max: highest value\n",
    "- range: difference between max and min\n",
    "- percentile: cut into 100 equal parts\n",
    "\n",
    "- quantile: an set of cut points that divides values equally\n",
    "\n",
    "- quartile: slice a data set into four pieces\n",
    "    - 25% of observations between min and Q1\n",
    "    - 50% of observations between min and Q2\n",
    "    - 75% of observations between min and Q3\n",
    "    \n",
    "- IQR: Q3-Q1\n",
    "    \n",
    "- Variance\n",
    "\n",
    "- Standard Deviation: square root Variance \n",
    "\n",
    "- Skew: Symmetric - hump in middle and tails even on each side\n",
    "    - left-skewed: mean is less than medial, left tail is longer\n",
    "    - right-skewed: mean is greater then median, right tail is longer\n",
    "    "
   ]
  },
  {
   "cell_type": "markdown",
   "metadata": {},
   "source": [
    "# SIMULATIONS:\n",
    "- Madeline file copy"
   ]
  },
  {
   "cell_type": "code",
   "execution_count": 8,
   "metadata": {},
   "outputs": [],
   "source": [
    "%matplotlib inline\n",
    "import numpy as np\n",
    "import pandas as pd\n",
    "\n",
    "np.random.seed(1349)"
   ]
  },
  {
   "cell_type": "markdown",
   "metadata": {},
   "source": [
    "### How will we utilize Python to obtain probabilities?"
   ]
  },
  {
   "cell_type": "markdown",
   "metadata": {},
   "source": [
    "We will utilize Monte Carlo simulations.\n",
    "\n",
    "A Monte Carlo simulation is a means to recreate potential events and empirically take the results of simiulated trials to obtain a reasonably precise estimate of a desired probability.\n",
    "\n",
    "What does this mean for us here?"
   ]
  },
  {
   "cell_type": "code",
   "execution_count": 7,
   "metadata": {},
   "outputs": [],
   "source": [
    "# Let's take a hypothetical base probability. \n",
    "# What is the probability of rolling a one (1) on a single, standard, fair six-sided die?"
   ]
  },
  {
   "cell_type": "code",
   "execution_count": 9,
   "metadata": {},
   "outputs": [],
   "source": [
    "# Potential outcomes of a die roll:\n",
    "possible_outcomes = [1,2,3,4,5,6]"
   ]
  },
  {
   "cell_type": "code",
   "execution_count": null,
   "metadata": {},
   "outputs": [],
   "source": [
    "# options that equal 1: just 1, literally one"
   ]
  },
  {
   "cell_type": "code",
   "execution_count": 10,
   "metadata": {},
   "outputs": [],
   "source": [
    "ideal_roll = 1"
   ]
  },
  {
   "cell_type": "code",
   "execution_count": null,
   "metadata": {},
   "outputs": [],
   "source": [
    "#theoretical probability: 1/6"
   ]
  },
  {
   "cell_type": "code",
   "execution_count": 11,
   "metadata": {},
   "outputs": [
    {
     "data": {
      "text/plain": [
       "0.16666666666666666"
      ]
     },
     "execution_count": 11,
     "metadata": {},
     "output_type": "execute_result"
    }
   ],
   "source": [
    "1/6"
   ]
  },
  {
   "cell_type": "code",
   "execution_count": null,
   "metadata": {},
   "outputs": [],
   "source": [
    "# Now how would we do this with a simulation?"
   ]
  },
  {
   "cell_type": "code",
   "execution_count": null,
   "metadata": {},
   "outputs": [],
   "source": [
    "# We will do it utilizing a large number of trials, that we calculate."
   ]
  },
  {
   "cell_type": "code",
   "execution_count": null,
   "metadata": {},
   "outputs": [],
   "source": [
    "# Allow us to examine the same problem: Probability of rolling a 1 on a fair six-sided die."
   ]
  },
  {
   "cell_type": "code",
   "execution_count": 12,
   "metadata": {},
   "outputs": [],
   "source": [
    "# First, we will set a value for the number of trials that we want to conduct.\n",
    "# We have the power of computation at our finger tips, so let's shoot for something like one million.\n",
    "\n",
    "num_trails= 10 ** 5"
   ]
  },
  {
   "cell_type": "code",
   "execution_count": 13,
   "metadata": {},
   "outputs": [],
   "source": [
    "# We have one die roll for each trial, which is our event, that we call a single simulation\n",
    "n_dice= 1"
   ]
  },
  {
   "cell_type": "code",
   "execution_count": null,
   "metadata": {},
   "outputs": [],
   "source": [
    "# We will do a single simulation one million times, with each simulation being a die roll."
   ]
  },
  {
   "cell_type": "code",
   "execution_count": 15,
   "metadata": {},
   "outputs": [],
   "source": [
    "rolls = np.random.choice(possible_outcomes, num_trails*n_dice).reshape(num_trails, n_dice)"
   ]
  },
  {
   "cell_type": "code",
   "execution_count": 16,
   "metadata": {},
   "outputs": [
    {
     "data": {
      "text/plain": [
       "numpy.ndarray"
      ]
     },
     "execution_count": 16,
     "metadata": {},
     "output_type": "execute_result"
    }
   ],
   "source": [
    "type(rolls)"
   ]
  },
  {
   "cell_type": "code",
   "execution_count": 17,
   "metadata": {},
   "outputs": [
    {
     "data": {
      "text/plain": [
       "array([[3],\n",
       "       [2],\n",
       "       [5],\n",
       "       ...,\n",
       "       [4],\n",
       "       [5],\n",
       "       [5]])"
      ]
     },
     "execution_count": 17,
     "metadata": {},
     "output_type": "execute_result"
    }
   ],
   "source": [
    "rolls"
   ]
  },
  {
   "cell_type": "code",
   "execution_count": 18,
   "metadata": {},
   "outputs": [
    {
     "data": {
      "text/plain": [
       "(100000, 1)"
      ]
     },
     "execution_count": 18,
     "metadata": {},
     "output_type": "execute_result"
    }
   ],
   "source": [
    "rolls.shape"
   ]
  },
  {
   "cell_type": "code",
   "execution_count": 19,
   "metadata": {},
   "outputs": [
    {
     "data": {
      "text/plain": [
       "array([[False],\n",
       "       [False],\n",
       "       [False],\n",
       "       ...,\n",
       "       [False],\n",
       "       [False],\n",
       "       [False]])"
      ]
     },
     "execution_count": 19,
     "metadata": {},
     "output_type": "execute_result"
    }
   ],
   "source": [
    "rolls == 1\n",
    "#^indicates whether roll is 1 or not in True or False"
   ]
  },
  {
   "cell_type": "code",
   "execution_count": 20,
   "metadata": {},
   "outputs": [
    {
     "data": {
      "text/plain": [
       "0.16894"
      ]
     },
     "execution_count": 20,
     "metadata": {},
     "output_type": "execute_result"
    }
   ],
   "source": [
    "(rolls == 1).mean()\n",
    "#^this gives the amount of times that roll is 1"
   ]
  },
  {
   "cell_type": "markdown",
   "metadata": {},
   "source": [
    "## Generating Random Numbers with Numpy\n",
    "\n",
    "The `numpy.random` module provides a number of functions for generating random numbers.\n",
    "\n",
    "- `np.random.choice`: selects random options from a list\n",
    "- `np.random.uniform`: generates numbers between a given lower and upper bound\n",
    "- `np.random.random`: generates numbers between 0 and 1\n",
    "- `np.random.randn`: generates numbers from the standard normal distribution\n",
    "- `np.random.normal`: generates numbers from a normal distribution with a specified mean and standard deviation"
   ]
  },
  {
   "cell_type": "markdown",
   "metadata": {},
   "source": [
    "## Example Problems\n",
    "\n",
    "### Carnival Dice Rolls\n",
    "\n",
    "> You are at a carnival and come across a person in a booth offering you a game\n",
    "> of \"chance\" (as people in booths at carnivals tend to do).\n",
    "\n",
    "> You pay 5 dollars and roll 3 dice. If the sum of the dice rolls is greater\n",
    "> than 12, you get 15 dollars. If it's less than or equal to 12, you get\n",
    "> nothing.\n",
    "\n",
    "> Assuming the dice are fair, should you play this game? How would this change\n",
    "> if the winning condition was a sum greater than *or equal to* 12?"
   ]
  },
  {
   "cell_type": "code",
   "execution_count": 24,
   "metadata": {},
   "outputs": [
    {
     "data": {
      "text/plain": [
       "array([3, 1, 3, ..., 5, 6, 5])"
      ]
     },
     "execution_count": 24,
     "metadata": {},
     "output_type": "execute_result"
    }
   ],
   "source": [
    "n_trials = nrows= 10_000 #number of times we're going to roll\n",
    "n_dice = ncols= 3 #number of dice\n",
    "\n",
    "rolls = np.random.choice([1,2,3,4,5,6], n_trials * n_dice)\n",
    "rolls"
   ]
  },
  {
   "cell_type": "code",
   "execution_count": 26,
   "metadata": {},
   "outputs": [
    {
     "data": {
      "text/plain": [
       "array([[4, 3, 4],\n",
       "       [4, 6, 5],\n",
       "       [2, 3, 4],\n",
       "       ...,\n",
       "       [5, 5, 3],\n",
       "       [1, 5, 2],\n",
       "       [5, 2, 1]])"
      ]
     },
     "execution_count": 26,
     "metadata": {},
     "output_type": "execute_result"
    }
   ],
   "source": [
    "rolls = np.random.choice([1,2,3,4,5,6], n_trials * n_dice).reshape(nrows,ncols)\n",
    "rolls #reshape for 10,000 columns and 3 rows\n"
   ]
  },
  {
   "cell_type": "code",
   "execution_count": 27,
   "metadata": {},
   "outputs": [
    {
     "data": {
      "text/plain": [
       "104735"
      ]
     },
     "execution_count": 27,
     "metadata": {},
     "output_type": "execute_result"
    }
   ],
   "source": [
    "#AGAIN, we want an outcome that is OVER 12\n",
    "sums_by_trial = rolls.sum()\n",
    "sums_by_trial\n",
    "#this adds everything up row by row"
   ]
  },
  {
   "cell_type": "code",
   "execution_count": 32,
   "metadata": {},
   "outputs": [
    {
     "data": {
      "text/plain": [
       "array([11, 15,  9, ..., 13,  8,  8])"
      ]
     },
     "execution_count": 32,
     "metadata": {},
     "output_type": "execute_result"
    }
   ],
   "source": [
    "#to do it CORRECTLY\n",
    "sums_by_trial = rolls.sum(axis=1)\n",
    "sums_by_trial"
   ]
  },
  {
   "cell_type": "code",
   "execution_count": 29,
   "metadata": {},
   "outputs": [],
   "source": [
    "# We can now convert each value in our array to a boolean value indicating whether or not we won:"
   ]
  },
  {
   "cell_type": "markdown",
   "metadata": {},
   "source": [
    "wins = sums_by_trial >12\n",
    "wins\n",
    "#this will give us whether the 3 rolls added up to over 12 in True and False"
   ]
  },
  {
   "cell_type": "code",
   "execution_count": 37,
   "metadata": {},
   "outputs": [
    {
     "data": {
      "text/plain": [
       "0.2525"
      ]
     },
     "execution_count": 37,
     "metadata": {},
     "output_type": "execute_result"
    }
   ],
   "source": [
    "win_rate = wins.mean()\n",
    "win_rate"
   ]
  },
  {
   "cell_type": "markdown",
   "metadata": {},
   "source": [
    "### with win rate, we can calculate profit:\n",
    "- $15 if your 3 rolls add up to over 12\n",
    "\n",
    "- $5 to play the game\n"
   ]
  },
  {
   "cell_type": "code",
   "execution_count": 40,
   "metadata": {},
   "outputs": [
    {
     "data": {
      "text/plain": [
       "-1.2125"
      ]
     },
     "execution_count": 40,
     "metadata": {},
     "output_type": "execute_result"
    }
   ],
   "source": [
    "expected_winnings = win_rate * 15\n",
    "cost = 5\n",
    "expected_profit = expected_winnings - cost\n",
    "expected_profit\n",
    "#losing 1.2125 on average"
   ]
  },
  {
   "cell_type": "code",
   "execution_count": 41,
   "metadata": {},
   "outputs": [
    {
     "data": {
      "text/plain": [
       "3.7875"
      ]
     },
     "execution_count": 41,
     "metadata": {},
     "output_type": "execute_result"
    }
   ],
   "source": [
    "expected_winnings"
   ]
  },
  {
   "cell_type": "code",
   "execution_count": 42,
   "metadata": {},
   "outputs": [],
   "source": [
    "# change the standards to 12 or greater! instead of just greater then 12"
   ]
  },
  {
   "cell_type": "code",
   "execution_count": 45,
   "metadata": {},
   "outputs": [
    {
     "data": {
      "text/plain": [
       "0.4764999999999997"
      ]
     },
     "execution_count": 45,
     "metadata": {},
     "output_type": "execute_result"
    }
   ],
   "source": [
    "wins= sums_by_trial >=12\n",
    "win_rate = wins.mean()\n",
    "expected_winnings= win_rate * 15 #prize\n",
    "cost= 5\n",
    "expected_profit = expected_winnings -cost\n",
    "expected_profit\n",
    "# just by changing for 12 or greater... your probability changes"
   ]
  },
  {
   "cell_type": "markdown",
   "metadata": {},
   "source": [
    "## Winnings = 3.7875 (greater than 12) VS .47649 (12 or greater)"
   ]
  },
  {
   "cell_type": "markdown",
   "metadata": {},
   "source": [
    "# PRACTICE:"
   ]
  },
  {
   "cell_type": "markdown",
   "metadata": {},
   "source": [
    "## #1: what is the probabilty of rolling \"snake eyes\" on a roll of two dice?"
   ]
  },
  {
   "cell_type": "code",
   "execution_count": 56,
   "metadata": {},
   "outputs": [
    {
     "data": {
      "text/plain": [
       "0.027777777777777776"
      ]
     },
     "execution_count": 56,
     "metadata": {},
     "output_type": "execute_result"
    }
   ],
   "source": [
    "#ANSWER via probability\n",
    "(1/6) * (1/6)\n",
    "#probability of getting a 1 on TWO dice"
   ]
  },
  {
   "cell_type": "code",
   "execution_count": 50,
   "metadata": {},
   "outputs": [],
   "source": [
    "#ANSWER via simulation\n",
    "n_trials = nrows= 10_000 #number of times we're going to roll\n",
    "n_dice = ncols= 2 #number of dice"
   ]
  },
  {
   "cell_type": "code",
   "execution_count": 57,
   "metadata": {},
   "outputs": [],
   "source": [
    "#to get your rolls\n",
    "rolls = np.random.choice([1,2,3,4,5,6], n_trials * n_dice).reshape(nrows,ncols)"
   ]
  },
  {
   "cell_type": "code",
   "execution_count": 59,
   "metadata": {},
   "outputs": [
    {
     "data": {
      "text/plain": [
       "array([False, False, False, ..., False, False, False])"
      ]
     },
     "execution_count": 59,
     "metadata": {},
     "output_type": "execute_result"
    }
   ],
   "source": [
    "rolls.sum(axis=1) == 2\n",
    "#dice total has to equal 2"
   ]
  },
  {
   "cell_type": "code",
   "execution_count": 60,
   "metadata": {},
   "outputs": [
    {
     "data": {
      "text/plain": [
       "0.0275"
      ]
     },
     "execution_count": 60,
     "metadata": {},
     "output_type": "execute_result"
    }
   ],
   "source": [
    "(rolls.sum(axis=1) == 2).mean()"
   ]
  },
  {
   "cell_type": "markdown",
   "metadata": {},
   "source": [
    "## #2 There's a 30% chance my son takes a nap on any given weekend day. What is the chance that he takes a nap at least one day this weekend? What is the probability that he doesn't nap at all?"
   ]
  },
  {
   "cell_type": "code",
   "execution_count": 62,
   "metadata": {},
   "outputs": [],
   "source": [
    "p_nap = .3 #30% probability of nap\n",
    "\n",
    "ndays = n_cols = 2 #saturday and sunday (#of days)\n",
    "\n",
    "n_simulated_weekends = n_rows = 10**6 #number of attempts"
   ]
  },
  {
   "cell_type": "markdown",
   "metadata": {},
   "source": [
    "To determine whether or not a nap is taken on a given day, we'll generate a random number between 0 and 1, and say that it is a nap if it is less than our probability of taking a nap."
   ]
  },
  {
   "cell_type": "code",
   "execution_count": 66,
   "metadata": {},
   "outputs": [],
   "source": [
    "trails = np.random.random((n_rows, n_cols))\n",
    "#gives randoms between 0 and 1"
   ]
  },
  {
   "cell_type": "code",
   "execution_count": 67,
   "metadata": {},
   "outputs": [
    {
     "data": {
      "text/plain": [
       "array([[0.25899888, 0.62842359],\n",
       "       [0.12435768, 0.87888073],\n",
       "       [0.76481329, 0.90518264],\n",
       "       [0.04701055, 0.0030957 ],\n",
       "       [0.28765568, 0.35455063],\n",
       "       [0.09130286, 0.82251575],\n",
       "       [0.62664399, 0.16970214],\n",
       "       [0.17970919, 0.474695  ],\n",
       "       [0.77112604, 0.99291645],\n",
       "       [0.73150172, 0.55338451]])"
      ]
     },
     "execution_count": 67,
     "metadata": {},
     "output_type": "execute_result"
    }
   ],
   "source": [
    "trails[:10]"
   ]
  },
  {
   "cell_type": "code",
   "execution_count": 69,
   "metadata": {},
   "outputs": [
    {
     "data": {
      "text/plain": [
       "array([[ True, False],\n",
       "       [ True, False],\n",
       "       [False, False],\n",
       "       ...,\n",
       "       [ True, False],\n",
       "       [False, False],\n",
       "       [False, False]])"
      ]
     },
     "execution_count": 69,
     "metadata": {},
     "output_type": "execute_result"
    }
   ],
   "source": [
    "naps= trails < p_nap #probability that trails is less than 30%\n",
    "naps"
   ]
  },
  {
   "cell_type": "markdown",
   "metadata": {},
   "source": [
    "Now that we have each day as either true or false, we can take the sum of each row to find the total number of naps for the weekend. When we sum an array of boolean values, numpy will treat `True` as 1 and `False` as 0."
   ]
  },
  {
   "cell_type": "code",
   "execution_count": 70,
   "metadata": {},
   "outputs": [
    {
     "data": {
      "text/plain": [
       "array([1, 1, 0, ..., 1, 0, 0])"
      ]
     },
     "execution_count": 70,
     "metadata": {},
     "output_type": "execute_result"
    }
   ],
   "source": [
    "naps.sum(axis=1)\n",
    "#0 = no nap\n",
    "#1 = nap on 1 day\n",
    "#2 = nap on both days"
   ]
  },
  {
   "cell_type": "code",
   "execution_count": 74,
   "metadata": {},
   "outputs": [
    {
     "data": {
      "text/plain": [
       "0.509758"
      ]
     },
     "execution_count": 74,
     "metadata": {},
     "output_type": "execute_result"
    }
   ],
   "source": [
    "# We can use this to answer our original questions, what is the probability that AT LEAST one nap is taken?\n",
    "(naps.sum(axis=1) >= 1).mean()"
   ]
  },
  {
   "cell_type": "code",
   "execution_count": 75,
   "metadata": {},
   "outputs": [
    {
     "data": {
      "text/plain": [
       "0.490242"
      ]
     },
     "execution_count": 75,
     "metadata": {},
     "output_type": "execute_result"
    }
   ],
   "source": [
    "# What is the probability no naps are taken?\n",
    "(naps.sum(axis=1) == 0).mean()"
   ]
  },
  {
   "cell_type": "code",
   "execution_count": 76,
   "metadata": {},
   "outputs": [
    {
     "data": {
      "text/plain": [
       "0.090121"
      ]
     },
     "execution_count": 76,
     "metadata": {},
     "output_type": "execute_result"
    }
   ],
   "source": [
    "# What is the probability naps being taken on both days?\n",
    "(naps.sum(axis=1) == 2).mean()"
   ]
  },
  {
   "cell_type": "markdown",
   "metadata": {},
   "source": [
    "## #3  There are ten options in a blind-box style collectable, but you are only likely to get the one you want the most at a probability of one out of every twenty boxes because its a little rarer.\n",
    "\n",
    "What is the probability of getting your desired collectable if you buy three blindbox toys?"
   ]
  },
  {
   "cell_type": "code",
   "execution_count": 78,
   "metadata": {},
   "outputs": [],
   "source": [
    "p_collect = .05 #1/20 probability of desired collectable\n",
    "\n",
    "n_boxes = ncols= 3 #number of boxes\n",
    "\n",
    "n_trails = n_rows = 10**6 #number of attempts"
   ]
  },
  {
   "cell_type": "code",
   "execution_count": 84,
   "metadata": {},
   "outputs": [
    {
     "data": {
      "text/plain": [
       "array([[0.68056255, 0.78103963],\n",
       "       [0.72462227, 0.24469949],\n",
       "       [0.57703801, 0.78767832],\n",
       "       ...,\n",
       "       [0.61142449, 0.03689136],\n",
       "       [0.89539292, 0.91427327],\n",
       "       [0.21325399, 0.65909719]])"
      ]
     },
     "execution_count": 84,
     "metadata": {},
     "output_type": "execute_result"
    }
   ],
   "source": [
    "total_purchases = np.random.random((n_rows, n_cols))\n",
    "total_purchases"
   ]
  },
  {
   "cell_type": "code",
   "execution_count": 85,
   "metadata": {},
   "outputs": [
    {
     "data": {
      "text/plain": [
       "array([[False, False],\n",
       "       [False, False],\n",
       "       [False, False],\n",
       "       ...,\n",
       "       [False,  True],\n",
       "       [False, False],\n",
       "       [False, False]])"
      ]
     },
     "execution_count": 85,
     "metadata": {},
     "output_type": "execute_result"
    }
   ],
   "source": [
    "total_purchases < p_collect"
   ]
  },
  {
   "cell_type": "code",
   "execution_count": 87,
   "metadata": {},
   "outputs": [
    {
     "data": {
      "text/plain": [
       "0.097729"
      ]
     },
     "execution_count": 87,
     "metadata": {},
     "output_type": "execute_result"
    }
   ],
   "source": [
    "((total_purchases < p_collect).sum(axis=1) >=1).mean()"
   ]
  },
  {
   "cell_type": "markdown",
   "metadata": {},
   "source": [
    "## #4 One With Dataframes\n",
    "\n",
    "Let's take a look at one more problem:\n",
    "\n",
    "> What is the probability of getting at least one 3 in 3 dice rolls?\n",
    "\n",
    "To simulate this, we'll use a similar strategy to how we modeled the dice rolls in the previous example, but this time, we'll store the results in a pandas dataframe so that we can apply a lambda function that will check to see if one of the rolls was a 3."
   ]
  },
  {
   "cell_type": "code",
   "execution_count": 94,
   "metadata": {},
   "outputs": [],
   "source": [
    "n_trials = nrows = 10 **6 #number of attemps\n",
    "n_dice_rolled = ncols = 3 #number of dice \n",
    "\n",
    "rolls = np.random.choice([1,2,3,4,5,6], n_trials * n_dice_rolled)"
   ]
  },
  {
   "cell_type": "code",
   "execution_count": 97,
   "metadata": {},
   "outputs": [
    {
     "data": {
      "text/plain": [
       "0          False\n",
       "1          False\n",
       "2          False\n",
       "3          False\n",
       "4          False\n",
       "           ...  \n",
       "2999995    False\n",
       "2999996    False\n",
       "2999997    False\n",
       "2999998    False\n",
       "2999999    False\n",
       "Length: 3000000, dtype: bool"
      ]
     },
     "execution_count": 97,
     "metadata": {},
     "output_type": "execute_result"
    }
   ],
   "source": [
    "pd.DataFrame(rolls).apply(lambda row: 3 in row.values, axis=1)"
   ]
  },
  {
   "cell_type": "code",
   "execution_count": 98,
   "metadata": {},
   "outputs": [
    {
     "data": {
      "text/plain": [
       "0.166653"
      ]
     },
     "execution_count": 98,
     "metadata": {},
     "output_type": "execute_result"
    }
   ],
   "source": [
    "pd.DataFrame(rolls).apply(lambda row: 3 in row.values, axis=1).mean()"
   ]
  },
  {
   "cell_type": "markdown",
   "metadata": {},
   "source": [
    "Let's break down what's going on here:\n",
    "\n",
    "1. First we assign values for the number of rows and columns we are going to use\n",
    "1. Next we create the `rolls` variable that holds a 3 x 10,000 matrix where each element is a randomly chosen number from 1 to 6\n",
    "1. Lastly we create a dataframe from the rolls\n",
    "    1. `pd.DataFrame(rolls)` converts our 2d numpy matrix to a pandas DataFrame\n",
    "    1. `.apply(...` applies a function to each **row** in our dataframe, because we specified `axis=1`, the function will be called with each row as it's argument. The body of the function checks to see if the value `3` is in the values of the row, and will return either `True` or `False`\n",
    "    1. `.mean()` takes our resulting series of boolean values, and treats `True` as 1 and `False` as 0, to give us the average rate of `True`s, in this case, the simulated probability of getting a 3 in 3 dice rolls."
   ]
  },
  {
   "cell_type": "markdown",
   "metadata": {},
   "source": [
    "## #5 Recreate the blindbox problem utilizing the above strategy!"
   ]
  },
  {
   "cell_type": "code",
   "execution_count": 100,
   "metadata": {},
   "outputs": [],
   "source": [
    "p_collect = .05 #1/20 probability of desired collectable\n",
    "\n",
    "n_boxes = ncols= 3 #number of boxes\n",
    "\n",
    "n_trails = n_rows = 10**6 #number of attempts"
   ]
  },
  {
   "cell_type": "code",
   "execution_count": 101,
   "metadata": {},
   "outputs": [
    {
     "data": {
      "text/plain": [
       "array([[0.90559479, 0.53126914],\n",
       "       [0.02318502, 0.89400176],\n",
       "       [0.41830072, 0.92737271],\n",
       "       ...,\n",
       "       [0.80327722, 0.30264089],\n",
       "       [0.70007345, 0.48303601],\n",
       "       [0.72744118, 0.38709401]])"
      ]
     },
     "execution_count": 101,
     "metadata": {},
     "output_type": "execute_result"
    }
   ],
   "source": [
    "total_purchases = np.random.random((n_rows, n_cols))\n",
    "total_purchases"
   ]
  },
  {
   "cell_type": "code",
   "execution_count": 102,
   "metadata": {},
   "outputs": [
    {
     "data": {
      "text/plain": [
       "0         False\n",
       "1         False\n",
       "2         False\n",
       "3         False\n",
       "4         False\n",
       "          ...  \n",
       "999995    False\n",
       "999996    False\n",
       "999997    False\n",
       "999998    False\n",
       "999999    False\n",
       "Length: 1000000, dtype: bool"
      ]
     },
     "execution_count": 102,
     "metadata": {},
     "output_type": "execute_result"
    }
   ],
   "source": [
    "pd.DataFrame(total_purchases).apply(lambda row: 3 in row.values, axis=1)"
   ]
  },
  {
   "cell_type": "code",
   "execution_count": 104,
   "metadata": {},
   "outputs": [
    {
     "data": {
      "text/plain": [
       "0.166653"
      ]
     },
     "execution_count": 104,
     "metadata": {},
     "output_type": "execute_result"
    }
   ],
   "source": [
    "pd.DataFrame(rolls).apply(lambda row: 3 in row.values, axis=1).mean()"
   ]
  },
  {
   "cell_type": "code",
   "execution_count": null,
   "metadata": {},
   "outputs": [],
   "source": []
  }
 ],
 "metadata": {
  "kernelspec": {
   "display_name": "Python 3",
   "language": "python",
   "name": "python3"
  },
  "language_info": {
   "codemirror_mode": {
    "name": "ipython",
    "version": 3
   },
   "file_extension": ".py",
   "mimetype": "text/x-python",
   "name": "python",
   "nbconvert_exporter": "python",
   "pygments_lexer": "ipython3",
   "version": "3.8.5"
  }
 },
 "nbformat": 4,
 "nbformat_minor": 4
}
