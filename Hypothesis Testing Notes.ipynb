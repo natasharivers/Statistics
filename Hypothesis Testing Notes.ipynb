{
 "cells": [
  {
   "cell_type": "markdown",
   "metadata": {},
   "source": []
  },
  {
   "cell_type": "markdown",
   "metadata": {},
   "source": [
    "## Statistics (Stats):\n",
    "\n",
    "   - descriptive stats\n",
    "        - histograms\n",
    "        \n",
    "   - frequency analysis\n",
    "        - discrete variables\n",
    "        - categorical variables\n",
    "        \n",
    "   - hypthosis testing "
   ]
  },
  {
   "cell_type": "markdown",
   "metadata": {},
   "source": [
    "## Visualizations (Viz):\n",
    "\n",
    "   - Univariate Plots\n",
    "        - only one variable \n",
    "            - (ex) sum of money\n",
    "            \n",
    "   - Bivariate Plots\n",
    "       - plotting two continuous variables\n",
    "           - (ex) scatter plot of \"sqft by price\"\n",
    "       - plotting one continuous by one categorical variable\n",
    "           - (ex) barchart of \"price by number of bedrooms\"\n",
    "       - plotting two categorical variables\n",
    "           - (ex) stacked bar of fiber customers by churn \n",
    "           - x = fiber, no fiber\n",
    "           - y = # of customers\n",
    "           - will need legend (churn, no churn)"
   ]
  },
  {
   "cell_type": "markdown",
   "metadata": {},
   "source": [
    "# Hypothesis Testing"
   ]
  },
  {
   "cell_type": "markdown",
   "metadata": {},
   "source": [
    "- computes the probability of something happening AND gives a visual\n",
    "\n",
    "- see something that looks significant but we are unsure... hypothesis testing will give us that power\n",
    "\n",
    "- Line of Best Fit: \n",
    "    - Spearman's Correlation Test- test linear relationship\n",
    "    - Pearson's Correlation Test- test linear relationship\n",
    "    \n"
   ]
  },
  {
   "cell_type": "markdown",
   "metadata": {},
   "source": [
    "## T-Test, ANOVA, Mann-Whitney Test"
   ]
  },
  {
   "cell_type": "markdown",
   "metadata": {},
   "source": [
    "#### (ex) do two story homes cost more than one story homes per square foot?"
   ]
  },
  {
   "cell_type": "markdown",
   "metadata": {},
   "source": [
    "#### FIRST: run Spearman's then you will get returned \"p value\" and \"test statistic\"\n",
    "- pvalue = probaility that what youve seen is by chance\n",
    "- the higher the pvalue is... the more it was actually by chance\n",
    "    - (ex): pvalue = .88 (very high likelyhood it was by chance)\n",
    "    - (ex): pvalue =.00000023 (very low likelyhood it was by chance)"
   ]
  },
  {
   "cell_type": "markdown",
   "metadata": {},
   "source": [
    "#### Correlation Tests:\n",
    "- Spearmans\n",
    "- Pearsons\n",
    "\n",
    "#### Testing Types:\n",
    "- chiSquare: Continuous Vs Discrete\n",
    "- T-test: Discrete Vs Discrete\n",
    "- Spearmans or Pearsons: continuous vs continuous\n",
    "    \n",
    "- Comparing Means value of two things across two groups\n",
    "\n",
    "#### Continuous Variable:\n",
    "- dollars per square feet\n",
    "- square feet\n",
    "- housing price\n",
    "\n",
    "#### Discrete/ Categorical Variable:\n",
    "- fiber or no fiber\n",
    "- churn or no churn\n",
    "- one, two or three story home"
   ]
  },
  {
   "cell_type": "code",
   "execution_count": null,
   "metadata": {},
   "outputs": [],
   "source": []
  }
 ],
 "metadata": {
  "kernelspec": {
   "display_name": "Python 3",
   "language": "python",
   "name": "python3"
  },
  "language_info": {
   "codemirror_mode": {
    "name": "ipython",
    "version": 3
   },
   "file_extension": ".py",
   "mimetype": "text/x-python",
   "name": "python",
   "nbconvert_exporter": "python",
   "pygments_lexer": "ipython3",
   "version": "3.8.5"
  }
 },
 "nbformat": 4,
 "nbformat_minor": 4
}
