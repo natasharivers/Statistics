{
 "cells": [
  {
   "cell_type": "code",
   "execution_count": 1,
   "metadata": {},
   "outputs": [],
   "source": [
    "%matplotlib inline\n",
    "import numpy as np\n",
    "import pandas as pd\n",
    "\n",
    "np.random.seed(1349)"
   ]
  },
  {
   "cell_type": "markdown",
   "metadata": {},
   "source": [
    "## Statistics Exercises"
   ]
  },
  {
   "cell_type": "markdown",
   "metadata": {},
   "source": [
    "1. How likely is it that you roll doubles when rolling two dice?\n",
    "\n",
    "1. If you flip 8 coins, what is the probability of getting exactly 3 heads? What is the probability of getting more than 3 heads?\n",
    "\n",
    "1. There are approximitely 3 web development cohorts for every 1 data science cohort at Codeup. Assuming that Codeup randomly selects an alumni to put on a billboard, what are the odds that the two billboards I drive past both have data science students on them?\n",
    "\n",
    "1. Codeup students buy, on average, 3 poptart packages (+- 1.5) a day from the snack vending machine. If on monday the machine is restocked with 17 poptart packages, how likely is it that I will be able to buy some poptarts on Friday afternoon?\n",
    "\n",
    "1. Compare Heights\n",
    "\n",
    "    - Men have an average height of 178 cm and standard deviation of 8cm.\n",
    "    - Women have a mean of 170, sd = 6cm.\n",
    "    - If a man and woman are chosen at random, P(woman taller than man)?\n",
    "\n",
    "1. When installing anaconda on a student's computer, there's a 1 in 250 chance\n",
    "   that the download is corrupted and the installation fails. What are the odds\n",
    "   that after having 50 students download anaconda, no one has an installation\n",
    "   issue?  100 students?\n",
    "\n",
    "    What is the probability that we observe an installation issue within the first\n",
    "    150 students that download anaconda?\n",
    "\n",
    "    How likely is it that 450 students all download anaconda without an issue?\n",
    "\n",
    "1. There's a 70% chance on any given day that there will be at least one food\n",
    "   truck at Travis Park. However, you haven't seen a food truck there in 3 days.\n",
    "   How unlikely is this?\n",
    "\n",
    "    How likely is it that a food truck will show up sometime this week?\n",
    "\n",
    "1. If 23 people are in the same room, what are the odds that two of them share a birthday? What if it's 20 people? 40?"
   ]
  },
  {
   "cell_type": "markdown",
   "metadata": {},
   "source": [
    "#### 1. How likely is it that you roll doubles when rolling two dice?"
   ]
  },
  {
   "cell_type": "code",
   "execution_count": 2,
   "metadata": {},
   "outputs": [
    {
     "data": {
      "text/plain": [
       "0.16666666666666666"
      ]
     },
     "execution_count": 2,
     "metadata": {},
     "output_type": "execute_result"
    }
   ],
   "source": [
    "#answer via probability\n",
    "6/36\n",
    "#(1,1) (2,2) (3,3) (4,4) (5,5) (6,6)"
   ]
  },
  {
   "cell_type": "code",
   "execution_count": 3,
   "metadata": {},
   "outputs": [
    {
     "data": {
      "text/plain": [
       "array([[3, 2],\n",
       "       [5, 3],\n",
       "       [4, 4],\n",
       "       ...,\n",
       "       [3, 2],\n",
       "       [3, 5],\n",
       "       [2, 2]])"
      ]
     },
     "execution_count": 3,
     "metadata": {},
     "output_type": "execute_result"
    }
   ],
   "source": [
    "#answer via simulation\n",
    "n_trials = nrows= 10_000 #number of times we're going to roll\n",
    "n_dice = ncols= 2 #number of dice\n",
    "\n",
    "rolls = np.random.choice([1,2,3,4,5,6], n_trials * n_dice).reshape(nrows,ncols)\n",
    "rolls"
   ]
  },
  {
   "cell_type": "code",
   "execution_count": 4,
   "metadata": {},
   "outputs": [
    {
     "data": {
      "text/plain": [
       "0.1596"
      ]
     },
     "execution_count": 4,
     "metadata": {},
     "output_type": "execute_result"
    }
   ],
   "source": [
    "rolls = pd.DataFrame(rolls)\n",
    "rolls.apply(lambda x:min(x) == max(x), 1).mean()"
   ]
  },
  {
   "cell_type": "markdown",
   "metadata": {},
   "source": [
    "#### #2 If you flip 8 coins, what is the probability of getting exactly 3 heads? What is the probability of getting more than 3 heads?"
   ]
  },
  {
   "cell_type": "code",
   "execution_count": 5,
   "metadata": {},
   "outputs": [],
   "source": [
    "Heads =1\n",
    "Tails = 0\n",
    "coin=[Heads, Tails]"
   ]
  },
  {
   "cell_type": "code",
   "execution_count": 6,
   "metadata": {},
   "outputs": [],
   "source": [
    "n_trials = n_rows = 10_000 #number of tries\n",
    "n_coins = n_cols = 8 #number of coins"
   ]
  },
  {
   "cell_type": "code",
   "execution_count": 7,
   "metadata": {},
   "outputs": [],
   "source": [
    "coin_flip= np.random.choice(coin, (n_rows, ncols))\n",
    "sum_trial = coin_flip.sum(axis=1)"
   ]
  },
  {
   "cell_type": "code",
   "execution_count": 8,
   "metadata": {},
   "outputs": [],
   "source": [
    "exactly_three = sum_trial == 3 #this means that its exactly equal to 3"
   ]
  },
  {
   "cell_type": "code",
   "execution_count": 9,
   "metadata": {},
   "outputs": [
    {
     "data": {
      "text/plain": [
       "0.0"
      ]
     },
     "execution_count": 9,
     "metadata": {},
     "output_type": "execute_result"
    }
   ],
   "source": [
    "rate_exactly_three = exactly_three.mean() #this will give us the average times that it was exactly 3\n",
    "rate_exactly_three"
   ]
  },
  {
   "cell_type": "markdown",
   "metadata": {},
   "source": [
    "#### #2 TEACHER SOLUTION WALK THROUGH"
   ]
  },
  {
   "cell_type": "code",
   "execution_count": 10,
   "metadata": {},
   "outputs": [],
   "source": [
    "n_rows= 1_000_000\n",
    "n_col = 8\n",
    "heads =1\n",
    "tails=0\n",
    "flips= np.random.choice([heads, tails], size =(n_rows, n_cols))"
   ]
  },
  {
   "cell_type": "code",
   "execution_count": 11,
   "metadata": {},
   "outputs": [
    {
     "data": {
      "text/plain": [
       "array([[1, 0, 0, ..., 0, 0, 1],\n",
       "       [1, 0, 1, ..., 1, 0, 1],\n",
       "       [0, 0, 1, ..., 0, 1, 1],\n",
       "       ...,\n",
       "       [1, 1, 0, ..., 1, 1, 1],\n",
       "       [1, 0, 0, ..., 1, 0, 1],\n",
       "       [0, 1, 1, ..., 1, 0, 1]])"
      ]
     },
     "execution_count": 11,
     "metadata": {},
     "output_type": "execute_result"
    }
   ],
   "source": [
    "flips"
   ]
  },
  {
   "cell_type": "code",
   "execution_count": 12,
   "metadata": {},
   "outputs": [],
   "source": [
    "num_heads = flips.sum(axis=1)\n",
    "calculated_prob=(num_heads == 3).mean()"
   ]
  },
  {
   "cell_type": "code",
   "execution_count": 13,
   "metadata": {},
   "outputs": [
    {
     "data": {
      "text/plain": [
       "0.218928"
      ]
     },
     "execution_count": 13,
     "metadata": {},
     "output_type": "execute_result"
    }
   ],
   "source": [
    "calculated_prob"
   ]
  },
  {
   "cell_type": "code",
   "execution_count": 14,
   "metadata": {},
   "outputs": [],
   "source": [
    "#More than 3"
   ]
  },
  {
   "cell_type": "code",
   "execution_count": 15,
   "metadata": {},
   "outputs": [],
   "source": [
    "calculated_prob=(num_heads >= 3).mean()"
   ]
  },
  {
   "cell_type": "code",
   "execution_count": 16,
   "metadata": {},
   "outputs": [
    {
     "data": {
      "text/plain": [
       "0.85603"
      ]
     },
     "execution_count": 16,
     "metadata": {},
     "output_type": "execute_result"
    }
   ],
   "source": [
    "calculated_prob"
   ]
  },
  {
   "cell_type": "markdown",
   "metadata": {},
   "source": [
    "#### #3 There are approximitely 3 web development cohorts for every 1 data science cohort at Codeup. Assuming that Codeup randomly selects an alumni to put on a billboard, what are the odds that the two billboards I drive past both have data science students on them?"
   ]
  },
  {
   "cell_type": "code",
   "execution_count": 17,
   "metadata": {},
   "outputs": [
    {
     "data": {
      "text/plain": [
       "0.0625"
      ]
     },
     "execution_count": 17,
     "metadata": {},
     "output_type": "execute_result"
    }
   ],
   "source": [
    "# ANSWER with probability\n",
    "# 3 webdev per 1 dS == 1/4 classes is DS == 25% of classes are DS\n",
    "# 2 billboards\n",
    "# odds of both having a data science student on it\n",
    "# 25% chance per billboard * 2 billboards = 1/8\n",
    "(1/4) * (1/4)"
   ]
  },
  {
   "cell_type": "code",
   "execution_count": 18,
   "metadata": {},
   "outputs": [],
   "source": [
    "#ANSWER with simulation\n",
    "p_WDev = 0.75 #3/4 are WDev classes\n",
    "p_DS = 0.25 #1/4 are DS classes\n",
    "n_trails = n_rows = 10_000 #number of attempts\n",
    "n_billboards = n_cols= 2 #number of billboards"
   ]
  },
  {
   "cell_type": "code",
   "execution_count": 19,
   "metadata": {},
   "outputs": [],
   "source": [
    "data= np.random.random((n_rows, n_cols))"
   ]
  },
  {
   "cell_type": "code",
   "execution_count": 20,
   "metadata": {},
   "outputs": [
    {
     "data": {
      "text/plain": [
       "array([[False, False],\n",
       "       [ True, False],\n",
       "       [False, False],\n",
       "       ...,\n",
       "       [ True, False],\n",
       "       [False, False],\n",
       "       [False, False]])"
      ]
     },
     "execution_count": 20,
     "metadata": {},
     "output_type": "execute_result"
    }
   ],
   "source": [
    "DS_billboard = data < p_DS #chances of DS on billboard = random being less than 0.25\n",
    "DS_billboard"
   ]
  },
  {
   "cell_type": "code",
   "execution_count": 21,
   "metadata": {},
   "outputs": [
    {
     "data": {
      "text/plain": [
       "0.0616"
      ]
     },
     "execution_count": 21,
     "metadata": {},
     "output_type": "execute_result"
    }
   ],
   "source": [
    "(DS_billboard.sum(axis=1)==2).mean() #this gives the average of how many times DS student being on billboard is equal to 2"
   ]
  },
  {
   "cell_type": "markdown",
   "metadata": {},
   "source": [
    "#### #4 Codeup students buy, on average, 3 poptart packages (+- 1.5) a day from the snack vending machine. If on monday the machine is restocked with 17 poptart packages, how likely is it that I will be able to buy some poptarts on Friday afternoon?"
   ]
  },
  {
   "cell_type": "code",
   "execution_count": 22,
   "metadata": {},
   "outputs": [],
   "source": [
    "# 1.5-4.5 puchases a day (average 3)\n",
    "# 17 packages every monday\n",
    "#probability to buy one on Friday\n",
    "#Mon:17 - (1.5-4.5) = 15.5-12.5 =day 1 prob = 100%\n",
    "#Tues: 15-12.5 - (1.5-4.5)= 13.5-8 = day 2 prob 100% \n",
    "#Wed:13.5-8 - (1.5-4.5)= 12-3.5 = day 3 prob 100%\n",
    "#Thurs: 12-3.5 - (1.5-4.5)= 10.5-(-1) = day 4, could have 10.5 or -1 left / 50% chance\n",
    "#Friday: 10.5 -(-1) - (1.5-4.5) = 9-(-5.5)= day 4, could have 9 or -5.5/ 50% chance"
   ]
  },
  {
   "cell_type": "code",
   "execution_count": 23,
   "metadata": {},
   "outputs": [],
   "source": [
    "n_packages = 17 #number of poptarts\n",
    "n_days = 5 #number of days (M-F days of class)\n",
    "n_trials = n_rows = 10_000 #number of attempts"
   ]
  },
  {
   "cell_type": "code",
   "execution_count": 24,
   "metadata": {},
   "outputs": [
    {
     "data": {
      "text/plain": [
       "array([[ 3.,  4.,  4.,  5.,  3.],\n",
       "       [ 3.,  1.,  4.,  2.,  4.],\n",
       "       [ 3.,  5.,  3.,  3.,  2.],\n",
       "       ...,\n",
       "       [ 3.,  3.,  5.,  2.,  3.],\n",
       "       [-0.,  2.,  4.,  3.,  5.],\n",
       "       [ 3.,  4.,  4.,  6.,  2.]])"
      ]
     },
     "execution_count": 24,
     "metadata": {},
     "output_type": "execute_result"
    }
   ],
   "source": [
    "packages = np.round(np.random.normal(3,1.5, (n_rows, n_days)))\n",
    "packages\n",
    "#this is acknowledging that 3 is the average but the range is +-1.5"
   ]
  },
  {
   "cell_type": "code",
   "execution_count": 25,
   "metadata": {},
   "outputs": [
    {
     "data": {
      "text/plain": [
       "array([[ 3.,  4.,  4.,  5.,  3.],\n",
       "       [ 3.,  1.,  4.,  2.,  4.],\n",
       "       [ 3.,  5.,  3.,  3.,  2.],\n",
       "       ...,\n",
       "       [ 3.,  3.,  5.,  2.,  3.],\n",
       "       [-0.,  2.,  4.,  3.,  5.],\n",
       "       [ 3.,  4.,  4.,  6.,  2.]])"
      ]
     },
     "execution_count": 25,
     "metadata": {},
     "output_type": "execute_result"
    }
   ],
   "source": [
    "package_purchased = np.where(packages < 0,0,packages)\n",
    "package_purchased"
   ]
  },
  {
   "cell_type": "code",
   "execution_count": 26,
   "metadata": {},
   "outputs": [
    {
     "data": {
      "text/plain": [
       "array([19., 14., 16., ..., 16., 14., 19.])"
      ]
     },
     "execution_count": 26,
     "metadata": {},
     "output_type": "execute_result"
    }
   ],
   "source": [
    "all_packages = package_purchased.sum(axis=1)\n",
    "all_packages"
   ]
  },
  {
   "cell_type": "code",
   "execution_count": 27,
   "metadata": {},
   "outputs": [
    {
     "data": {
      "text/plain": [
       "array([False,  True,  True, ...,  True,  True, False])"
      ]
     },
     "execution_count": 27,
     "metadata": {},
     "output_type": "execute_result"
    }
   ],
   "source": [
    "package_left_friday = all_packages < 17\n",
    "package_left_friday"
   ]
  },
  {
   "cell_type": "code",
   "execution_count": 28,
   "metadata": {},
   "outputs": [
    {
     "data": {
      "text/plain": [
       "0.673"
      ]
     },
     "execution_count": 28,
     "metadata": {},
     "output_type": "execute_result"
    }
   ],
   "source": [
    "prob_left_friday = package_left_friday.mean()\n",
    "prob_left_friday"
   ]
  },
  {
   "cell_type": "markdown",
   "metadata": {},
   "source": [
    "#### # 4 TEACHER PROBLEM WORK THROUGH"
   ]
  },
  {
   "cell_type": "code",
   "execution_count": 29,
   "metadata": {},
   "outputs": [],
   "source": [
    "pop_avg = 3\n",
    "pop_std = 1.5\n",
    "n_cols= 5\n",
    "n_rows = 1_000_000\n",
    "simulated_consumed_poptarts= np.random.normal(pop_avg, pop_std,(n_rows, n_days))"
   ]
  },
  {
   "cell_type": "code",
   "execution_count": 30,
   "metadata": {},
   "outputs": [
    {
     "data": {
      "text/plain": [
       "array([[1.93834181, 3.75038676, 2.4075977 , 1.92056846, 1.89742193],\n",
       "       [3.75912825, 3.1006546 , 2.79885517, 3.3314    , 2.0283801 ],\n",
       "       [5.4869528 , 4.19134434, 2.28812109, 1.1017987 , 1.89620818],\n",
       "       ...,\n",
       "       [3.16739544, 4.14280843, 2.37444856, 4.73127214, 3.47785702],\n",
       "       [4.05230326, 4.62849836, 5.16748513, 5.70607992, 3.46096734],\n",
       "       [3.28999605, 3.29885121, 4.3258163 , 3.00450105, 2.75325065]])"
      ]
     },
     "execution_count": 30,
     "metadata": {},
     "output_type": "execute_result"
    }
   ],
   "source": [
    "simulated_consumed_poptarts"
   ]
  },
  {
   "cell_type": "code",
   "execution_count": 31,
   "metadata": {},
   "outputs": [
    {
     "data": {
      "text/plain": [
       "0.724643"
      ]
     },
     "execution_count": 31,
     "metadata": {},
     "output_type": "execute_result"
    }
   ],
   "source": [
    "calculated_prob = (simulated_consumed_poptarts.sum(axis=1) <17).mean()\n",
    "calculated_prob"
   ]
  },
  {
   "cell_type": "markdown",
   "metadata": {},
   "source": [
    "#### #5 Compare Heights\n",
    "- Men have an average height of 178 cm and standard deviation of 8cm.\n",
    "- Women have a mean of 170, sd = 6cm.\n",
    "- If a man and woman are chosen at random, P(woman taller than man)?"
   ]
  },
  {
   "cell_type": "code",
   "execution_count": 32,
   "metadata": {},
   "outputs": [],
   "source": [
    "#men = 178cm/sd:8cm\n",
    "#women = 170cm/sd: 6cm"
   ]
  },
  {
   "cell_type": "code",
   "execution_count": 33,
   "metadata": {},
   "outputs": [],
   "source": [
    "#height = random(height given, sd, number of attempts)\n",
    "M_height = np.random.normal(178,8,10000)\n",
    "W_height = np.random.normal(170,6,10000)"
   ]
  },
  {
   "cell_type": "code",
   "execution_count": 34,
   "metadata": {},
   "outputs": [
    {
     "data": {
      "text/html": [
       "<div>\n",
       "<style scoped>\n",
       "    .dataframe tbody tr th:only-of-type {\n",
       "        vertical-align: middle;\n",
       "    }\n",
       "\n",
       "    .dataframe tbody tr th {\n",
       "        vertical-align: top;\n",
       "    }\n",
       "\n",
       "    .dataframe thead th {\n",
       "        text-align: right;\n",
       "    }\n",
       "</style>\n",
       "<table border=\"1\" class=\"dataframe\">\n",
       "  <thead>\n",
       "    <tr style=\"text-align: right;\">\n",
       "      <th></th>\n",
       "      <th>Men</th>\n",
       "      <th>Women</th>\n",
       "    </tr>\n",
       "  </thead>\n",
       "  <tbody>\n",
       "    <tr>\n",
       "      <th>0</th>\n",
       "      <td>178.405087</td>\n",
       "      <td>174.654519</td>\n",
       "    </tr>\n",
       "    <tr>\n",
       "      <th>1</th>\n",
       "      <td>183.211322</td>\n",
       "      <td>162.683081</td>\n",
       "    </tr>\n",
       "    <tr>\n",
       "      <th>2</th>\n",
       "      <td>185.181752</td>\n",
       "      <td>172.214135</td>\n",
       "    </tr>\n",
       "    <tr>\n",
       "      <th>3</th>\n",
       "      <td>176.147762</td>\n",
       "      <td>166.227237</td>\n",
       "    </tr>\n",
       "    <tr>\n",
       "      <th>4</th>\n",
       "      <td>192.348996</td>\n",
       "      <td>174.024506</td>\n",
       "    </tr>\n",
       "    <tr>\n",
       "      <th>...</th>\n",
       "      <td>...</td>\n",
       "      <td>...</td>\n",
       "    </tr>\n",
       "    <tr>\n",
       "      <th>9995</th>\n",
       "      <td>175.739903</td>\n",
       "      <td>168.719332</td>\n",
       "    </tr>\n",
       "    <tr>\n",
       "      <th>9996</th>\n",
       "      <td>166.983095</td>\n",
       "      <td>171.278414</td>\n",
       "    </tr>\n",
       "    <tr>\n",
       "      <th>9997</th>\n",
       "      <td>170.157626</td>\n",
       "      <td>170.780917</td>\n",
       "    </tr>\n",
       "    <tr>\n",
       "      <th>9998</th>\n",
       "      <td>182.937924</td>\n",
       "      <td>166.278568</td>\n",
       "    </tr>\n",
       "    <tr>\n",
       "      <th>9999</th>\n",
       "      <td>192.057324</td>\n",
       "      <td>174.270859</td>\n",
       "    </tr>\n",
       "  </tbody>\n",
       "</table>\n",
       "<p>10000 rows × 2 columns</p>\n",
       "</div>"
      ],
      "text/plain": [
       "             Men       Women\n",
       "0     178.405087  174.654519\n",
       "1     183.211322  162.683081\n",
       "2     185.181752  172.214135\n",
       "3     176.147762  166.227237\n",
       "4     192.348996  174.024506\n",
       "...          ...         ...\n",
       "9995  175.739903  168.719332\n",
       "9996  166.983095  171.278414\n",
       "9997  170.157626  170.780917\n",
       "9998  182.937924  166.278568\n",
       "9999  192.057324  174.270859\n",
       "\n",
       "[10000 rows x 2 columns]"
      ]
     },
     "execution_count": 34,
     "metadata": {},
     "output_type": "execute_result"
    }
   ],
   "source": [
    "heights = pd.DataFrame({'Men': M_height, 'Women': W_height})\n",
    "heights"
   ]
  },
  {
   "cell_type": "code",
   "execution_count": 35,
   "metadata": {},
   "outputs": [
    {
     "data": {
      "text/plain": [
       "0       -3.750569\n",
       "1      -20.528241\n",
       "2      -12.967617\n",
       "3       -9.920525\n",
       "4      -18.324490\n",
       "          ...    \n",
       "9995    -7.020571\n",
       "9996     4.295319\n",
       "9997     0.623291\n",
       "9998   -16.659356\n",
       "9999   -17.786465\n",
       "Length: 10000, dtype: float64"
      ]
     },
     "execution_count": 35,
     "metadata": {},
     "output_type": "execute_result"
    }
   ],
   "source": [
    "difference = heights['Women'] - heights ['Men'] #male height - female height\n",
    "difference"
   ]
  },
  {
   "cell_type": "code",
   "execution_count": 36,
   "metadata": {},
   "outputs": [
    {
     "data": {
      "text/plain": [
       "0       False\n",
       "1       False\n",
       "2       False\n",
       "3       False\n",
       "4       False\n",
       "        ...  \n",
       "9995    False\n",
       "9996     True\n",
       "9997     True\n",
       "9998    False\n",
       "9999    False\n",
       "Length: 10000, dtype: bool"
      ]
     },
     "execution_count": 36,
     "metadata": {},
     "output_type": "execute_result"
    }
   ],
   "source": [
    "women_taller = difference >0 \n",
    "women_taller"
   ]
  },
  {
   "cell_type": "code",
   "execution_count": 37,
   "metadata": {},
   "outputs": [
    {
     "data": {
      "text/plain": [
       "0.2128"
      ]
     },
     "execution_count": 37,
     "metadata": {},
     "output_type": "execute_result"
    }
   ],
   "source": [
    "rate_women_taller = women_taller.mean() #gives the rate of women being taller\n",
    "rate_women_taller"
   ]
  },
  {
   "cell_type": "code",
   "execution_count": 38,
   "metadata": {},
   "outputs": [],
   "source": [
    "#### #5 TEACHER WALK THROUGH"
   ]
  },
  {
   "cell_type": "code",
   "execution_count": 39,
   "metadata": {},
   "outputs": [],
   "source": [
    "men_avg= 178\n",
    "men_std=8\n",
    "women_avg=170\n",
    "women_std=6"
   ]
  },
  {
   "cell_type": "code",
   "execution_count": 40,
   "metadata": {},
   "outputs": [],
   "source": [
    "s_men = np.random.normal(men_avg, men_std, 1_000_000)"
   ]
  },
  {
   "cell_type": "code",
   "execution_count": 41,
   "metadata": {},
   "outputs": [],
   "source": [
    "s_women = np.random.normal(women_avg, women_std, 1_000_000)"
   ]
  },
  {
   "cell_type": "code",
   "execution_count": 42,
   "metadata": {},
   "outputs": [
    {
     "data": {
      "text/plain": [
       "0.212517"
      ]
     },
     "execution_count": 42,
     "metadata": {},
     "output_type": "execute_result"
    }
   ],
   "source": [
    "calculated_prob = (s_women > s_men).mean()\n",
    "calculated_prob"
   ]
  },
  {
   "cell_type": "markdown",
   "metadata": {},
   "source": [
    "#### #6 When installing anaconda on a student's computer, there's a 1 in 250 chance that the download is corrupted and the installation fails. \n",
    "- What are the odds that after having 50 students download anaconda, no one has an installation issue? 100 students?\n",
    "- What is the probability that we observe an installation issue within the first 150 students that download anaconda?\n",
    "- How likely is it that 450 students all download anaconda without an issue?"
   ]
  },
  {
   "cell_type": "code",
   "execution_count": 43,
   "metadata": {},
   "outputs": [],
   "source": [
    "# prob_fail = 1/250\n",
    "# 50 students == 0 fails\n",
    "# 100 students == 0 fails\n",
    "# 150 students >= 1 fail\n",
    "# 450 students == 0 fails"
   ]
  },
  {
   "cell_type": "code",
   "execution_count": 44,
   "metadata": {},
   "outputs": [],
   "source": [
    "p_fails = 1/250\n",
    "n_installs = n_cols = 150\n",
    "n_trials = n_rows = 10_000"
   ]
  },
  {
   "cell_type": "code",
   "execution_count": 45,
   "metadata": {},
   "outputs": [],
   "source": [
    "anaconda_installs = np.random.random((n_rows,n_cols))"
   ]
  },
  {
   "cell_type": "code",
   "execution_count": 46,
   "metadata": {},
   "outputs": [
    {
     "data": {
      "text/plain": [
       "array([[False, False, False, ..., False, False, False],\n",
       "       [False, False, False, ..., False, False, False],\n",
       "       [False, False, False, ..., False, False, False],\n",
       "       ...,\n",
       "       [False, False, False, ..., False, False, False],\n",
       "       [False, False, False, ..., False, False, False],\n",
       "       [False, False, False, ..., False, False, False]])"
      ]
     },
     "execution_count": 46,
     "metadata": {},
     "output_type": "execute_result"
    }
   ],
   "source": [
    "fails = anaconda_installs < p_fails \n",
    "fails"
   ]
  },
  {
   "cell_type": "code",
   "execution_count": 47,
   "metadata": {},
   "outputs": [
    {
     "data": {
      "text/plain": [
       "array([ True,  True,  True, ..., False, False, False])"
      ]
     },
     "execution_count": 47,
     "metadata": {},
     "output_type": "execute_result"
    }
   ],
   "source": [
    "sum_fail_installs = fails.sum(axis=1) > 0\n",
    "sum_fail_installs"
   ]
  },
  {
   "cell_type": "code",
   "execution_count": 48,
   "metadata": {},
   "outputs": [
    {
     "data": {
      "text/plain": [
       "0.4589"
      ]
     },
     "execution_count": 48,
     "metadata": {},
     "output_type": "execute_result"
    }
   ],
   "source": [
    "rate_fail_install = sum_fail_installs.mean()\n",
    "rate_fail_install"
   ]
  },
  {
   "cell_type": "code",
   "execution_count": 49,
   "metadata": {},
   "outputs": [],
   "source": [
    "# 50 people"
   ]
  },
  {
   "cell_type": "code",
   "execution_count": 50,
   "metadata": {},
   "outputs": [],
   "source": [
    "#450 people"
   ]
  },
  {
   "cell_type": "markdown",
   "metadata": {},
   "source": [
    "#### #6 TEACHER WALKTHROUGH"
   ]
  },
  {
   "cell_type": "code",
   "execution_count": 51,
   "metadata": {},
   "outputs": [],
   "source": [
    "# 50 installs"
   ]
  },
  {
   "cell_type": "code",
   "execution_count": 52,
   "metadata": {},
   "outputs": [],
   "source": [
    "nrows= 1_000_000\n",
    "n_cols= 50\n",
    "conda_fails= 1\n",
    "success = 0\n",
    "prob_fail= 1/250"
   ]
  },
  {
   "cell_type": "code",
   "execution_count": 53,
   "metadata": {},
   "outputs": [
    {
     "data": {
      "text/plain": [
       "0.004"
      ]
     },
     "execution_count": 53,
     "metadata": {},
     "output_type": "execute_result"
    }
   ],
   "source": [
    "prob_fail"
   ]
  },
  {
   "cell_type": "code",
   "execution_count": 54,
   "metadata": {},
   "outputs": [],
   "source": [
    "installs = np.random.random((nrows,n_cols))"
   ]
  },
  {
   "cell_type": "code",
   "execution_count": 55,
   "metadata": {},
   "outputs": [
    {
     "data": {
      "text/plain": [
       "array([[False, False, False, ..., False, False, False],\n",
       "       [False, False, False, ..., False, False, False],\n",
       "       [False, False, False, ..., False, False, False],\n",
       "       ...,\n",
       "       [False, False, False, ..., False, False, False],\n",
       "       [False, False, False, ..., False, False, False],\n",
       "       [False, False, False, ..., False, False, False]])"
      ]
     },
     "execution_count": 55,
     "metadata": {},
     "output_type": "execute_result"
    }
   ],
   "source": [
    "installs < prob_fail"
   ]
  },
  {
   "cell_type": "code",
   "execution_count": 56,
   "metadata": {},
   "outputs": [
    {
     "data": {
      "text/plain": [
       "0.818092"
      ]
     },
     "execution_count": 56,
     "metadata": {},
     "output_type": "execute_result"
    }
   ],
   "source": [
    "((installs < prob_fail).sum(axis=1)== 0).mean()"
   ]
  },
  {
   "cell_type": "code",
   "execution_count": 57,
   "metadata": {},
   "outputs": [],
   "source": [
    "#100 installs"
   ]
  },
  {
   "cell_type": "code",
   "execution_count": 58,
   "metadata": {},
   "outputs": [],
   "source": [
    "nrows= 1_000_000\n",
    "n_cols= 100\n",
    "conda_fails= 1\n",
    "success = 0\n",
    "prob_fail= 1/250"
   ]
  },
  {
   "cell_type": "code",
   "execution_count": 59,
   "metadata": {},
   "outputs": [],
   "source": [
    "installs = np.random.random((nrows,n_cols))"
   ]
  },
  {
   "cell_type": "code",
   "execution_count": 60,
   "metadata": {},
   "outputs": [
    {
     "data": {
      "text/plain": [
       "array([[False, False, False, ..., False, False, False],\n",
       "       [False, False, False, ..., False, False, False],\n",
       "       [False, False, False, ..., False, False, False],\n",
       "       ...,\n",
       "       [False, False, False, ..., False, False, False],\n",
       "       [False, False, False, ..., False, False,  True],\n",
       "       [False, False, False, ..., False, False, False]])"
      ]
     },
     "execution_count": 60,
     "metadata": {},
     "output_type": "execute_result"
    }
   ],
   "source": [
    "installs < prob_fail"
   ]
  },
  {
   "cell_type": "code",
   "execution_count": 61,
   "metadata": {},
   "outputs": [
    {
     "data": {
      "text/plain": [
       "0.66961"
      ]
     },
     "execution_count": 61,
     "metadata": {},
     "output_type": "execute_result"
    }
   ],
   "source": [
    "((installs < prob_fail).sum(axis=1)== 0).mean()"
   ]
  },
  {
   "cell_type": "code",
   "execution_count": 62,
   "metadata": {},
   "outputs": [],
   "source": [
    "# 150 installs at least 1 fail"
   ]
  },
  {
   "cell_type": "code",
   "execution_count": 63,
   "metadata": {},
   "outputs": [],
   "source": [
    "nrows= 1_000_000\n",
    "n_cols= 450\n",
    "conda_fails= 1\n",
    "success = 0\n",
    "prob_fail= 1/250"
   ]
  },
  {
   "cell_type": "code",
   "execution_count": null,
   "metadata": {},
   "outputs": [],
   "source": [
    "installs = np.random.random((nrows,n_cols))"
   ]
  },
  {
   "cell_type": "code",
   "execution_count": null,
   "metadata": {},
   "outputs": [],
   "source": [
    "installs < prob_fail"
   ]
  },
  {
   "cell_type": "code",
   "execution_count": null,
   "metadata": {},
   "outputs": [],
   "source": [
    "((installs < prob_fail).sum(axis=1)> 0).mean()"
   ]
  },
  {
   "cell_type": "code",
   "execution_count": null,
   "metadata": {},
   "outputs": [],
   "source": [
    "# 450 installs"
   ]
  },
  {
   "cell_type": "code",
   "execution_count": null,
   "metadata": {},
   "outputs": [],
   "source": [
    "nrows= 1_000_000\n",
    "n_cols= 450\n",
    "conda_fails= 1\n",
    "success = 0\n",
    "prob_fail= 1/250"
   ]
  },
  {
   "cell_type": "code",
   "execution_count": null,
   "metadata": {},
   "outputs": [],
   "source": [
    "installs = np.random.random((nrows,n_cols))"
   ]
  },
  {
   "cell_type": "code",
   "execution_count": null,
   "metadata": {},
   "outputs": [],
   "source": [
    "installs < prob_fail"
   ]
  },
  {
   "cell_type": "code",
   "execution_count": null,
   "metadata": {},
   "outputs": [],
   "source": [
    "((installs < prob_fail).sum(axis=1)== 0).mean()"
   ]
  },
  {
   "cell_type": "markdown",
   "metadata": {},
   "source": [
    "#### #7 There's a 70% chance on any given day that there will be at least one food truck at Travis Park. However, you haven't seen a food truck there in 3 days. How unlikely is this?"
   ]
  },
  {
   "cell_type": "code",
   "execution_count": null,
   "metadata": {},
   "outputs": [],
   "source": [
    "n_rows= 1_000_000\n",
    "n_cols= 3\n",
    "food_truck=1\n",
    "no_truck=0"
   ]
  },
  {
   "cell_type": "code",
   "execution_count": null,
   "metadata": {},
   "outputs": [],
   "source": [
    "data= np.random.random((n_rows,n_cols))"
   ]
  },
  {
   "cell_type": "code",
   "execution_count": null,
   "metadata": {},
   "outputs": [],
   "source": [
    "truck_prob = 0.7"
   ]
  },
  {
   "cell_type": "code",
   "execution_count": null,
   "metadata": {},
   "outputs": [],
   "source": [
    "((data < truck_prob).sum(axis=1)==0).mean()"
   ]
  },
  {
   "cell_type": "code",
   "execution_count": null,
   "metadata": {},
   "outputs": [],
   "source": [
    "# on last 2 days of week"
   ]
  },
  {
   "cell_type": "code",
   "execution_count": null,
   "metadata": {},
   "outputs": [],
   "source": [
    "n_rows= 1_000_000\n",
    "n_cols= 2 #2 days left in week\n",
    "food_truck=1\n",
    "no_truck=0\n",
    "truck_prob = 0.7"
   ]
  },
  {
   "cell_type": "code",
   "execution_count": null,
   "metadata": {},
   "outputs": [],
   "source": [
    "lunch_days = np.random.random((n_rows,n_cols))"
   ]
  },
  {
   "cell_type": "code",
   "execution_count": null,
   "metadata": {},
   "outputs": [],
   "source": [
    "calculated_prob= ((lunch_days < truck_prob).sum(axis=1) >0).mean()\n",
    "calculated_prob"
   ]
  },
  {
   "cell_type": "markdown",
   "metadata": {},
   "source": [
    "#### #8 If 23 people are in the same room, what are the odds that two of them share a birthday? What if it's 20 people? 40?"
   ]
  },
  {
   "cell_type": "code",
   "execution_count": null,
   "metadata": {},
   "outputs": [],
   "source": [
    "#365 days in a year\n",
    "#23 people in class\n",
    "#prob of same birthday"
   ]
  },
  {
   "cell_type": "code",
   "execution_count": null,
   "metadata": {},
   "outputs": [],
   "source": [
    "#23 students in the class"
   ]
  },
  {
   "cell_type": "code",
   "execution_count": null,
   "metadata": {},
   "outputs": [],
   "source": [
    "outcomes = range(0, 365) #number of days in a year\n",
    "n_trials= 23 #number of students\n",
    "n_simulated= 1_000_000 "
   ]
  },
  {
   "cell_type": "code",
   "execution_count": null,
   "metadata": {},
   "outputs": [],
   "source": [
    "classrooms= np.random.choice(outcomes, size=(n_simulated, n_trials))"
   ]
  },
  {
   "cell_type": "code",
   "execution_count": null,
   "metadata": {},
   "outputs": [],
   "source": [
    "len(np.unique(classrooms[3]))"
   ]
  },
  {
   "cell_type": "code",
   "execution_count": null,
   "metadata": {},
   "outputs": [],
   "source": [
    "list_of_twin_birthdays = [len(np.unique(classrooms[n])) for n in range(0, n_simulated-1) if len(np.unique(classrooms[n])) <23]"
   ]
  },
  {
   "cell_type": "code",
   "execution_count": null,
   "metadata": {},
   "outputs": [],
   "source": [
    "prop_twin_bdays = len(list_of_twin_birthdays) / n_simulated"
   ]
  },
  {
   "cell_type": "code",
   "execution_count": null,
   "metadata": {},
   "outputs": [],
   "source": [
    "prop_twin_bdays "
   ]
  },
  {
   "cell_type": "code",
   "execution_count": null,
   "metadata": {},
   "outputs": [],
   "source": [
    "# 20 students per class"
   ]
  },
  {
   "cell_type": "code",
   "execution_count": null,
   "metadata": {},
   "outputs": [],
   "source": [
    "outcomes = range(0, 365) #number of days in a year\n",
    "n_trials= 20 #number of students\n",
    "n_simulated= 1_000_000 "
   ]
  },
  {
   "cell_type": "code",
   "execution_count": null,
   "metadata": {},
   "outputs": [],
   "source": [
    "classrooms= np.random.choice(outcomes, size=(n_simulated, n_trials))"
   ]
  },
  {
   "cell_type": "code",
   "execution_count": null,
   "metadata": {},
   "outputs": [],
   "source": [
    "len(np.unique(classrooms[3]))"
   ]
  },
  {
   "cell_type": "code",
   "execution_count": null,
   "metadata": {},
   "outputs": [],
   "source": [
    "list_of_twin_birthdays = [len(np.unique(classrooms[n])) for n in range(0, n_simulated-1) if len(np.unique(classrooms[n])) <20]"
   ]
  },
  {
   "cell_type": "code",
   "execution_count": null,
   "metadata": {},
   "outputs": [],
   "source": [
    "prop_twin_bdays = len(list_of_twin_birthdays) / n_simulated"
   ]
  },
  {
   "cell_type": "code",
   "execution_count": null,
   "metadata": {},
   "outputs": [],
   "source": [
    "prop_twin_bdays "
   ]
  },
  {
   "cell_type": "code",
   "execution_count": null,
   "metadata": {},
   "outputs": [],
   "source": [
    "# 40 students per class"
   ]
  },
  {
   "cell_type": "code",
   "execution_count": null,
   "metadata": {},
   "outputs": [],
   "source": [
    "outcomes = range(0, 365) #number of days in a year\n",
    "n_trials= 40 #number of students\n",
    "n_simulated= 1_000_000 "
   ]
  },
  {
   "cell_type": "code",
   "execution_count": null,
   "metadata": {},
   "outputs": [],
   "source": [
    "classrooms= np.random.choice(outcomes, size=(n_simulated, n_trials))"
   ]
  },
  {
   "cell_type": "code",
   "execution_count": null,
   "metadata": {},
   "outputs": [],
   "source": [
    "len(np.unique(classrooms[3]))"
   ]
  },
  {
   "cell_type": "code",
   "execution_count": null,
   "metadata": {},
   "outputs": [],
   "source": [
    "list_of_twin_birthdays = [len(np.unique(classrooms[n])) for n in range(0, n_simulated-1) if len(np.unique(classrooms[n])) <40]"
   ]
  },
  {
   "cell_type": "code",
   "execution_count": null,
   "metadata": {},
   "outputs": [],
   "source": [
    "prop_twin_bdays = len(list_of_twin_birthdays) / n_simulated"
   ]
  },
  {
   "cell_type": "code",
   "execution_count": null,
   "metadata": {},
   "outputs": [],
   "source": [
    "prop_twin_bdays "
   ]
  },
  {
   "cell_type": "code",
   "execution_count": null,
   "metadata": {},
   "outputs": [],
   "source": []
  }
 ],
 "metadata": {
  "kernelspec": {
   "display_name": "Python 3",
   "language": "python",
   "name": "python3"
  },
  "language_info": {
   "codemirror_mode": {
    "name": "ipython",
    "version": 3
   },
   "file_extension": ".py",
   "mimetype": "text/x-python",
   "name": "python",
   "nbconvert_exporter": "python",
   "pygments_lexer": "ipython3",
   "version": "3.8.5"
  }
 },
 "nbformat": 4,
 "nbformat_minor": 4
}
