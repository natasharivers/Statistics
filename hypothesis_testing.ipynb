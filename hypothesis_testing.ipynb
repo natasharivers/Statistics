{
 "cells": [
  {
   "cell_type": "markdown",
   "metadata": {},
   "source": [
    "For each of the following questions, formulate a null and alternative hypothesis (be as specific as you can be), then give an example of what a true positive, true negative, type I and type II errors would look like. Note that some of the questions are intentionally phrased in a vague way. It is your job to reword these as more precise questions that could be tested.\n",
    "\n",
    "- Has the network latency gone up since we switched internet service providers?\n",
    "- Is the website redesign any good?\n",
    "- Is our television ad driving more sales?\n"
   ]
  },
  {
   "cell_type": "markdown",
   "metadata": {},
   "source": [
    "#### Has the network latency gone up since we switched internet service providers?\n",
    "- $H_{0}$: there is no change to network latency since switching providers\n",
    "- $H_{a}$: there is a change in network latency since switching providers\n",
    "- True Positive: I reject the $H_{0}$, and the network latency has chanced since switching providers\n",
    "- True Negative: I accept the $H_{0}$, and the network latency has not chanced since switching providers\n",
    "- Type I error: I reject the $H_{0}$, but switching provides does not change network latency\n",
    "- Type II error: I accept the $H_{0}$, but switching provides does change network latency\n"
   ]
  },
  {
   "cell_type": "markdown",
   "metadata": {},
   "source": [
    "#### Is the website redesign any good?\n",
    "- $H_{0}$: the website redesign has caused no change in revenue\n",
    "- $H_{a}$: the website redesign has caused revenue to increase significantly\n",
    "- True Positive: I reject the $H_{0}$, and the web redesign does change revenue\n",
    "- True Negative: I accept the $H_{0}$, and web redesign do not change revenue\n",
    "- Type I error: I reject the $H_{0}$,but web redesign do not change revenue\n",
    "- Type II error: I accept the $H_{0}$, but web redesign do change revenue"
   ]
  },
  {
   "cell_type": "markdown",
   "metadata": {},
   "source": [
    "#### Is our television ad driving more sales?\n",
    "- $H_{0}$: the television ad is not driving more sales \n",
    "- $H_{a}$: the television ad does drive more sales\n",
    "- True Positive: I reject the $H_{0}$, and the television ads do drive sales\n",
    "- True Negative: I accept the $H_{0}$, and television ads do not drive more sales\n",
    "- Type I error: I reject the $H_{0}$,but television ads do not drive sales\n",
    "- Type II error: I accept the $H_{0}$, but television ads do drive sales"
   ]
  },
  {
   "cell_type": "code",
   "execution_count": null,
   "metadata": {},
   "outputs": [],
   "source": []
  }
 ],
 "metadata": {
  "kernelspec": {
   "display_name": "Python 3",
   "language": "python",
   "name": "python3"
  },
  "language_info": {
   "codemirror_mode": {
    "name": "ipython",
    "version": 3
   },
   "file_extension": ".py",
   "mimetype": "text/x-python",
   "name": "python",
   "nbconvert_exporter": "python",
   "pygments_lexer": "ipython3",
   "version": "3.8.5"
  }
 },
 "nbformat": 4,
 "nbformat_minor": 4
}
