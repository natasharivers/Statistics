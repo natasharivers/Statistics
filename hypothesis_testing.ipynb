{
 "cells": [
  {
   "cell_type": "code",
   "execution_count": 2,
   "metadata": {},
   "outputs": [],
   "source": [
    "import numpy as np\n",
    "import seaborn as sns\n",
    "import scipy.stats as stats\n",
    "import pandas as pd\n",
    "import matplotlib.pyplot as plt\n",
    "\n",
    "from math import sqrt\n",
    "from pydataset import data\n",
    "import statistics"
   ]
  },
  {
   "cell_type": "markdown",
   "metadata": {},
   "source": [
    "## Hypothesis Testing Exercises (May 7th)"
   ]
  },
  {
   "cell_type": "markdown",
   "metadata": {},
   "source": [
    "For each of the following questions, formulate a null and alternative hypothesis (be as specific as you can be), then give an example of what a true positive, true negative, type I and type II errors would look like. Note that some of the questions are intentionally phrased in a vague way. It is your job to reword these as more precise questions that could be tested.\n",
    "\n",
    "- Has the network latency gone up since we switched internet service providers?\n",
    "- Is the website redesign any good?\n",
    "- Is our television ad driving more sales?"
   ]
  },
  {
   "cell_type": "markdown",
   "metadata": {},
   "source": [
    "#### #1. Has the network latency gone up since we switched internet service providers?\n",
    "- $H_{0}$: there is no change to network latency since switching providers\n",
    "- $H_{a}$: there is a change in network latency since switching providers\n",
    "- True Positive: I reject the $H_{0}$, and the network latency has chanced since switching providers\n",
    "- True Negative: I fail to reject the $H_{0}$, and the network latency has not chanced since switching providers\n",
    "- Type I error: I reject the $H_{0}$, but switching provides does not change network latency\n",
    "- Type II error: I fail to reject the $H_{0}$, but switching provides does change network latency"
   ]
  },
  {
   "cell_type": "markdown",
   "metadata": {},
   "source": [
    "#### #2. Is the website redesign any good?\n",
    "- $H_{0}$: the website redesign has caused no change in revenue\n",
    "- $H_{a}$: the website redesign has caused revenue to increase significantly\n",
    "- True Positive: I reject the $H_{0}$, and the web redesign does change revenue\n",
    "- True Negative: I fail to reject the $H_{0}$, and web redesign do not change revenue\n",
    "- Type I error: I reject the $H_{0}$,but web redesign do not change revenue\n",
    "- Type II error: I fail to reject the $H_{0}$, but web redesign do change revenue"
   ]
  },
  {
   "cell_type": "markdown",
   "metadata": {},
   "source": [
    "#### #3. Is our television ad driving more sales?\n",
    "- $H_{0}$: the television ad is not driving more sales \n",
    "- $H_{a}$: the television ad does drive more sales\n",
    "- True Positive: I reject the $H_{0}$, and the television ads do drive sales\n",
    "- True Negative: I fail to reject the $H_{0}$, and television ads do not drive more sales\n",
    "- Type I error: I reject the $H_{0}$,but television ads do not drive sales\n",
    "- Type II error: I fail to reject the $H_{0}$, but television ads do drive sales"
   ]
  },
  {
   "cell_type": "markdown",
   "metadata": {},
   "source": [
    "_____"
   ]
  },
  {
   "cell_type": "markdown",
   "metadata": {},
   "source": [
    "# EXERCISES: T-TEST (May 10)"
   ]
  },
  {
   "cell_type": "markdown",
   "metadata": {},
   "source": [
    "1) Ace Realty wants to determine whether the average time it takes to sell homes is different for its two offices. A sample of 40 sales from office #1 revealed a mean of 90 days and a standard deviation of 15 days. A sample of 50 sales from office #2 revealed a mean of 100 days and a standard deviation of 20 days. Use a .05 level of significance.\n",
    "\n",
    "2) Load the mpg dataset and use it to answer the following questions:\n",
    "\n",
    "    a. Is there a difference in fuel-efficiency in cars from 2008 vs 1999?\n",
    "    b. Are compact cars more fuel-efficient than the average car?\n",
    "    c. Do manual cars get better gas mileage than automatic cars?"
   ]
  },
  {
   "cell_type": "markdown",
   "metadata": {},
   "source": [
    "#### #1 Ace Realty"
   ]
  },
  {
   "cell_type": "markdown",
   "metadata": {},
   "source": [
    "- compare average time selling homes is different at 2 offices\n",
    "- office 1: sample size = 40, mean= 90, stddev = 15\n",
    "- office 2: sample size= 50, mean= 100, stddev = 20\n",
    "- alpha = .05"
   ]
  },
  {
   "cell_type": "markdown",
   "metadata": {},
   "source": [
    "##### first, see what kinds of data you're comparing. \n",
    "- average time (numeric/continious) vs two offices (distinct/categorical)"
   ]
  },
  {
   "cell_type": "markdown",
   "metadata": {},
   "source": [
    "##### second, decide what you'll be using\n",
    "- One sample t-test or 2 sample t-test?\n",
    "- on tailed or 2 tailed?"
   ]
  },
  {
   "cell_type": "code",
   "execution_count": 48,
   "metadata": {},
   "outputs": [],
   "source": [
    "# this will be:\n",
    "# a 2 sample t-test- comparing two offices\n",
    "# a 2 tailed- want to know if the average is larger OR smaller in either office"
   ]
  },
  {
   "cell_type": "markdown",
   "metadata": {},
   "source": [
    "#### Step 1: plot distribution"
   ]
  },
  {
   "cell_type": "code",
   "execution_count": 74,
   "metadata": {},
   "outputs": [
    {
     "data": {
      "text/plain": [
       "<matplotlib.legend.Legend at 0x7fe638e304f0>"
      ]
     },
     "execution_count": 74,
     "metadata": {},
     "output_type": "execute_result"
    },
    {
     "data": {
      "image/png": "[encoded data removed]",
      "text/plain": [
       "<Figure size 432x288 with 1 Axes>"
      ]
     },
     "metadata": {
      "needs_background": "light"
     },
     "output_type": "display_data"
    }
   ],
   "source": [
    "x= np.arange(40,160)\n",
    "\n",
    "#y=stats.norm(mean, stddev).pdf(x)\n",
    "\n",
    "y1 = stats.norm(90,15).pdf(x) #this gives graph for office 1\n",
    "y2 = stats.norm(100,20).pdf(x) #this gives graph for office 2\n",
    "\n",
    "plt.plot(x, y1, label='office_1')\n",
    "plt.plot(x,y2, label = 'office_2')\n",
    "plt.axvline(90)\n",
    "plt.axvline(100, color='orange')\n",
    "\n",
    "plt.legend()"
   ]
  },
  {
   "cell_type": "code",
   "execution_count": 67,
   "metadata": {},
   "outputs": [
    {
     "data": {
      "text/plain": [
       "0.008330155453183524"
      ]
     },
     "execution_count": 67,
     "metadata": {},
     "output_type": "execute_result"
    }
   ],
   "source": [
    "avg_y1 = np.mean(y1)\n",
    "avg_y1"
   ]
  },
  {
   "cell_type": "code",
   "execution_count": 68,
   "metadata": {},
   "outputs": [
    {
     "data": {
      "text/plain": [
       "0.008310788879259125"
      ]
     },
     "execution_count": 68,
     "metadata": {},
     "output_type": "execute_result"
    }
   ],
   "source": [
    "avg_y2= np.mean(y2)\n",
    "avg_y2"
   ]
  },
  {
   "cell_type": "markdown",
   "metadata": {},
   "source": [
    "#### Step 2: Set Hypothesis\n",
    "\n",
    "- $H_0$: There is no diffence in mean selling time between the two offices\n",
    "- $H_a$: There is a diffence in mean selling time between the two offices   "
   ]
  },
  {
   "cell_type": "markdown",
   "metadata": {},
   "source": [
    "#### Step 3: Set Alpha"
   ]
  },
  {
   "cell_type": "code",
   "execution_count": 84,
   "metadata": {},
   "outputs": [],
   "source": [
    "alpha = .05"
   ]
  },
  {
   "cell_type": "markdown",
   "metadata": {},
   "source": [
    "#### Step 4: Verify Assumption\n",
    "- samples are independent = YES, two seperate data sets\n",
    "- normal distribution = YES, sample sizes are 50 and 40\n",
    "- equal variance = False"
   ]
  },
  {
   "cell_type": "code",
   "execution_count": 46,
   "metadata": {},
   "outputs": [
    {
     "data": {
      "text/plain": [
       "(3.4209403914107914e-05, 1.0818496127286657e-05)"
      ]
     },
     "execution_count": 46,
     "metadata": {},
     "output_type": "execute_result"
    }
   ],
   "source": [
    "y1.var(), y2.var()\n",
    "#this shows the variance is not the same. must set variance to false"
   ]
  },
  {
   "cell_type": "markdown",
   "metadata": {},
   "source": [
    "#### Step 5: Compute Test Statistics"
   ]
  },
  {
   "cell_type": "code",
   "execution_count": null,
   "metadata": {},
   "outputs": [],
   "source": [
    "# 2 sample. 2 tailed"
   ]
  },
  {
   "cell_type": "code",
   "execution_count": 120,
   "metadata": {},
   "outputs": [
    {
     "data": {
      "text/plain": [
       "(-2.7091418459143854, 0.00811206270346016, 0.05)"
      ]
     },
     "execution_count": 120,
     "metadata": {},
     "output_type": "execute_result"
    }
   ],
   "source": [
    "t, p = stats.ttest_ind_from_stats(90, 15, 40, 100,20, 50, equal_var=False)\n",
    "t, p, alpha"
   ]
  },
  {
   "cell_type": "code",
   "execution_count": 63,
   "metadata": {},
   "outputs": [
    {
     "data": {
      "text/plain": [
       "True"
      ]
     },
     "execution_count": 63,
     "metadata": {},
     "output_type": "execute_result"
    }
   ],
   "source": [
    "p < alpha"
   ]
  },
  {
   "cell_type": "markdown",
   "metadata": {},
   "source": [
    "#### Step 6: Decide"
   ]
  },
  {
   "cell_type": "code",
   "execution_count": 122,
   "metadata": {},
   "outputs": [
    {
     "name": "stdout",
     "output_type": "stream",
     "text": [
      "\n",
      "because the p-value is less than alpha value, we reject null hypthosis\n"
     ]
    }
   ],
   "source": [
    "print('''\n",
    "because the p-value is less than alpha value, we reject null hypthosis''')"
   ]
  },
  {
   "cell_type": "markdown",
   "metadata": {},
   "source": [
    "we reject our $H_0$, there is a difference in average selling time between the two offices."
   ]
  },
  {
   "cell_type": "markdown",
   "metadata": {},
   "source": [
    "______________________________________________________"
   ]
  },
  {
   "cell_type": "markdown",
   "metadata": {},
   "source": [
    "#### 2) Load the mpg dataset "
   ]
  },
  {
   "cell_type": "code",
   "execution_count": 78,
   "metadata": {},
   "outputs": [],
   "source": [
    "mpg = data('mpg')"
   ]
  },
  {
   "cell_type": "code",
   "execution_count": 80,
   "metadata": {},
   "outputs": [
    {
     "data": {
      "text/html": [
       "<div>\n",
       "<style scoped>\n",
       "    .dataframe tbody tr th:only-of-type {\n",
       "        vertical-align: middle;\n",
       "    }\n",
       "\n",
       "    .dataframe tbody tr th {\n",
       "        vertical-align: top;\n",
       "    }\n",
       "\n",
       "    .dataframe thead th {\n",
       "        text-align: right;\n",
       "    }\n",
       "</style>\n",
       "<table border=\"1\" class=\"dataframe\">\n",
       "  <thead>\n",
       "    <tr style=\"text-align: right;\">\n",
       "      <th></th>\n",
       "      <th>manufacturer</th>\n",
       "      <th>model</th>\n",
       "      <th>displ</th>\n",
       "      <th>year</th>\n",
       "      <th>cyl</th>\n",
       "      <th>trans</th>\n",
       "      <th>drv</th>\n",
       "      <th>cty</th>\n",
       "      <th>hwy</th>\n",
       "      <th>fl</th>\n",
       "      <th>class</th>\n",
       "    </tr>\n",
       "  </thead>\n",
       "  <tbody>\n",
       "    <tr>\n",
       "      <th>1</th>\n",
       "      <td>audi</td>\n",
       "      <td>a4</td>\n",
       "      <td>1.8</td>\n",
       "      <td>1999</td>\n",
       "      <td>4</td>\n",
       "      <td>auto(l5)</td>\n",
       "      <td>f</td>\n",
       "      <td>18</td>\n",
       "      <td>29</td>\n",
       "      <td>p</td>\n",
       "      <td>compact</td>\n",
       "    </tr>\n",
       "    <tr>\n",
       "      <th>2</th>\n",
       "      <td>audi</td>\n",
       "      <td>a4</td>\n",
       "      <td>1.8</td>\n",
       "      <td>1999</td>\n",
       "      <td>4</td>\n",
       "      <td>manual(m5)</td>\n",
       "      <td>f</td>\n",
       "      <td>21</td>\n",
       "      <td>29</td>\n",
       "      <td>p</td>\n",
       "      <td>compact</td>\n",
       "    </tr>\n",
       "    <tr>\n",
       "      <th>3</th>\n",
       "      <td>audi</td>\n",
       "      <td>a4</td>\n",
       "      <td>2.0</td>\n",
       "      <td>2008</td>\n",
       "      <td>4</td>\n",
       "      <td>manual(m6)</td>\n",
       "      <td>f</td>\n",
       "      <td>20</td>\n",
       "      <td>31</td>\n",
       "      <td>p</td>\n",
       "      <td>compact</td>\n",
       "    </tr>\n",
       "    <tr>\n",
       "      <th>4</th>\n",
       "      <td>audi</td>\n",
       "      <td>a4</td>\n",
       "      <td>2.0</td>\n",
       "      <td>2008</td>\n",
       "      <td>4</td>\n",
       "      <td>auto(av)</td>\n",
       "      <td>f</td>\n",
       "      <td>21</td>\n",
       "      <td>30</td>\n",
       "      <td>p</td>\n",
       "      <td>compact</td>\n",
       "    </tr>\n",
       "    <tr>\n",
       "      <th>5</th>\n",
       "      <td>audi</td>\n",
       "      <td>a4</td>\n",
       "      <td>2.8</td>\n",
       "      <td>1999</td>\n",
       "      <td>6</td>\n",
       "      <td>auto(l5)</td>\n",
       "      <td>f</td>\n",
       "      <td>16</td>\n",
       "      <td>26</td>\n",
       "      <td>p</td>\n",
       "      <td>compact</td>\n",
       "    </tr>\n",
       "  </tbody>\n",
       "</table>\n",
       "</div>"
      ],
      "text/plain": [
       "  manufacturer model  displ  year  cyl       trans drv  cty  hwy fl    class\n",
       "1         audi    a4    1.8  1999    4    auto(l5)   f   18   29  p  compact\n",
       "2         audi    a4    1.8  1999    4  manual(m5)   f   21   29  p  compact\n",
       "3         audi    a4    2.0  2008    4  manual(m6)   f   20   31  p  compact\n",
       "4         audi    a4    2.0  2008    4    auto(av)   f   21   30  p  compact\n",
       "5         audi    a4    2.8  1999    6    auto(l5)   f   16   26  p  compact"
      ]
     },
     "execution_count": 80,
     "metadata": {},
     "output_type": "execute_result"
    }
   ],
   "source": [
    "mpg.head()\n",
    "#get a sneakpeek"
   ]
  },
  {
   "cell_type": "code",
   "execution_count": 81,
   "metadata": {},
   "outputs": [
    {
     "name": "stdout",
     "output_type": "stream",
     "text": [
      "<class 'pandas.core.frame.DataFrame'>\n",
      "Int64Index: 234 entries, 1 to 234\n",
      "Data columns (total 11 columns):\n",
      " #   Column        Non-Null Count  Dtype  \n",
      "---  ------        --------------  -----  \n",
      " 0   manufacturer  234 non-null    object \n",
      " 1   model         234 non-null    object \n",
      " 2   displ         234 non-null    float64\n",
      " 3   year          234 non-null    int64  \n",
      " 4   cyl           234 non-null    int64  \n",
      " 5   trans         234 non-null    object \n",
      " 6   drv           234 non-null    object \n",
      " 7   cty           234 non-null    int64  \n",
      " 8   hwy           234 non-null    int64  \n",
      " 9   fl            234 non-null    object \n",
      " 10  class         234 non-null    object \n",
      "dtypes: float64(1), int64(4), object(6)\n",
      "memory usage: 21.9+ KB\n"
     ]
    }
   ],
   "source": [
    "mpg.info()"
   ]
  },
  {
   "cell_type": "markdown",
   "metadata": {},
   "source": [
    "### a. Is there a difference in fuel-efficiency in cars from 2008 vs 1999?"
   ]
  },
  {
   "cell_type": "markdown",
   "metadata": {},
   "source": [
    "##### first, see what kinds of data you're comparing. \n",
    "- average mileage (numeric/continious) vs two years (distinct/categorical)\n"
   ]
  },
  {
   "cell_type": "code",
   "execution_count": 82,
   "metadata": {},
   "outputs": [],
   "source": [
    "# find average between city and hwy mileage for each year"
   ]
  },
  {
   "cell_type": "markdown",
   "metadata": {},
   "source": [
    "### harmonic mean:\n",
    "    - fe_hm= 2/(1/cty +1/hwy)\n",
    "    - use for mpg, mph in two values\n",
    "### arithmetic mean: \n",
    "    - fe_am = (cty +hwy)/2"
   ]
  },
  {
   "cell_type": "code",
   "execution_count": 90,
   "metadata": {},
   "outputs": [
    {
     "data": {
      "text/html": [
       "<div>\n",
       "<style scoped>\n",
       "    .dataframe tbody tr th:only-of-type {\n",
       "        vertical-align: middle;\n",
       "    }\n",
       "\n",
       "    .dataframe tbody tr th {\n",
       "        vertical-align: top;\n",
       "    }\n",
       "\n",
       "    .dataframe thead th {\n",
       "        text-align: right;\n",
       "    }\n",
       "</style>\n",
       "<table border=\"1\" class=\"dataframe\">\n",
       "  <thead>\n",
       "    <tr style=\"text-align: right;\">\n",
       "      <th></th>\n",
       "      <th>manufacturer</th>\n",
       "      <th>model</th>\n",
       "      <th>displ</th>\n",
       "      <th>year</th>\n",
       "      <th>cyl</th>\n",
       "      <th>trans</th>\n",
       "      <th>drv</th>\n",
       "      <th>cty</th>\n",
       "      <th>hwy</th>\n",
       "      <th>fl</th>\n",
       "      <th>class</th>\n",
       "      <th>average_mpg</th>\n",
       "    </tr>\n",
       "  </thead>\n",
       "  <tbody>\n",
       "    <tr>\n",
       "      <th>1</th>\n",
       "      <td>audi</td>\n",
       "      <td>a4</td>\n",
       "      <td>1.8</td>\n",
       "      <td>1999</td>\n",
       "      <td>4</td>\n",
       "      <td>auto(l5)</td>\n",
       "      <td>f</td>\n",
       "      <td>18</td>\n",
       "      <td>29</td>\n",
       "      <td>p</td>\n",
       "      <td>compact</td>\n",
       "      <td>22.212766</td>\n",
       "    </tr>\n",
       "    <tr>\n",
       "      <th>2</th>\n",
       "      <td>audi</td>\n",
       "      <td>a4</td>\n",
       "      <td>1.8</td>\n",
       "      <td>1999</td>\n",
       "      <td>4</td>\n",
       "      <td>manual(m5)</td>\n",
       "      <td>f</td>\n",
       "      <td>21</td>\n",
       "      <td>29</td>\n",
       "      <td>p</td>\n",
       "      <td>compact</td>\n",
       "      <td>24.360000</td>\n",
       "    </tr>\n",
       "    <tr>\n",
       "      <th>3</th>\n",
       "      <td>audi</td>\n",
       "      <td>a4</td>\n",
       "      <td>2.0</td>\n",
       "      <td>2008</td>\n",
       "      <td>4</td>\n",
       "      <td>manual(m6)</td>\n",
       "      <td>f</td>\n",
       "      <td>20</td>\n",
       "      <td>31</td>\n",
       "      <td>p</td>\n",
       "      <td>compact</td>\n",
       "      <td>24.313725</td>\n",
       "    </tr>\n",
       "    <tr>\n",
       "      <th>4</th>\n",
       "      <td>audi</td>\n",
       "      <td>a4</td>\n",
       "      <td>2.0</td>\n",
       "      <td>2008</td>\n",
       "      <td>4</td>\n",
       "      <td>auto(av)</td>\n",
       "      <td>f</td>\n",
       "      <td>21</td>\n",
       "      <td>30</td>\n",
       "      <td>p</td>\n",
       "      <td>compact</td>\n",
       "      <td>24.705882</td>\n",
       "    </tr>\n",
       "    <tr>\n",
       "      <th>5</th>\n",
       "      <td>audi</td>\n",
       "      <td>a4</td>\n",
       "      <td>2.8</td>\n",
       "      <td>1999</td>\n",
       "      <td>6</td>\n",
       "      <td>auto(l5)</td>\n",
       "      <td>f</td>\n",
       "      <td>16</td>\n",
       "      <td>26</td>\n",
       "      <td>p</td>\n",
       "      <td>compact</td>\n",
       "      <td>19.809524</td>\n",
       "    </tr>\n",
       "  </tbody>\n",
       "</table>\n",
       "</div>"
      ],
      "text/plain": [
       "  manufacturer model  displ  year  cyl       trans drv  cty  hwy fl    class  \\\n",
       "1         audi    a4    1.8  1999    4    auto(l5)   f   18   29  p  compact   \n",
       "2         audi    a4    1.8  1999    4  manual(m5)   f   21   29  p  compact   \n",
       "3         audi    a4    2.0  2008    4  manual(m6)   f   20   31  p  compact   \n",
       "4         audi    a4    2.0  2008    4    auto(av)   f   21   30  p  compact   \n",
       "5         audi    a4    2.8  1999    6    auto(l5)   f   16   26  p  compact   \n",
       "\n",
       "   average_mpg  \n",
       "1    22.212766  \n",
       "2    24.360000  \n",
       "3    24.313725  \n",
       "4    24.705882  \n",
       "5    19.809524  "
      ]
     },
     "execution_count": 90,
     "metadata": {},
     "output_type": "execute_result"
    }
   ],
   "source": [
    "mpg['average_mpg'] = stats.hmean(mpg[['cty', 'hwy']], axis=1)\n",
    "mpg.head()\n",
    "#use this code to find the mean of cty and hwy combined and create a "
   ]
  },
  {
   "cell_type": "markdown",
   "metadata": {},
   "source": [
    "##### second, decide what you'll be using\n",
    "- One sample t-test or 2 sample t-test?\n",
    "- on tailed or 2 tailed?"
   ]
  },
  {
   "cell_type": "code",
   "execution_count": 123,
   "metadata": {},
   "outputs": [],
   "source": [
    "# this will be:\n",
    "# a 2 sample t-test- comparing two years\n",
    "# a 2 tailed- wants the difference, not if one is less or more"
   ]
  },
  {
   "cell_type": "code",
   "execution_count": 124,
   "metadata": {},
   "outputs": [],
   "source": [
    "#create new panda series\n",
    "ninenine_fuel = mpg[mpg.year == 1999].average_mpg\n",
    "oeight_fuel = mpg[mpg.year == 2008].average_mpg"
   ]
  },
  {
   "cell_type": "markdown",
   "metadata": {},
   "source": [
    "#### Step 1: plot distribution"
   ]
  },
  {
   "cell_type": "code",
   "execution_count": 96,
   "metadata": {},
   "outputs": [
    {
     "data": {
      "text/plain": [
       "<AxesSubplot:>"
      ]
     },
     "execution_count": 96,
     "metadata": {},
     "output_type": "execute_result"
    },
    {
     "data": {
      "image/png": "[encoded data removed]",
      "text/plain": [
       "<Figure size 432x288 with 1 Axes>"
      ]
     },
     "metadata": {
      "needs_background": "light"
     },
     "output_type": "display_data"
    }
   ],
   "source": [
    "ninenine_fuel.hist()"
   ]
  },
  {
   "cell_type": "code",
   "execution_count": 97,
   "metadata": {},
   "outputs": [
    {
     "data": {
      "text/plain": [
       "<AxesSubplot:>"
      ]
     },
     "execution_count": 97,
     "metadata": {},
     "output_type": "execute_result"
    },
    {
     "data": {
      "image/png": "[encoded data removed]",
      "text/plain": [
       "<Figure size 432x288 with 1 Axes>"
      ]
     },
     "metadata": {
      "needs_background": "light"
     },
     "output_type": "display_data"
    }
   ],
   "source": [
    "oeight_fuel.hist()"
   ]
  },
  {
   "cell_type": "markdown",
   "metadata": {},
   "source": [
    "#### Step 2: Set Hypothesis"
   ]
  },
  {
   "cell_type": "markdown",
   "metadata": {},
   "source": [
    "- $H_0$: there is no difference in fuel-efficiency in cars from 2008 vs 1999\n",
    "- $H_a$: there is a difference in fuel-efficiency in cars from 2008 vs 1999"
   ]
  },
  {
   "cell_type": "markdown",
   "metadata": {},
   "source": [
    "#### Step 3: Set Alpha"
   ]
  },
  {
   "cell_type": "code",
   "execution_count": 94,
   "metadata": {},
   "outputs": [],
   "source": [
    "alpha = .05"
   ]
  },
  {
   "cell_type": "markdown",
   "metadata": {},
   "source": [
    "#### Step 4: Verify Assumption"
   ]
  },
  {
   "cell_type": "markdown",
   "metadata": {},
   "source": [
    "- samples are independent = YES, two seperate data sets\n",
    "- normal distribution = Not normal BUT there are more than 30 sample size\n",
    "- equal variance = False"
   ]
  },
  {
   "cell_type": "code",
   "execution_count": 125,
   "metadata": {},
   "outputs": [
    {
     "data": {
      "text/plain": [
       "(117, 117)"
      ]
     },
     "execution_count": 125,
     "metadata": {},
     "output_type": "execute_result"
    }
   ],
   "source": [
    "# to find sample size- must more than 30 to meet assumption\n",
    "ninenine_fuel.count(), oeight_fuel.count()"
   ]
  },
  {
   "cell_type": "code",
   "execution_count": 95,
   "metadata": {},
   "outputs": [
    {
     "data": {
      "text/plain": [
       "(25.850396545865912, 22.550836772260343)"
      ]
     },
     "execution_count": 95,
     "metadata": {},
     "output_type": "execute_result"
    }
   ],
   "source": [
    "#to find variance\n",
    "ninenine_fuel.var(), oeight_fuel.var()"
   ]
  },
  {
   "cell_type": "markdown",
   "metadata": {},
   "source": [
    "#### Step 5: Compute Test Statistics"
   ]
  },
  {
   "cell_type": "code",
   "execution_count": 103,
   "metadata": {},
   "outputs": [],
   "source": [
    "t, p = stats.ttest_ind(oeight_fuel, ninenine_fuel, equal_var=False)"
   ]
  },
  {
   "cell_type": "code",
   "execution_count": 104,
   "metadata": {},
   "outputs": [
    {
     "data": {
      "text/plain": [
       "(-0.3011962975077886, 0.7635358418225436, 0.05)"
      ]
     },
     "execution_count": 104,
     "metadata": {},
     "output_type": "execute_result"
    }
   ],
   "source": [
    "t,p,alpha"
   ]
  },
  {
   "cell_type": "code",
   "execution_count": 100,
   "metadata": {},
   "outputs": [
    {
     "data": {
      "text/plain": [
       "False"
      ]
     },
     "execution_count": 100,
     "metadata": {},
     "output_type": "execute_result"
    }
   ],
   "source": [
    "p < alpha"
   ]
  },
  {
   "cell_type": "markdown",
   "metadata": {},
   "source": [
    "#### Step 6: Decide"
   ]
  },
  {
   "cell_type": "markdown",
   "metadata": {},
   "source": [
    "- Because p > α, we fail to reject our $H_0$. There is no difference in fuel-economy between 1999 and 2008 vehicles"
   ]
  },
  {
   "cell_type": "code",
   "execution_count": 136,
   "metadata": {},
   "outputs": [
    {
     "data": {
      "text/plain": [
       "(19.68238764869729, 19.488662986569054)"
      ]
     },
     "execution_count": 136,
     "metadata": {},
     "output_type": "execute_result"
    }
   ],
   "source": [
    "## just look at the means to visually confirm your decision\n",
    "ninenine_fuel.mean(), oeight_fuel.mean()"
   ]
  },
  {
   "cell_type": "markdown",
   "metadata": {},
   "source": [
    "___________________________________________________________"
   ]
  },
  {
   "cell_type": "markdown",
   "metadata": {},
   "source": [
    "### b. Are compact cars more fuel-efficient than the average car?"
   ]
  },
  {
   "cell_type": "markdown",
   "metadata": {},
   "source": [
    "##### first, see what kinds of data you're comparing. \n",
    "- average mileage (numeric/continious) vs two car types (distinct/categorical)"
   ]
  },
  {
   "cell_type": "code",
   "execution_count": 108,
   "metadata": {},
   "outputs": [],
   "source": [
    "fuel_compact = mpg[mpg['class'] == 'compact'].average_mpg\n",
    "μ = mpg.average_mpg.mean()\n",
    "#create new panda series with column of compact car average mpg"
   ]
  },
  {
   "cell_type": "markdown",
   "metadata": {},
   "source": [
    "##### second, decide what you'll be using\n",
    "- One sample t-test or 2 sample t-test?\n",
    "- one tailed or 2 tailed?"
   ]
  },
  {
   "cell_type": "code",
   "execution_count": null,
   "metadata": {},
   "outputs": [],
   "source": [
    "#this is:\n",
    "# one sample- only looking at compact cars average\n",
    "# one tailed- MORE fuel efficient, not is there a difference in fuel"
   ]
  },
  {
   "cell_type": "markdown",
   "metadata": {},
   "source": [
    "#### Step 1: plot distribution"
   ]
  },
  {
   "cell_type": "code",
   "execution_count": 111,
   "metadata": {},
   "outputs": [
    {
     "data": {
      "text/plain": [
       "<AxesSubplot:>"
      ]
     },
     "execution_count": 111,
     "metadata": {},
     "output_type": "execute_result"
    },
    {
     "data": {
      "image/png": "[encoded data removed]",
      "text/plain": [
       "<Figure size 432x288 with 1 Axes>"
      ]
     },
     "metadata": {
      "needs_background": "light"
     },
     "output_type": "display_data"
    }
   ],
   "source": [
    "fuel_compact.hist()"
   ]
  },
  {
   "cell_type": "code",
   "execution_count": 138,
   "metadata": {},
   "outputs": [
    {
     "data": {
      "text/plain": [
       "(7.512360093161354, 1.5617666348807727e-09)"
      ]
     },
     "execution_count": 138,
     "metadata": {},
     "output_type": "execute_result"
    }
   ],
   "source": [
    "t, p = stats.ttest_1samp(fuel_compact, μ)\n",
    "t, p"
   ]
  },
  {
   "cell_type": "markdown",
   "metadata": {},
   "source": [
    "#### Step 2: Set Hypothesis\n",
    "- $H_0$: there is no between compact car fuel-efficiency and the average fuel efficiency\n",
    "- $H_a$: there is a between compact car fuel-efficiency and the average fuel efficiency"
   ]
  },
  {
   "cell_type": "markdown",
   "metadata": {},
   "source": [
    "#### Step 3: Set alpha"
   ]
  },
  {
   "cell_type": "code",
   "execution_count": 114,
   "metadata": {},
   "outputs": [],
   "source": [
    "alpha = .05"
   ]
  },
  {
   "cell_type": "markdown",
   "metadata": {},
   "source": [
    "#### Step 4: Verify Assumptions\n",
    "- normal distribution = YES\n"
   ]
  },
  {
   "cell_type": "code",
   "execution_count": 130,
   "metadata": {},
   "outputs": [
    {
     "data": {
      "text/plain": [
       "47"
      ]
     },
     "execution_count": 130,
     "metadata": {},
     "output_type": "execute_result"
    }
   ],
   "source": [
    "fuel_compact.count()\n",
    "#must be more than 30"
   ]
  },
  {
   "cell_type": "markdown",
   "metadata": {},
   "source": [
    "#### Step 5: Compute Test Statistics"
   ]
  },
  {
   "cell_type": "code",
   "execution_count": 140,
   "metadata": {},
   "outputs": [
    {
     "data": {
      "text/plain": [
       "(7.512360093161354, 1.5617666348807727e-09)"
      ]
     },
     "execution_count": 140,
     "metadata": {},
     "output_type": "execute_result"
    }
   ],
   "source": [
    "t, p = stats.ttest_1samp(fuel_compact, μ)\n",
    "t,p"
   ]
  },
  {
   "cell_type": "markdown",
   "metadata": {},
   "source": [
    "#### Step 6: Decide"
   ]
  },
  {
   "cell_type": "code",
   "execution_count": 141,
   "metadata": {},
   "outputs": [
    {
     "data": {
      "text/plain": [
       "True"
      ]
     },
     "execution_count": 141,
     "metadata": {},
     "output_type": "execute_result"
    }
   ],
   "source": [
    "p/2 < alpha"
   ]
  },
  {
   "cell_type": "markdown",
   "metadata": {},
   "source": [
    "Because p/2 < α, we accept our $H_0$. Compact cars are more fuel efficient"
   ]
  },
  {
   "cell_type": "markdown",
   "metadata": {},
   "source": [
    "________________________________________________________"
   ]
  },
  {
   "cell_type": "markdown",
   "metadata": {},
   "source": [
    "### c. Do manual cars get better gas mileage than automatic cars?"
   ]
  },
  {
   "cell_type": "markdown",
   "metadata": {},
   "source": [
    "##### first, see what kinds of data you're comparing. \n",
    "- fuel economy (numeric/continious) vs car type (distinct/categorical)"
   ]
  },
  {
   "cell_type": "markdown",
   "metadata": {},
   "source": [
    "##### second, decide what you'll be using\n",
    "- One sample t-test or 2 sample t-test?\n",
    "- on tailed or 2 tailed?"
   ]
  },
  {
   "cell_type": "code",
   "execution_count": 153,
   "metadata": {},
   "outputs": [],
   "source": [
    "# this will be:\n",
    "#     1 tail- wants to know if gas mileage is better\n",
    "#     2 sample t-test"
   ]
  },
  {
   "cell_type": "code",
   "execution_count": 134,
   "metadata": {},
   "outputs": [],
   "source": [
    "#create two new datasets \n",
    "fuel_auto = mpg[mpg.trans.str.contains('auto')].average_mpg\n",
    "fuel_manual = mpg[mpg.trans.str.contains('manual')].average_mpg"
   ]
  },
  {
   "cell_type": "markdown",
   "metadata": {},
   "source": [
    "#### Step 1: plot distribution"
   ]
  },
  {
   "cell_type": "code",
   "execution_count": 142,
   "metadata": {},
   "outputs": [
    {
     "data": {
      "text/plain": [
       "<AxesSubplot:>"
      ]
     },
     "execution_count": 142,
     "metadata": {},
     "output_type": "execute_result"
    },
    {
     "data": {
      "image/png": "[encoded data removed]",
      "text/plain": [
       "<Figure size 432x288 with 1 Axes>"
      ]
     },
     "metadata": {
      "needs_background": "light"
     },
     "output_type": "display_data"
    }
   ],
   "source": [
    "fuel_auto.hist()"
   ]
  },
  {
   "cell_type": "code",
   "execution_count": 145,
   "metadata": {},
   "outputs": [
    {
     "data": {
      "text/plain": [
       "<AxesSubplot:>"
      ]
     },
     "execution_count": 145,
     "metadata": {},
     "output_type": "execute_result"
    },
    {
     "data": {
      "image/png": "[encoded data removed]",
      "text/plain": [
       "<Figure size 432x288 with 1 Axes>"
      ]
     },
     "metadata": {
      "needs_background": "light"
     },
     "output_type": "display_data"
    }
   ],
   "source": [
    "fuel_manual.hist()"
   ]
  },
  {
   "cell_type": "markdown",
   "metadata": {},
   "source": [
    "#### Step 2: Set Hypothesis"
   ]
  },
  {
   "cell_type": "markdown",
   "metadata": {},
   "source": [
    "- $H_0$: there is no between automatic and manual fuel efficiency\n",
    "- $H_a$: there is a between automatic and manual fuel efficiency"
   ]
  },
  {
   "cell_type": "markdown",
   "metadata": {},
   "source": [
    "#### Step 3: Set alpha"
   ]
  },
  {
   "cell_type": "code",
   "execution_count": 155,
   "metadata": {},
   "outputs": [],
   "source": [
    "alpha = .05"
   ]
  },
  {
   "cell_type": "markdown",
   "metadata": {},
   "source": [
    "#### Step 4: Verify Assumptions"
   ]
  },
  {
   "cell_type": "markdown",
   "metadata": {},
   "source": [
    "- samples are independent = YES, two seperate data sets\n",
    "- normal distribution = Yes and sample size greater than 30\n",
    "- equal variance = False"
   ]
  },
  {
   "cell_type": "code",
   "execution_count": 158,
   "metadata": {},
   "outputs": [
    {
     "data": {
      "text/plain": [
       "(157, 77)"
      ]
     },
     "execution_count": 158,
     "metadata": {},
     "output_type": "execute_result"
    }
   ],
   "source": [
    "fuel_auto.count(), fuel_manual.count()\n",
    "#check sample size, must be more than 30"
   ]
  },
  {
   "cell_type": "code",
   "execution_count": 157,
   "metadata": {},
   "outputs": [
    {
     "data": {
      "text/plain": [
       "(20.428279095002054, 25.665633639828275)"
      ]
     },
     "execution_count": 157,
     "metadata": {},
     "output_type": "execute_result"
    }
   ],
   "source": [
    "fuel_auto.var(), fuel_manual.var()\n",
    "#check variance"
   ]
  },
  {
   "cell_type": "markdown",
   "metadata": {},
   "source": [
    "#### Step 5: Compute Statistical Test"
   ]
  },
  {
   "cell_type": "code",
   "execution_count": 160,
   "metadata": {},
   "outputs": [
    {
     "data": {
      "text/plain": [
       "(4.47444321386703, 1.598070270207952e-05, 0.05)"
      ]
     },
     "execution_count": 160,
     "metadata": {},
     "output_type": "execute_result"
    }
   ],
   "source": [
    "t, p = stats.ttest_ind(fuel_manual, fuel_auto, equal_var = False)\n",
    "#because it is a 2 sample test, must use ttest_ind\n",
    "t,p, alpha"
   ]
  },
  {
   "cell_type": "markdown",
   "metadata": {},
   "source": [
    "#### Step 6: Decide"
   ]
  },
  {
   "cell_type": "code",
   "execution_count": 159,
   "metadata": {},
   "outputs": [
    {
     "data": {
      "text/plain": [
       "True"
      ]
     },
     "execution_count": 159,
     "metadata": {},
     "output_type": "execute_result"
    }
   ],
   "source": [
    "p/2 < alpha\n",
    "#because it is a one-tailed test, must divide p by 2"
   ]
  },
  {
   "cell_type": "markdown",
   "metadata": {},
   "source": [
    "Because p/2 < alpha, we reject the null hypthosis that there is no difference in gas milage between manual and auto cars"
   ]
  },
  {
   "cell_type": "code",
   "execution_count": 161,
   "metadata": {},
   "outputs": [
    {
     "data": {
      "text/plain": [
       "(21.629228592155194, 18.583199507835747)"
      ]
     },
     "execution_count": 161,
     "metadata": {},
     "output_type": "execute_result"
    }
   ],
   "source": [
    "## just look at the means to visually confirm your decision\n",
    "fuel_manual.mean(), fuel_auto.mean()"
   ]
  },
  {
   "cell_type": "markdown",
   "metadata": {},
   "source": [
    "#### ^-- 21.69 is not the same as 18.58 SO... the null that there is NO difference in fuel economy is rejected"
   ]
  },
  {
   "cell_type": "markdown",
   "metadata": {},
   "source": [
    "________"
   ]
  },
  {
   "cell_type": "markdown",
   "metadata": {},
   "source": [
    "# EXERCISES: Correlation Tests (May 11)"
   ]
  },
  {
   "cell_type": "markdown",
   "metadata": {},
   "source": [
    "1. Use the telco_churn data. \n",
    "- a. Does tenure correlate with monthly charges? \n",
    "- b. Total charges? \n",
    "- c. What happens if you control for phone and internet service?\n",
    "\n",
    "2. Use the employees database.\n",
    "- a. Is there a relationship between how long an employee has been with the company and their salary?\n",
    "- b. Is there a relationship between how long an employee has been with the company and the number of titles they have had?\n",
    "\n",
    "3. Use the sleepstudy data. \n",
    "- a. Is there a relationship between days and reaction time?"
   ]
  },
  {
   "cell_type": "markdown",
   "metadata": {},
   "source": [
    "#### #1 Use the telco_churn data."
   ]
  },
  {
   "cell_type": "code",
   "execution_count": 3,
   "metadata": {},
   "outputs": [],
   "source": [
    "df = pd.read_csv('Cust_Churn_Telco.csv')"
   ]
  },
  {
   "cell_type": "code",
   "execution_count": 4,
   "metadata": {
    "scrolled": true
   },
   "outputs": [
    {
     "data": {
      "text/html": [
       "<div>\n",
       "<style scoped>\n",
       "    .dataframe tbody tr th:only-of-type {\n",
       "        vertical-align: middle;\n",
       "    }\n",
       "\n",
       "    .dataframe tbody tr th {\n",
       "        vertical-align: top;\n",
       "    }\n",
       "\n",
       "    .dataframe thead th {\n",
       "        text-align: right;\n",
       "    }\n",
       "</style>\n",
       "<table border=\"1\" class=\"dataframe\">\n",
       "  <thead>\n",
       "    <tr style=\"text-align: right;\">\n",
       "      <th></th>\n",
       "      <th>customerID</th>\n",
       "      <th>gender</th>\n",
       "      <th>SeniorCitizen</th>\n",
       "      <th>Partner</th>\n",
       "      <th>Dependents</th>\n",
       "      <th>tenure</th>\n",
       "      <th>PhoneService</th>\n",
       "      <th>MultipleLines</th>\n",
       "      <th>InternetService</th>\n",
       "      <th>OnlineSecurity</th>\n",
       "      <th>...</th>\n",
       "      <th>DeviceProtection</th>\n",
       "      <th>TechSupport</th>\n",
       "      <th>StreamingTV</th>\n",
       "      <th>StreamingMovies</th>\n",
       "      <th>Contract</th>\n",
       "      <th>PaperlessBilling</th>\n",
       "      <th>PaymentMethod</th>\n",
       "      <th>MonthlyCharges</th>\n",
       "      <th>TotalCharges</th>\n",
       "      <th>Churn</th>\n",
       "    </tr>\n",
       "  </thead>\n",
       "  <tbody>\n",
       "    <tr>\n",
       "      <th>0</th>\n",
       "      <td>7590-VHVEG</td>\n",
       "      <td>Female</td>\n",
       "      <td>0</td>\n",
       "      <td>Yes</td>\n",
       "      <td>No</td>\n",
       "      <td>1</td>\n",
       "      <td>No</td>\n",
       "      <td>No phone service</td>\n",
       "      <td>DSL</td>\n",
       "      <td>No</td>\n",
       "      <td>...</td>\n",
       "      <td>No</td>\n",
       "      <td>No</td>\n",
       "      <td>No</td>\n",
       "      <td>No</td>\n",
       "      <td>Month-to-month</td>\n",
       "      <td>Yes</td>\n",
       "      <td>Electronic check</td>\n",
       "      <td>29.85</td>\n",
       "      <td>29.85</td>\n",
       "      <td>No</td>\n",
       "    </tr>\n",
       "    <tr>\n",
       "      <th>1</th>\n",
       "      <td>5575-GNVDE</td>\n",
       "      <td>Male</td>\n",
       "      <td>0</td>\n",
       "      <td>No</td>\n",
       "      <td>No</td>\n",
       "      <td>34</td>\n",
       "      <td>Yes</td>\n",
       "      <td>No</td>\n",
       "      <td>DSL</td>\n",
       "      <td>Yes</td>\n",
       "      <td>...</td>\n",
       "      <td>Yes</td>\n",
       "      <td>No</td>\n",
       "      <td>No</td>\n",
       "      <td>No</td>\n",
       "      <td>One year</td>\n",
       "      <td>No</td>\n",
       "      <td>Mailed check</td>\n",
       "      <td>56.95</td>\n",
       "      <td>1889.50</td>\n",
       "      <td>No</td>\n",
       "    </tr>\n",
       "    <tr>\n",
       "      <th>2</th>\n",
       "      <td>3668-QPYBK</td>\n",
       "      <td>Male</td>\n",
       "      <td>0</td>\n",
       "      <td>No</td>\n",
       "      <td>No</td>\n",
       "      <td>2</td>\n",
       "      <td>Yes</td>\n",
       "      <td>No</td>\n",
       "      <td>DSL</td>\n",
       "      <td>Yes</td>\n",
       "      <td>...</td>\n",
       "      <td>No</td>\n",
       "      <td>No</td>\n",
       "      <td>No</td>\n",
       "      <td>No</td>\n",
       "      <td>Month-to-month</td>\n",
       "      <td>Yes</td>\n",
       "      <td>Mailed check</td>\n",
       "      <td>53.85</td>\n",
       "      <td>108.15</td>\n",
       "      <td>Yes</td>\n",
       "    </tr>\n",
       "    <tr>\n",
       "      <th>3</th>\n",
       "      <td>7795-CFOCW</td>\n",
       "      <td>Male</td>\n",
       "      <td>0</td>\n",
       "      <td>No</td>\n",
       "      <td>No</td>\n",
       "      <td>45</td>\n",
       "      <td>No</td>\n",
       "      <td>No phone service</td>\n",
       "      <td>DSL</td>\n",
       "      <td>Yes</td>\n",
       "      <td>...</td>\n",
       "      <td>Yes</td>\n",
       "      <td>Yes</td>\n",
       "      <td>No</td>\n",
       "      <td>No</td>\n",
       "      <td>One year</td>\n",
       "      <td>No</td>\n",
       "      <td>Bank transfer (automatic)</td>\n",
       "      <td>42.30</td>\n",
       "      <td>1840.75</td>\n",
       "      <td>No</td>\n",
       "    </tr>\n",
       "    <tr>\n",
       "      <th>4</th>\n",
       "      <td>9237-HQITU</td>\n",
       "      <td>Female</td>\n",
       "      <td>0</td>\n",
       "      <td>No</td>\n",
       "      <td>No</td>\n",
       "      <td>2</td>\n",
       "      <td>Yes</td>\n",
       "      <td>No</td>\n",
       "      <td>Fiber optic</td>\n",
       "      <td>No</td>\n",
       "      <td>...</td>\n",
       "      <td>No</td>\n",
       "      <td>No</td>\n",
       "      <td>No</td>\n",
       "      <td>No</td>\n",
       "      <td>Month-to-month</td>\n",
       "      <td>Yes</td>\n",
       "      <td>Electronic check</td>\n",
       "      <td>70.70</td>\n",
       "      <td>151.65</td>\n",
       "      <td>Yes</td>\n",
       "    </tr>\n",
       "  </tbody>\n",
       "</table>\n",
       "<p>5 rows × 21 columns</p>\n",
       "</div>"
      ],
      "text/plain": [
       "   customerID  gender  SeniorCitizen Partner Dependents  tenure PhoneService  \\\n",
       "0  7590-VHVEG  Female              0     Yes         No       1           No   \n",
       "1  5575-GNVDE    Male              0      No         No      34          Yes   \n",
       "2  3668-QPYBK    Male              0      No         No       2          Yes   \n",
       "3  7795-CFOCW    Male              0      No         No      45           No   \n",
       "4  9237-HQITU  Female              0      No         No       2          Yes   \n",
       "\n",
       "      MultipleLines InternetService OnlineSecurity  ... DeviceProtection  \\\n",
       "0  No phone service             DSL             No  ...               No   \n",
       "1                No             DSL            Yes  ...              Yes   \n",
       "2                No             DSL            Yes  ...               No   \n",
       "3  No phone service             DSL            Yes  ...              Yes   \n",
       "4                No     Fiber optic             No  ...               No   \n",
       "\n",
       "  TechSupport StreamingTV StreamingMovies        Contract PaperlessBilling  \\\n",
       "0          No          No              No  Month-to-month              Yes   \n",
       "1          No          No              No        One year               No   \n",
       "2          No          No              No  Month-to-month              Yes   \n",
       "3         Yes          No              No        One year               No   \n",
       "4          No          No              No  Month-to-month              Yes   \n",
       "\n",
       "               PaymentMethod MonthlyCharges  TotalCharges  Churn  \n",
       "0           Electronic check          29.85         29.85     No  \n",
       "1               Mailed check          56.95       1889.50     No  \n",
       "2               Mailed check          53.85        108.15    Yes  \n",
       "3  Bank transfer (automatic)          42.30       1840.75     No  \n",
       "4           Electronic check          70.70        151.65    Yes  \n",
       "\n",
       "[5 rows x 21 columns]"
      ]
     },
     "execution_count": 4,
     "metadata": {},
     "output_type": "execute_result"
    }
   ],
   "source": [
    "df.head()"
   ]
  },
  {
   "cell_type": "markdown",
   "metadata": {},
   "source": [
    "#### 1a. Does tenure correlate with monthly charges?"
   ]
  },
  {
   "cell_type": "code",
   "execution_count": 10,
   "metadata": {},
   "outputs": [],
   "source": [
    "x = df.tenure\n",
    "y= df.MonthlyCharges\n",
    "\n",
    "#number of rows\n",
    "n = df.shape[0] \n",
    "\n",
    "#degrees of freedom- how much the data can vary\n",
    "deg_f = n-2 \n",
    "\n",
    "#confidence interval (!)\n",
    "conf_in = 0.95\n",
    "\n",
    "alpha = 1- conf_in"
   ]
  },
  {
   "cell_type": "code",
   "execution_count": 11,
   "metadata": {},
   "outputs": [
    {
     "data": {
      "text/plain": [
       "<matplotlib.collections.PathCollection at 0x7fac88066310>"
      ]
     },
     "execution_count": 11,
     "metadata": {},
     "output_type": "execute_result"
    },
    {
     "data": {
      "image/png": "[encoded data removed]",
      "text/plain": [
       "<Figure size 432x288 with 1 Axes>"
      ]
     },
     "metadata": {
      "needs_background": "light"
     },
     "output_type": "display_data"
    }
   ],
   "source": [
    "plt.scatter(x,y)"
   ]
  },
  {
   "cell_type": "code",
   "execution_count": 21,
   "metadata": {},
   "outputs": [
    {
     "data": {
      "text/plain": [
       "(0.2478998562861525, 4.094044991483017e-99)"
      ]
     },
     "execution_count": 21,
     "metadata": {},
     "output_type": "execute_result"
    }
   ],
   "source": [
    "r, p = stats.pearsonr(x,y)\n",
    "r, p"
   ]
  },
  {
   "cell_type": "code",
   "execution_count": 20,
   "metadata": {},
   "outputs": [
    {
     "name": "stdout",
     "output_type": "stream",
     "text": [
      "We calcaulate a pearson r of 0.247900 and a statistical certainty p of 0.000000\n"
     ]
    }
   ],
   "source": [
    "print(f'We calcaulate a pearson r of {r:3f} and a statistical certainty p of {p:4f}')"
   ]
  },
  {
   "cell_type": "code",
   "execution_count": 15,
   "metadata": {},
   "outputs": [
    {
     "data": {
      "text/plain": [
       "True"
      ]
     },
     "execution_count": 15,
     "metadata": {},
     "output_type": "execute_result"
    }
   ],
   "source": [
    "p<alpha"
   ]
  },
  {
   "cell_type": "markdown",
   "metadata": {},
   "source": [
    "$H_0$: There is no linear correlation between the Monthly charges and tenure"
   ]
  },
  {
   "cell_type": "markdown",
   "metadata": {},
   "source": [
    "##### Conclusion: there is a low positive correlation. Because p <α, we reject our $H_0$"
   ]
  },
  {
   "cell_type": "markdown",
   "metadata": {},
   "source": [
    "#### 1b. Does tenure correlate with total charges?"
   ]
  },
  {
   "cell_type": "code",
   "execution_count": 26,
   "metadata": {},
   "outputs": [],
   "source": [
    "x = df.tenure\n",
    "y= df.TotalCharges"
   ]
  },
  {
   "cell_type": "code",
   "execution_count": 27,
   "metadata": {},
   "outputs": [
    {
     "data": {
      "text/plain": [
       "<matplotlib.collections.PathCollection at 0x7facc1924ca0>"
      ]
     },
     "execution_count": 27,
     "metadata": {},
     "output_type": "execute_result"
    },
    {
     "data": {
      "image/png": "[encoded data removed]",
      "text/plain": [
       "<Figure size 432x288 with 1 Axes>"
      ]
     },
     "metadata": {
      "needs_background": "light"
     },
     "output_type": "display_data"
    }
   ],
   "source": [
    "plt.scatter(x,y)"
   ]
  },
  {
   "cell_type": "code",
   "execution_count": 28,
   "metadata": {},
   "outputs": [
    {
     "ename": "ValueError",
     "evalue": "array must not contain infs or NaNs",
     "output_type": "error",
     "traceback": [
      "\u001b[0;31m---------------------------------------------------------------------------\u001b[0m",
      "\u001b[0;31mValueError\u001b[0m                                Traceback (most recent call last)",
      "\u001b[0;32m<ipython-input-28-6c5510a73e52>\u001b[0m in \u001b[0;36m<module>\u001b[0;34m\u001b[0m\n\u001b[0;32m----> 1\u001b[0;31m \u001b[0mr\u001b[0m\u001b[0;34m,\u001b[0m \u001b[0mp\u001b[0m \u001b[0;34m=\u001b[0m \u001b[0mstats\u001b[0m\u001b[0;34m.\u001b[0m\u001b[0mpearsonr\u001b[0m\u001b[0;34m(\u001b[0m\u001b[0mx\u001b[0m\u001b[0;34m,\u001b[0m\u001b[0my\u001b[0m\u001b[0;34m)\u001b[0m\u001b[0;34m\u001b[0m\u001b[0;34m\u001b[0m\u001b[0m\n\u001b[0m\u001b[1;32m      2\u001b[0m \u001b[0mr\u001b[0m\u001b[0;34m,\u001b[0m \u001b[0mp\u001b[0m\u001b[0;34m\u001b[0m\u001b[0;34m\u001b[0m\u001b[0m\n",
      "\u001b[0;32m/opt/homebrew/anaconda3/lib/python3.8/site-packages/scipy/stats/stats.py\u001b[0m in \u001b[0;36mpearsonr\u001b[0;34m(x, y)\u001b[0m\n\u001b[1;32m   3866\u001b[0m     \u001b[0;31m# [-5e210, 5e210, 3e200, -3e200]\u001b[0m\u001b[0;34m\u001b[0m\u001b[0;34m\u001b[0m\u001b[0;34m\u001b[0m\u001b[0m\n\u001b[1;32m   3867\u001b[0m     \u001b[0mnormxm\u001b[0m \u001b[0;34m=\u001b[0m \u001b[0mlinalg\u001b[0m\u001b[0;34m.\u001b[0m\u001b[0mnorm\u001b[0m\u001b[0;34m(\u001b[0m\u001b[0mxm\u001b[0m\u001b[0;34m)\u001b[0m\u001b[0;34m\u001b[0m\u001b[0;34m\u001b[0m\u001b[0m\n\u001b[0;32m-> 3868\u001b[0;31m     \u001b[0mnormym\u001b[0m \u001b[0;34m=\u001b[0m \u001b[0mlinalg\u001b[0m\u001b[0;34m.\u001b[0m\u001b[0mnorm\u001b[0m\u001b[0;34m(\u001b[0m\u001b[0mym\u001b[0m\u001b[0;34m)\u001b[0m\u001b[0;34m\u001b[0m\u001b[0;34m\u001b[0m\u001b[0m\n\u001b[0m\u001b[1;32m   3869\u001b[0m \u001b[0;34m\u001b[0m\u001b[0m\n\u001b[1;32m   3870\u001b[0m     \u001b[0mthreshold\u001b[0m \u001b[0;34m=\u001b[0m \u001b[0;36m1e-13\u001b[0m\u001b[0;34m\u001b[0m\u001b[0;34m\u001b[0m\u001b[0m\n",
      "\u001b[0;32m/opt/homebrew/anaconda3/lib/python3.8/site-packages/scipy/linalg/misc.py\u001b[0m in \u001b[0;36mnorm\u001b[0;34m(a, ord, axis, keepdims, check_finite)\u001b[0m\n\u001b[1;32m    138\u001b[0m     \u001b[0;31m# Differs from numpy only in non-finite handling and the use of blas.\u001b[0m\u001b[0;34m\u001b[0m\u001b[0;34m\u001b[0m\u001b[0;34m\u001b[0m\u001b[0m\n\u001b[1;32m    139\u001b[0m     \u001b[0;32mif\u001b[0m \u001b[0mcheck_finite\u001b[0m\u001b[0;34m:\u001b[0m\u001b[0;34m\u001b[0m\u001b[0;34m\u001b[0m\u001b[0m\n\u001b[0;32m--> 140\u001b[0;31m         \u001b[0ma\u001b[0m \u001b[0;34m=\u001b[0m \u001b[0mnp\u001b[0m\u001b[0;34m.\u001b[0m\u001b[0masarray_chkfinite\u001b[0m\u001b[0;34m(\u001b[0m\u001b[0ma\u001b[0m\u001b[0;34m)\u001b[0m\u001b[0;34m\u001b[0m\u001b[0;34m\u001b[0m\u001b[0m\n\u001b[0m\u001b[1;32m    141\u001b[0m     \u001b[0;32melse\u001b[0m\u001b[0;34m:\u001b[0m\u001b[0;34m\u001b[0m\u001b[0;34m\u001b[0m\u001b[0m\n\u001b[1;32m    142\u001b[0m         \u001b[0ma\u001b[0m \u001b[0;34m=\u001b[0m \u001b[0mnp\u001b[0m\u001b[0;34m.\u001b[0m\u001b[0masarray\u001b[0m\u001b[0;34m(\u001b[0m\u001b[0ma\u001b[0m\u001b[0;34m)\u001b[0m\u001b[0;34m\u001b[0m\u001b[0;34m\u001b[0m\u001b[0m\n",
      "\u001b[0;32m/opt/homebrew/anaconda3/lib/python3.8/site-packages/numpy/lib/function_base.py\u001b[0m in \u001b[0;36masarray_chkfinite\u001b[0;34m(a, dtype, order)\u001b[0m\n\u001b[1;32m    483\u001b[0m     \u001b[0ma\u001b[0m \u001b[0;34m=\u001b[0m \u001b[0masarray\u001b[0m\u001b[0;34m(\u001b[0m\u001b[0ma\u001b[0m\u001b[0;34m,\u001b[0m \u001b[0mdtype\u001b[0m\u001b[0;34m=\u001b[0m\u001b[0mdtype\u001b[0m\u001b[0;34m,\u001b[0m \u001b[0morder\u001b[0m\u001b[0;34m=\u001b[0m\u001b[0morder\u001b[0m\u001b[0;34m)\u001b[0m\u001b[0;34m\u001b[0m\u001b[0;34m\u001b[0m\u001b[0m\n\u001b[1;32m    484\u001b[0m     \u001b[0;32mif\u001b[0m \u001b[0ma\u001b[0m\u001b[0;34m.\u001b[0m\u001b[0mdtype\u001b[0m\u001b[0;34m.\u001b[0m\u001b[0mchar\u001b[0m \u001b[0;32min\u001b[0m \u001b[0mtypecodes\u001b[0m\u001b[0;34m[\u001b[0m\u001b[0;34m'AllFloat'\u001b[0m\u001b[0;34m]\u001b[0m \u001b[0;32mand\u001b[0m \u001b[0;32mnot\u001b[0m \u001b[0mnp\u001b[0m\u001b[0;34m.\u001b[0m\u001b[0misfinite\u001b[0m\u001b[0;34m(\u001b[0m\u001b[0ma\u001b[0m\u001b[0;34m)\u001b[0m\u001b[0;34m.\u001b[0m\u001b[0mall\u001b[0m\u001b[0;34m(\u001b[0m\u001b[0;34m)\u001b[0m\u001b[0;34m:\u001b[0m\u001b[0;34m\u001b[0m\u001b[0;34m\u001b[0m\u001b[0m\n\u001b[0;32m--> 485\u001b[0;31m         raise ValueError(\n\u001b[0m\u001b[1;32m    486\u001b[0m             \"array must not contain infs or NaNs\")\n\u001b[1;32m    487\u001b[0m     \u001b[0;32mreturn\u001b[0m \u001b[0ma\u001b[0m\u001b[0;34m\u001b[0m\u001b[0;34m\u001b[0m\u001b[0m\n",
      "\u001b[0;31mValueError\u001b[0m: array must not contain infs or NaNs"
     ]
    }
   ],
   "source": [
    "r, p = stats.pearsonr(x,y)\n",
    "r, p"
   ]
  },
  {
   "cell_type": "markdown",
   "metadata": {},
   "source": [
    "#### #2 Use the employees database."
   ]
  },
  {
   "cell_type": "code",
   "execution_count": 35,
   "metadata": {},
   "outputs": [],
   "source": [
    "import numpy as np\n",
    "import pandas as pd\n",
    "import matplotlib.pyplot as plt\n",
    "from pydataset import data\n",
    "import seaborn as sns\n",
    "from env import host, user, password"
   ]
  },
  {
   "cell_type": "code",
   "execution_count": 36,
   "metadata": {},
   "outputs": [],
   "source": [
    "url = f'mysql+pymysql://{user}:{password}@{host}/employees'"
   ]
  },
  {
   "cell_type": "code",
   "execution_count": 37,
   "metadata": {},
   "outputs": [],
   "source": [
    "def get_db_url(user, password, host, db_name):\n",
    "    return f'mysql+pymysql://{user}:{password}@{host}/{db_name}'"
   ]
  },
  {
   "cell_type": "code",
   "execution_count": 39,
   "metadata": {},
   "outputs": [
    {
     "data": {
      "text/html": [
       "<div>\n",
       "<style scoped>\n",
       "    .dataframe tbody tr th:only-of-type {\n",
       "        vertical-align: middle;\n",
       "    }\n",
       "\n",
       "    .dataframe tbody tr th {\n",
       "        vertical-align: top;\n",
       "    }\n",
       "\n",
       "    .dataframe thead th {\n",
       "        text-align: right;\n",
       "    }\n",
       "</style>\n",
       "<table border=\"1\" class=\"dataframe\">\n",
       "  <thead>\n",
       "    <tr style=\"text-align: right;\">\n",
       "      <th></th>\n",
       "      <th>emp_no</th>\n",
       "      <th>birth_date</th>\n",
       "      <th>first_name</th>\n",
       "      <th>last_name</th>\n",
       "      <th>gender</th>\n",
       "      <th>hire_date</th>\n",
       "    </tr>\n",
       "  </thead>\n",
       "  <tbody>\n",
       "    <tr>\n",
       "      <th>0</th>\n",
       "      <td>10001</td>\n",
       "      <td>1953-09-02</td>\n",
       "      <td>Georgi</td>\n",
       "      <td>Facello</td>\n",
       "      <td>M</td>\n",
       "      <td>1986-06-26</td>\n",
       "    </tr>\n",
       "    <tr>\n",
       "      <th>1</th>\n",
       "      <td>10002</td>\n",
       "      <td>1964-06-02</td>\n",
       "      <td>Bezalel</td>\n",
       "      <td>Simmel</td>\n",
       "      <td>F</td>\n",
       "      <td>1985-11-21</td>\n",
       "    </tr>\n",
       "    <tr>\n",
       "      <th>2</th>\n",
       "      <td>10003</td>\n",
       "      <td>1959-12-03</td>\n",
       "      <td>Parto</td>\n",
       "      <td>Bamford</td>\n",
       "      <td>M</td>\n",
       "      <td>1986-08-28</td>\n",
       "    </tr>\n",
       "    <tr>\n",
       "      <th>3</th>\n",
       "      <td>10004</td>\n",
       "      <td>1954-05-01</td>\n",
       "      <td>Chirstian</td>\n",
       "      <td>Koblick</td>\n",
       "      <td>M</td>\n",
       "      <td>1986-12-01</td>\n",
       "    </tr>\n",
       "    <tr>\n",
       "      <th>4</th>\n",
       "      <td>10005</td>\n",
       "      <td>1955-01-21</td>\n",
       "      <td>Kyoichi</td>\n",
       "      <td>Maliniak</td>\n",
       "      <td>M</td>\n",
       "      <td>1989-09-12</td>\n",
       "    </tr>\n",
       "    <tr>\n",
       "      <th>5</th>\n",
       "      <td>10006</td>\n",
       "      <td>1953-04-20</td>\n",
       "      <td>Anneke</td>\n",
       "      <td>Preusig</td>\n",
       "      <td>F</td>\n",
       "      <td>1989-06-02</td>\n",
       "    </tr>\n",
       "    <tr>\n",
       "      <th>6</th>\n",
       "      <td>10007</td>\n",
       "      <td>1957-05-23</td>\n",
       "      <td>Tzvetan</td>\n",
       "      <td>Zielinski</td>\n",
       "      <td>F</td>\n",
       "      <td>1989-02-10</td>\n",
       "    </tr>\n",
       "    <tr>\n",
       "      <th>7</th>\n",
       "      <td>10008</td>\n",
       "      <td>1958-02-19</td>\n",
       "      <td>Saniya</td>\n",
       "      <td>Kalloufi</td>\n",
       "      <td>M</td>\n",
       "      <td>1994-09-15</td>\n",
       "    </tr>\n",
       "    <tr>\n",
       "      <th>8</th>\n",
       "      <td>10009</td>\n",
       "      <td>1952-04-19</td>\n",
       "      <td>Sumant</td>\n",
       "      <td>Peac</td>\n",
       "      <td>F</td>\n",
       "      <td>1985-02-18</td>\n",
       "    </tr>\n",
       "    <tr>\n",
       "      <th>9</th>\n",
       "      <td>10010</td>\n",
       "      <td>1963-06-01</td>\n",
       "      <td>Duangkaew</td>\n",
       "      <td>Piveteau</td>\n",
       "      <td>F</td>\n",
       "      <td>1989-08-24</td>\n",
       "    </tr>\n",
       "    <tr>\n",
       "      <th>10</th>\n",
       "      <td>10011</td>\n",
       "      <td>1953-11-07</td>\n",
       "      <td>Mary</td>\n",
       "      <td>Sluis</td>\n",
       "      <td>F</td>\n",
       "      <td>1990-01-22</td>\n",
       "    </tr>\n",
       "    <tr>\n",
       "      <th>11</th>\n",
       "      <td>10012</td>\n",
       "      <td>1960-10-04</td>\n",
       "      <td>Patricio</td>\n",
       "      <td>Bridgland</td>\n",
       "      <td>M</td>\n",
       "      <td>1992-12-18</td>\n",
       "    </tr>\n",
       "    <tr>\n",
       "      <th>12</th>\n",
       "      <td>10013</td>\n",
       "      <td>1963-06-07</td>\n",
       "      <td>Eberhardt</td>\n",
       "      <td>Terkki</td>\n",
       "      <td>M</td>\n",
       "      <td>1985-10-20</td>\n",
       "    </tr>\n",
       "    <tr>\n",
       "      <th>13</th>\n",
       "      <td>10014</td>\n",
       "      <td>1956-02-12</td>\n",
       "      <td>Berni</td>\n",
       "      <td>Genin</td>\n",
       "      <td>M</td>\n",
       "      <td>1987-03-11</td>\n",
       "    </tr>\n",
       "    <tr>\n",
       "      <th>14</th>\n",
       "      <td>10015</td>\n",
       "      <td>1959-08-19</td>\n",
       "      <td>Guoxiang</td>\n",
       "      <td>Nooteboom</td>\n",
       "      <td>M</td>\n",
       "      <td>1987-07-02</td>\n",
       "    </tr>\n",
       "    <tr>\n",
       "      <th>15</th>\n",
       "      <td>10016</td>\n",
       "      <td>1961-05-02</td>\n",
       "      <td>Kazuhito</td>\n",
       "      <td>Cappelletti</td>\n",
       "      <td>M</td>\n",
       "      <td>1995-01-27</td>\n",
       "    </tr>\n",
       "    <tr>\n",
       "      <th>16</th>\n",
       "      <td>10017</td>\n",
       "      <td>1958-07-06</td>\n",
       "      <td>Cristinel</td>\n",
       "      <td>Bouloucos</td>\n",
       "      <td>F</td>\n",
       "      <td>1993-08-03</td>\n",
       "    </tr>\n",
       "    <tr>\n",
       "      <th>17</th>\n",
       "      <td>10018</td>\n",
       "      <td>1954-06-19</td>\n",
       "      <td>Kazuhide</td>\n",
       "      <td>Peha</td>\n",
       "      <td>F</td>\n",
       "      <td>1987-04-03</td>\n",
       "    </tr>\n",
       "    <tr>\n",
       "      <th>18</th>\n",
       "      <td>10019</td>\n",
       "      <td>1953-01-23</td>\n",
       "      <td>Lillian</td>\n",
       "      <td>Haddadi</td>\n",
       "      <td>M</td>\n",
       "      <td>1999-04-30</td>\n",
       "    </tr>\n",
       "    <tr>\n",
       "      <th>19</th>\n",
       "      <td>10020</td>\n",
       "      <td>1952-12-24</td>\n",
       "      <td>Mayuko</td>\n",
       "      <td>Warwick</td>\n",
       "      <td>M</td>\n",
       "      <td>1991-01-26</td>\n",
       "    </tr>\n",
       "    <tr>\n",
       "      <th>20</th>\n",
       "      <td>10021</td>\n",
       "      <td>1960-02-20</td>\n",
       "      <td>Ramzi</td>\n",
       "      <td>Erde</td>\n",
       "      <td>M</td>\n",
       "      <td>1988-02-10</td>\n",
       "    </tr>\n",
       "    <tr>\n",
       "      <th>21</th>\n",
       "      <td>10022</td>\n",
       "      <td>1952-07-08</td>\n",
       "      <td>Shahaf</td>\n",
       "      <td>Famili</td>\n",
       "      <td>M</td>\n",
       "      <td>1995-08-22</td>\n",
       "    </tr>\n",
       "    <tr>\n",
       "      <th>22</th>\n",
       "      <td>10023</td>\n",
       "      <td>1953-09-29</td>\n",
       "      <td>Bojan</td>\n",
       "      <td>Montemayor</td>\n",
       "      <td>F</td>\n",
       "      <td>1989-12-17</td>\n",
       "    </tr>\n",
       "    <tr>\n",
       "      <th>23</th>\n",
       "      <td>10024</td>\n",
       "      <td>1958-09-05</td>\n",
       "      <td>Suzette</td>\n",
       "      <td>Pettey</td>\n",
       "      <td>F</td>\n",
       "      <td>1997-05-19</td>\n",
       "    </tr>\n",
       "    <tr>\n",
       "      <th>24</th>\n",
       "      <td>10025</td>\n",
       "      <td>1958-10-31</td>\n",
       "      <td>Prasadram</td>\n",
       "      <td>Heyers</td>\n",
       "      <td>M</td>\n",
       "      <td>1987-08-17</td>\n",
       "    </tr>\n",
       "    <tr>\n",
       "      <th>25</th>\n",
       "      <td>10026</td>\n",
       "      <td>1953-04-03</td>\n",
       "      <td>Yongqiao</td>\n",
       "      <td>Berztiss</td>\n",
       "      <td>M</td>\n",
       "      <td>1995-03-20</td>\n",
       "    </tr>\n",
       "    <tr>\n",
       "      <th>26</th>\n",
       "      <td>10027</td>\n",
       "      <td>1962-07-10</td>\n",
       "      <td>Divier</td>\n",
       "      <td>Reistad</td>\n",
       "      <td>F</td>\n",
       "      <td>1989-07-07</td>\n",
       "    </tr>\n",
       "    <tr>\n",
       "      <th>27</th>\n",
       "      <td>10028</td>\n",
       "      <td>1963-11-26</td>\n",
       "      <td>Domenick</td>\n",
       "      <td>Tempesti</td>\n",
       "      <td>M</td>\n",
       "      <td>1991-10-22</td>\n",
       "    </tr>\n",
       "    <tr>\n",
       "      <th>28</th>\n",
       "      <td>10029</td>\n",
       "      <td>1956-12-13</td>\n",
       "      <td>Otmar</td>\n",
       "      <td>Herbst</td>\n",
       "      <td>M</td>\n",
       "      <td>1985-11-20</td>\n",
       "    </tr>\n",
       "    <tr>\n",
       "      <th>29</th>\n",
       "      <td>10030</td>\n",
       "      <td>1958-07-14</td>\n",
       "      <td>Elvis</td>\n",
       "      <td>Demeyer</td>\n",
       "      <td>M</td>\n",
       "      <td>1994-02-17</td>\n",
       "    </tr>\n",
       "    <tr>\n",
       "      <th>30</th>\n",
       "      <td>10031</td>\n",
       "      <td>1959-01-27</td>\n",
       "      <td>Karsten</td>\n",
       "      <td>Joslin</td>\n",
       "      <td>M</td>\n",
       "      <td>1991-09-01</td>\n",
       "    </tr>\n",
       "    <tr>\n",
       "      <th>31</th>\n",
       "      <td>10032</td>\n",
       "      <td>1960-08-09</td>\n",
       "      <td>Jeong</td>\n",
       "      <td>Reistad</td>\n",
       "      <td>F</td>\n",
       "      <td>1990-06-20</td>\n",
       "    </tr>\n",
       "    <tr>\n",
       "      <th>32</th>\n",
       "      <td>10033</td>\n",
       "      <td>1956-11-14</td>\n",
       "      <td>Arif</td>\n",
       "      <td>Merlo</td>\n",
       "      <td>M</td>\n",
       "      <td>1987-03-18</td>\n",
       "    </tr>\n",
       "    <tr>\n",
       "      <th>33</th>\n",
       "      <td>10034</td>\n",
       "      <td>1962-12-29</td>\n",
       "      <td>Bader</td>\n",
       "      <td>Swan</td>\n",
       "      <td>M</td>\n",
       "      <td>1988-09-21</td>\n",
       "    </tr>\n",
       "    <tr>\n",
       "      <th>34</th>\n",
       "      <td>10035</td>\n",
       "      <td>1953-02-08</td>\n",
       "      <td>Alain</td>\n",
       "      <td>Chappelet</td>\n",
       "      <td>M</td>\n",
       "      <td>1988-09-05</td>\n",
       "    </tr>\n",
       "    <tr>\n",
       "      <th>35</th>\n",
       "      <td>10036</td>\n",
       "      <td>1959-08-10</td>\n",
       "      <td>Adamantios</td>\n",
       "      <td>Portugali</td>\n",
       "      <td>M</td>\n",
       "      <td>1992-01-03</td>\n",
       "    </tr>\n",
       "    <tr>\n",
       "      <th>36</th>\n",
       "      <td>10037</td>\n",
       "      <td>1963-07-22</td>\n",
       "      <td>Pradeep</td>\n",
       "      <td>Makrucki</td>\n",
       "      <td>M</td>\n",
       "      <td>1990-12-05</td>\n",
       "    </tr>\n",
       "    <tr>\n",
       "      <th>37</th>\n",
       "      <td>10038</td>\n",
       "      <td>1960-07-20</td>\n",
       "      <td>Huan</td>\n",
       "      <td>Lortz</td>\n",
       "      <td>M</td>\n",
       "      <td>1989-09-20</td>\n",
       "    </tr>\n",
       "    <tr>\n",
       "      <th>38</th>\n",
       "      <td>10039</td>\n",
       "      <td>1959-10-01</td>\n",
       "      <td>Alejandro</td>\n",
       "      <td>Brender</td>\n",
       "      <td>M</td>\n",
       "      <td>1988-01-19</td>\n",
       "    </tr>\n",
       "    <tr>\n",
       "      <th>39</th>\n",
       "      <td>10040</td>\n",
       "      <td>1959-09-13</td>\n",
       "      <td>Weiyi</td>\n",
       "      <td>Meriste</td>\n",
       "      <td>F</td>\n",
       "      <td>1993-02-14</td>\n",
       "    </tr>\n",
       "    <tr>\n",
       "      <th>40</th>\n",
       "      <td>10041</td>\n",
       "      <td>1959-08-27</td>\n",
       "      <td>Uri</td>\n",
       "      <td>Lenart</td>\n",
       "      <td>F</td>\n",
       "      <td>1989-11-12</td>\n",
       "    </tr>\n",
       "    <tr>\n",
       "      <th>41</th>\n",
       "      <td>10042</td>\n",
       "      <td>1956-02-26</td>\n",
       "      <td>Magy</td>\n",
       "      <td>Stamatiou</td>\n",
       "      <td>F</td>\n",
       "      <td>1993-03-21</td>\n",
       "    </tr>\n",
       "    <tr>\n",
       "      <th>42</th>\n",
       "      <td>10043</td>\n",
       "      <td>1960-09-19</td>\n",
       "      <td>Yishay</td>\n",
       "      <td>Tzvieli</td>\n",
       "      <td>M</td>\n",
       "      <td>1990-10-20</td>\n",
       "    </tr>\n",
       "    <tr>\n",
       "      <th>43</th>\n",
       "      <td>10044</td>\n",
       "      <td>1961-09-21</td>\n",
       "      <td>Mingsen</td>\n",
       "      <td>Casley</td>\n",
       "      <td>F</td>\n",
       "      <td>1994-05-21</td>\n",
       "    </tr>\n",
       "    <tr>\n",
       "      <th>44</th>\n",
       "      <td>10045</td>\n",
       "      <td>1957-08-14</td>\n",
       "      <td>Moss</td>\n",
       "      <td>Shanbhogue</td>\n",
       "      <td>M</td>\n",
       "      <td>1989-09-02</td>\n",
       "    </tr>\n",
       "    <tr>\n",
       "      <th>45</th>\n",
       "      <td>10046</td>\n",
       "      <td>1960-07-23</td>\n",
       "      <td>Lucien</td>\n",
       "      <td>Rosenbaum</td>\n",
       "      <td>M</td>\n",
       "      <td>1992-06-20</td>\n",
       "    </tr>\n",
       "    <tr>\n",
       "      <th>46</th>\n",
       "      <td>10047</td>\n",
       "      <td>1952-06-29</td>\n",
       "      <td>Zvonko</td>\n",
       "      <td>Nyanchama</td>\n",
       "      <td>M</td>\n",
       "      <td>1989-03-31</td>\n",
       "    </tr>\n",
       "    <tr>\n",
       "      <th>47</th>\n",
       "      <td>10048</td>\n",
       "      <td>1963-07-11</td>\n",
       "      <td>Florian</td>\n",
       "      <td>Syrotiuk</td>\n",
       "      <td>M</td>\n",
       "      <td>1985-02-24</td>\n",
       "    </tr>\n",
       "    <tr>\n",
       "      <th>48</th>\n",
       "      <td>10049</td>\n",
       "      <td>1961-04-24</td>\n",
       "      <td>Basil</td>\n",
       "      <td>Tramer</td>\n",
       "      <td>F</td>\n",
       "      <td>1992-05-04</td>\n",
       "    </tr>\n",
       "    <tr>\n",
       "      <th>49</th>\n",
       "      <td>10050</td>\n",
       "      <td>1958-05-21</td>\n",
       "      <td>Yinghua</td>\n",
       "      <td>Dredge</td>\n",
       "      <td>M</td>\n",
       "      <td>1990-12-25</td>\n",
       "    </tr>\n",
       "    <tr>\n",
       "      <th>50</th>\n",
       "      <td>10051</td>\n",
       "      <td>1953-07-28</td>\n",
       "      <td>Hidefumi</td>\n",
       "      <td>Caine</td>\n",
       "      <td>M</td>\n",
       "      <td>1992-10-15</td>\n",
       "    </tr>\n",
       "    <tr>\n",
       "      <th>51</th>\n",
       "      <td>10052</td>\n",
       "      <td>1961-02-26</td>\n",
       "      <td>Heping</td>\n",
       "      <td>Nitsch</td>\n",
       "      <td>M</td>\n",
       "      <td>1988-05-21</td>\n",
       "    </tr>\n",
       "    <tr>\n",
       "      <th>52</th>\n",
       "      <td>10053</td>\n",
       "      <td>1954-09-13</td>\n",
       "      <td>Sanjiv</td>\n",
       "      <td>Zschoche</td>\n",
       "      <td>F</td>\n",
       "      <td>1986-02-04</td>\n",
       "    </tr>\n",
       "    <tr>\n",
       "      <th>53</th>\n",
       "      <td>10054</td>\n",
       "      <td>1957-04-04</td>\n",
       "      <td>Mayumi</td>\n",
       "      <td>Schueller</td>\n",
       "      <td>M</td>\n",
       "      <td>1995-03-13</td>\n",
       "    </tr>\n",
       "    <tr>\n",
       "      <th>54</th>\n",
       "      <td>10055</td>\n",
       "      <td>1956-06-06</td>\n",
       "      <td>Georgy</td>\n",
       "      <td>Dredge</td>\n",
       "      <td>M</td>\n",
       "      <td>1992-04-27</td>\n",
       "    </tr>\n",
       "    <tr>\n",
       "      <th>55</th>\n",
       "      <td>10056</td>\n",
       "      <td>1961-09-01</td>\n",
       "      <td>Brendon</td>\n",
       "      <td>Bernini</td>\n",
       "      <td>F</td>\n",
       "      <td>1990-02-01</td>\n",
       "    </tr>\n",
       "    <tr>\n",
       "      <th>56</th>\n",
       "      <td>10057</td>\n",
       "      <td>1954-05-30</td>\n",
       "      <td>Ebbe</td>\n",
       "      <td>Callaway</td>\n",
       "      <td>F</td>\n",
       "      <td>1992-01-15</td>\n",
       "    </tr>\n",
       "    <tr>\n",
       "      <th>57</th>\n",
       "      <td>10058</td>\n",
       "      <td>1954-10-01</td>\n",
       "      <td>Berhard</td>\n",
       "      <td>McFarlin</td>\n",
       "      <td>M</td>\n",
       "      <td>1987-04-13</td>\n",
       "    </tr>\n",
       "    <tr>\n",
       "      <th>58</th>\n",
       "      <td>10059</td>\n",
       "      <td>1953-09-19</td>\n",
       "      <td>Alejandro</td>\n",
       "      <td>McAlpine</td>\n",
       "      <td>F</td>\n",
       "      <td>1991-06-26</td>\n",
       "    </tr>\n",
       "    <tr>\n",
       "      <th>59</th>\n",
       "      <td>10060</td>\n",
       "      <td>1961-10-15</td>\n",
       "      <td>Breannda</td>\n",
       "      <td>Billingsley</td>\n",
       "      <td>M</td>\n",
       "      <td>1987-11-02</td>\n",
       "    </tr>\n",
       "    <tr>\n",
       "      <th>60</th>\n",
       "      <td>10061</td>\n",
       "      <td>1962-10-19</td>\n",
       "      <td>Tse</td>\n",
       "      <td>Herber</td>\n",
       "      <td>M</td>\n",
       "      <td>1985-09-17</td>\n",
       "    </tr>\n",
       "    <tr>\n",
       "      <th>61</th>\n",
       "      <td>10062</td>\n",
       "      <td>1961-11-02</td>\n",
       "      <td>Anoosh</td>\n",
       "      <td>Peyn</td>\n",
       "      <td>M</td>\n",
       "      <td>1991-08-30</td>\n",
       "    </tr>\n",
       "    <tr>\n",
       "      <th>62</th>\n",
       "      <td>10063</td>\n",
       "      <td>1952-08-06</td>\n",
       "      <td>Gino</td>\n",
       "      <td>Leonhardt</td>\n",
       "      <td>F</td>\n",
       "      <td>1989-04-08</td>\n",
       "    </tr>\n",
       "    <tr>\n",
       "      <th>63</th>\n",
       "      <td>10064</td>\n",
       "      <td>1959-04-07</td>\n",
       "      <td>Udi</td>\n",
       "      <td>Jansch</td>\n",
       "      <td>M</td>\n",
       "      <td>1985-11-20</td>\n",
       "    </tr>\n",
       "    <tr>\n",
       "      <th>64</th>\n",
       "      <td>10065</td>\n",
       "      <td>1963-04-14</td>\n",
       "      <td>Satosi</td>\n",
       "      <td>Awdeh</td>\n",
       "      <td>M</td>\n",
       "      <td>1988-05-18</td>\n",
       "    </tr>\n",
       "    <tr>\n",
       "      <th>65</th>\n",
       "      <td>10066</td>\n",
       "      <td>1952-11-13</td>\n",
       "      <td>Kwee</td>\n",
       "      <td>Schusler</td>\n",
       "      <td>M</td>\n",
       "      <td>1986-02-26</td>\n",
       "    </tr>\n",
       "    <tr>\n",
       "      <th>66</th>\n",
       "      <td>10067</td>\n",
       "      <td>1953-01-07</td>\n",
       "      <td>Claudi</td>\n",
       "      <td>Stavenow</td>\n",
       "      <td>M</td>\n",
       "      <td>1987-03-04</td>\n",
       "    </tr>\n",
       "    <tr>\n",
       "      <th>67</th>\n",
       "      <td>10068</td>\n",
       "      <td>1962-11-26</td>\n",
       "      <td>Charlene</td>\n",
       "      <td>Brattka</td>\n",
       "      <td>M</td>\n",
       "      <td>1987-08-07</td>\n",
       "    </tr>\n",
       "    <tr>\n",
       "      <th>68</th>\n",
       "      <td>10069</td>\n",
       "      <td>1960-09-06</td>\n",
       "      <td>Margareta</td>\n",
       "      <td>Bierman</td>\n",
       "      <td>F</td>\n",
       "      <td>1989-11-05</td>\n",
       "    </tr>\n",
       "    <tr>\n",
       "      <th>69</th>\n",
       "      <td>10070</td>\n",
       "      <td>1955-08-20</td>\n",
       "      <td>Reuven</td>\n",
       "      <td>Garigliano</td>\n",
       "      <td>M</td>\n",
       "      <td>1985-10-14</td>\n",
       "    </tr>\n",
       "    <tr>\n",
       "      <th>70</th>\n",
       "      <td>10071</td>\n",
       "      <td>1958-01-21</td>\n",
       "      <td>Hisao</td>\n",
       "      <td>Lipner</td>\n",
       "      <td>M</td>\n",
       "      <td>1987-10-01</td>\n",
       "    </tr>\n",
       "    <tr>\n",
       "      <th>71</th>\n",
       "      <td>10072</td>\n",
       "      <td>1952-05-15</td>\n",
       "      <td>Hironoby</td>\n",
       "      <td>Sidou</td>\n",
       "      <td>F</td>\n",
       "      <td>1988-07-21</td>\n",
       "    </tr>\n",
       "    <tr>\n",
       "      <th>72</th>\n",
       "      <td>10073</td>\n",
       "      <td>1954-02-23</td>\n",
       "      <td>Shir</td>\n",
       "      <td>McClurg</td>\n",
       "      <td>M</td>\n",
       "      <td>1991-12-01</td>\n",
       "    </tr>\n",
       "    <tr>\n",
       "      <th>73</th>\n",
       "      <td>10074</td>\n",
       "      <td>1955-08-28</td>\n",
       "      <td>Mokhtar</td>\n",
       "      <td>Bernatsky</td>\n",
       "      <td>F</td>\n",
       "      <td>1990-08-13</td>\n",
       "    </tr>\n",
       "    <tr>\n",
       "      <th>74</th>\n",
       "      <td>10075</td>\n",
       "      <td>1960-03-09</td>\n",
       "      <td>Gao</td>\n",
       "      <td>Dolinsky</td>\n",
       "      <td>F</td>\n",
       "      <td>1987-03-19</td>\n",
       "    </tr>\n",
       "    <tr>\n",
       "      <th>75</th>\n",
       "      <td>10076</td>\n",
       "      <td>1952-06-13</td>\n",
       "      <td>Erez</td>\n",
       "      <td>Ritzmann</td>\n",
       "      <td>F</td>\n",
       "      <td>1985-07-09</td>\n",
       "    </tr>\n",
       "    <tr>\n",
       "      <th>76</th>\n",
       "      <td>10077</td>\n",
       "      <td>1964-04-18</td>\n",
       "      <td>Mona</td>\n",
       "      <td>Azuma</td>\n",
       "      <td>M</td>\n",
       "      <td>1990-03-02</td>\n",
       "    </tr>\n",
       "    <tr>\n",
       "      <th>77</th>\n",
       "      <td>10078</td>\n",
       "      <td>1959-12-25</td>\n",
       "      <td>Danel</td>\n",
       "      <td>Mondadori</td>\n",
       "      <td>F</td>\n",
       "      <td>1987-05-26</td>\n",
       "    </tr>\n",
       "    <tr>\n",
       "      <th>78</th>\n",
       "      <td>10079</td>\n",
       "      <td>1961-10-05</td>\n",
       "      <td>Kshitij</td>\n",
       "      <td>Gils</td>\n",
       "      <td>F</td>\n",
       "      <td>1986-03-27</td>\n",
       "    </tr>\n",
       "    <tr>\n",
       "      <th>79</th>\n",
       "      <td>10080</td>\n",
       "      <td>1957-12-03</td>\n",
       "      <td>Premal</td>\n",
       "      <td>Baek</td>\n",
       "      <td>M</td>\n",
       "      <td>1985-11-19</td>\n",
       "    </tr>\n",
       "    <tr>\n",
       "      <th>80</th>\n",
       "      <td>10081</td>\n",
       "      <td>1960-12-17</td>\n",
       "      <td>Zhongwei</td>\n",
       "      <td>Rosen</td>\n",
       "      <td>M</td>\n",
       "      <td>1986-10-30</td>\n",
       "    </tr>\n",
       "    <tr>\n",
       "      <th>81</th>\n",
       "      <td>10082</td>\n",
       "      <td>1963-09-09</td>\n",
       "      <td>Parviz</td>\n",
       "      <td>Lortz</td>\n",
       "      <td>M</td>\n",
       "      <td>1990-01-03</td>\n",
       "    </tr>\n",
       "    <tr>\n",
       "      <th>82</th>\n",
       "      <td>10083</td>\n",
       "      <td>1959-07-23</td>\n",
       "      <td>Vishv</td>\n",
       "      <td>Zockler</td>\n",
       "      <td>M</td>\n",
       "      <td>1987-03-31</td>\n",
       "    </tr>\n",
       "    <tr>\n",
       "      <th>83</th>\n",
       "      <td>10084</td>\n",
       "      <td>1960-05-25</td>\n",
       "      <td>Tuval</td>\n",
       "      <td>Kalloufi</td>\n",
       "      <td>M</td>\n",
       "      <td>1995-12-15</td>\n",
       "    </tr>\n",
       "    <tr>\n",
       "      <th>84</th>\n",
       "      <td>10085</td>\n",
       "      <td>1962-11-07</td>\n",
       "      <td>Kenroku</td>\n",
       "      <td>Malabarba</td>\n",
       "      <td>M</td>\n",
       "      <td>1994-04-09</td>\n",
       "    </tr>\n",
       "    <tr>\n",
       "      <th>85</th>\n",
       "      <td>10086</td>\n",
       "      <td>1962-11-19</td>\n",
       "      <td>Somnath</td>\n",
       "      <td>Foote</td>\n",
       "      <td>M</td>\n",
       "      <td>1990-02-16</td>\n",
       "    </tr>\n",
       "    <tr>\n",
       "      <th>86</th>\n",
       "      <td>10087</td>\n",
       "      <td>1959-07-23</td>\n",
       "      <td>Xinglin</td>\n",
       "      <td>Eugenio</td>\n",
       "      <td>F</td>\n",
       "      <td>1986-09-08</td>\n",
       "    </tr>\n",
       "    <tr>\n",
       "      <th>87</th>\n",
       "      <td>10088</td>\n",
       "      <td>1954-02-25</td>\n",
       "      <td>Jungsoon</td>\n",
       "      <td>Syrzycki</td>\n",
       "      <td>F</td>\n",
       "      <td>1988-09-02</td>\n",
       "    </tr>\n",
       "    <tr>\n",
       "      <th>88</th>\n",
       "      <td>10089</td>\n",
       "      <td>1963-03-21</td>\n",
       "      <td>Sudharsan</td>\n",
       "      <td>Flasterstein</td>\n",
       "      <td>F</td>\n",
       "      <td>1986-08-12</td>\n",
       "    </tr>\n",
       "    <tr>\n",
       "      <th>89</th>\n",
       "      <td>10090</td>\n",
       "      <td>1961-05-30</td>\n",
       "      <td>Kendra</td>\n",
       "      <td>Hofting</td>\n",
       "      <td>M</td>\n",
       "      <td>1986-03-14</td>\n",
       "    </tr>\n",
       "    <tr>\n",
       "      <th>90</th>\n",
       "      <td>10091</td>\n",
       "      <td>1955-10-04</td>\n",
       "      <td>Amabile</td>\n",
       "      <td>Gomatam</td>\n",
       "      <td>M</td>\n",
       "      <td>1992-11-18</td>\n",
       "    </tr>\n",
       "    <tr>\n",
       "      <th>91</th>\n",
       "      <td>10092</td>\n",
       "      <td>1964-10-18</td>\n",
       "      <td>Valdiodio</td>\n",
       "      <td>Niizuma</td>\n",
       "      <td>F</td>\n",
       "      <td>1989-09-22</td>\n",
       "    </tr>\n",
       "    <tr>\n",
       "      <th>92</th>\n",
       "      <td>10093</td>\n",
       "      <td>1964-06-11</td>\n",
       "      <td>Sailaja</td>\n",
       "      <td>Desikan</td>\n",
       "      <td>M</td>\n",
       "      <td>1996-11-05</td>\n",
       "    </tr>\n",
       "    <tr>\n",
       "      <th>93</th>\n",
       "      <td>10094</td>\n",
       "      <td>1957-05-25</td>\n",
       "      <td>Arumugam</td>\n",
       "      <td>Ossenbruggen</td>\n",
       "      <td>F</td>\n",
       "      <td>1987-04-18</td>\n",
       "    </tr>\n",
       "    <tr>\n",
       "      <th>94</th>\n",
       "      <td>10095</td>\n",
       "      <td>1965-01-03</td>\n",
       "      <td>Hilari</td>\n",
       "      <td>Morton</td>\n",
       "      <td>M</td>\n",
       "      <td>1986-07-15</td>\n",
       "    </tr>\n",
       "    <tr>\n",
       "      <th>95</th>\n",
       "      <td>10096</td>\n",
       "      <td>1954-09-16</td>\n",
       "      <td>Jayson</td>\n",
       "      <td>Mandell</td>\n",
       "      <td>M</td>\n",
       "      <td>1990-01-14</td>\n",
       "    </tr>\n",
       "    <tr>\n",
       "      <th>96</th>\n",
       "      <td>10097</td>\n",
       "      <td>1952-02-27</td>\n",
       "      <td>Remzi</td>\n",
       "      <td>Waschkowski</td>\n",
       "      <td>M</td>\n",
       "      <td>1990-09-15</td>\n",
       "    </tr>\n",
       "    <tr>\n",
       "      <th>97</th>\n",
       "      <td>10098</td>\n",
       "      <td>1961-09-23</td>\n",
       "      <td>Sreekrishna</td>\n",
       "      <td>Servieres</td>\n",
       "      <td>F</td>\n",
       "      <td>1985-05-13</td>\n",
       "    </tr>\n",
       "    <tr>\n",
       "      <th>98</th>\n",
       "      <td>10099</td>\n",
       "      <td>1956-05-25</td>\n",
       "      <td>Valter</td>\n",
       "      <td>Sullins</td>\n",
       "      <td>F</td>\n",
       "      <td>1988-10-18</td>\n",
       "    </tr>\n",
       "    <tr>\n",
       "      <th>99</th>\n",
       "      <td>10100</td>\n",
       "      <td>1953-04-21</td>\n",
       "      <td>Hironobu</td>\n",
       "      <td>Haraldson</td>\n",
       "      <td>F</td>\n",
       "      <td>1987-09-21</td>\n",
       "    </tr>\n",
       "  </tbody>\n",
       "</table>\n",
       "</div>"
      ],
      "text/plain": [
       "    emp_no  birth_date   first_name     last_name gender   hire_date\n",
       "0    10001  1953-09-02       Georgi       Facello      M  1986-06-26\n",
       "1    10002  1964-06-02      Bezalel        Simmel      F  1985-11-21\n",
       "2    10003  1959-12-03        Parto       Bamford      M  1986-08-28\n",
       "3    10004  1954-05-01    Chirstian       Koblick      M  1986-12-01\n",
       "4    10005  1955-01-21      Kyoichi      Maliniak      M  1989-09-12\n",
       "5    10006  1953-04-20       Anneke       Preusig      F  1989-06-02\n",
       "6    10007  1957-05-23      Tzvetan     Zielinski      F  1989-02-10\n",
       "7    10008  1958-02-19       Saniya      Kalloufi      M  1994-09-15\n",
       "8    10009  1952-04-19       Sumant          Peac      F  1985-02-18\n",
       "9    10010  1963-06-01    Duangkaew      Piveteau      F  1989-08-24\n",
       "10   10011  1953-11-07         Mary         Sluis      F  1990-01-22\n",
       "11   10012  1960-10-04     Patricio     Bridgland      M  1992-12-18\n",
       "12   10013  1963-06-07    Eberhardt        Terkki      M  1985-10-20\n",
       "13   10014  1956-02-12        Berni         Genin      M  1987-03-11\n",
       "14   10015  1959-08-19     Guoxiang     Nooteboom      M  1987-07-02\n",
       "15   10016  1961-05-02     Kazuhito   Cappelletti      M  1995-01-27\n",
       "16   10017  1958-07-06    Cristinel     Bouloucos      F  1993-08-03\n",
       "17   10018  1954-06-19     Kazuhide          Peha      F  1987-04-03\n",
       "18   10019  1953-01-23      Lillian       Haddadi      M  1999-04-30\n",
       "19   10020  1952-12-24       Mayuko       Warwick      M  1991-01-26\n",
       "20   10021  1960-02-20        Ramzi          Erde      M  1988-02-10\n",
       "21   10022  1952-07-08       Shahaf        Famili      M  1995-08-22\n",
       "22   10023  1953-09-29        Bojan    Montemayor      F  1989-12-17\n",
       "23   10024  1958-09-05      Suzette        Pettey      F  1997-05-19\n",
       "24   10025  1958-10-31    Prasadram        Heyers      M  1987-08-17\n",
       "25   10026  1953-04-03     Yongqiao      Berztiss      M  1995-03-20\n",
       "26   10027  1962-07-10       Divier       Reistad      F  1989-07-07\n",
       "27   10028  1963-11-26     Domenick      Tempesti      M  1991-10-22\n",
       "28   10029  1956-12-13        Otmar        Herbst      M  1985-11-20\n",
       "29   10030  1958-07-14        Elvis       Demeyer      M  1994-02-17\n",
       "30   10031  1959-01-27      Karsten        Joslin      M  1991-09-01\n",
       "31   10032  1960-08-09        Jeong       Reistad      F  1990-06-20\n",
       "32   10033  1956-11-14         Arif         Merlo      M  1987-03-18\n",
       "33   10034  1962-12-29        Bader          Swan      M  1988-09-21\n",
       "34   10035  1953-02-08        Alain     Chappelet      M  1988-09-05\n",
       "35   10036  1959-08-10   Adamantios     Portugali      M  1992-01-03\n",
       "36   10037  1963-07-22      Pradeep      Makrucki      M  1990-12-05\n",
       "37   10038  1960-07-20         Huan         Lortz      M  1989-09-20\n",
       "38   10039  1959-10-01    Alejandro       Brender      M  1988-01-19\n",
       "39   10040  1959-09-13        Weiyi       Meriste      F  1993-02-14\n",
       "40   10041  1959-08-27          Uri        Lenart      F  1989-11-12\n",
       "41   10042  1956-02-26         Magy     Stamatiou      F  1993-03-21\n",
       "42   10043  1960-09-19       Yishay       Tzvieli      M  1990-10-20\n",
       "43   10044  1961-09-21      Mingsen        Casley      F  1994-05-21\n",
       "44   10045  1957-08-14         Moss    Shanbhogue      M  1989-09-02\n",
       "45   10046  1960-07-23       Lucien     Rosenbaum      M  1992-06-20\n",
       "46   10047  1952-06-29       Zvonko     Nyanchama      M  1989-03-31\n",
       "47   10048  1963-07-11      Florian      Syrotiuk      M  1985-02-24\n",
       "48   10049  1961-04-24        Basil        Tramer      F  1992-05-04\n",
       "49   10050  1958-05-21      Yinghua        Dredge      M  1990-12-25\n",
       "50   10051  1953-07-28     Hidefumi         Caine      M  1992-10-15\n",
       "51   10052  1961-02-26       Heping        Nitsch      M  1988-05-21\n",
       "52   10053  1954-09-13       Sanjiv      Zschoche      F  1986-02-04\n",
       "53   10054  1957-04-04       Mayumi     Schueller      M  1995-03-13\n",
       "54   10055  1956-06-06       Georgy        Dredge      M  1992-04-27\n",
       "55   10056  1961-09-01      Brendon       Bernini      F  1990-02-01\n",
       "56   10057  1954-05-30         Ebbe      Callaway      F  1992-01-15\n",
       "57   10058  1954-10-01      Berhard      McFarlin      M  1987-04-13\n",
       "58   10059  1953-09-19    Alejandro      McAlpine      F  1991-06-26\n",
       "59   10060  1961-10-15     Breannda   Billingsley      M  1987-11-02\n",
       "60   10061  1962-10-19          Tse        Herber      M  1985-09-17\n",
       "61   10062  1961-11-02       Anoosh          Peyn      M  1991-08-30\n",
       "62   10063  1952-08-06         Gino     Leonhardt      F  1989-04-08\n",
       "63   10064  1959-04-07          Udi        Jansch      M  1985-11-20\n",
       "64   10065  1963-04-14       Satosi         Awdeh      M  1988-05-18\n",
       "65   10066  1952-11-13         Kwee      Schusler      M  1986-02-26\n",
       "66   10067  1953-01-07       Claudi      Stavenow      M  1987-03-04\n",
       "67   10068  1962-11-26     Charlene       Brattka      M  1987-08-07\n",
       "68   10069  1960-09-06    Margareta       Bierman      F  1989-11-05\n",
       "69   10070  1955-08-20       Reuven    Garigliano      M  1985-10-14\n",
       "70   10071  1958-01-21        Hisao        Lipner      M  1987-10-01\n",
       "71   10072  1952-05-15     Hironoby         Sidou      F  1988-07-21\n",
       "72   10073  1954-02-23         Shir       McClurg      M  1991-12-01\n",
       "73   10074  1955-08-28      Mokhtar     Bernatsky      F  1990-08-13\n",
       "74   10075  1960-03-09          Gao      Dolinsky      F  1987-03-19\n",
       "75   10076  1952-06-13         Erez      Ritzmann      F  1985-07-09\n",
       "76   10077  1964-04-18         Mona         Azuma      M  1990-03-02\n",
       "77   10078  1959-12-25        Danel     Mondadori      F  1987-05-26\n",
       "78   10079  1961-10-05      Kshitij          Gils      F  1986-03-27\n",
       "79   10080  1957-12-03       Premal          Baek      M  1985-11-19\n",
       "80   10081  1960-12-17     Zhongwei         Rosen      M  1986-10-30\n",
       "81   10082  1963-09-09       Parviz         Lortz      M  1990-01-03\n",
       "82   10083  1959-07-23        Vishv       Zockler      M  1987-03-31\n",
       "83   10084  1960-05-25        Tuval      Kalloufi      M  1995-12-15\n",
       "84   10085  1962-11-07      Kenroku     Malabarba      M  1994-04-09\n",
       "85   10086  1962-11-19      Somnath         Foote      M  1990-02-16\n",
       "86   10087  1959-07-23      Xinglin       Eugenio      F  1986-09-08\n",
       "87   10088  1954-02-25     Jungsoon      Syrzycki      F  1988-09-02\n",
       "88   10089  1963-03-21    Sudharsan  Flasterstein      F  1986-08-12\n",
       "89   10090  1961-05-30       Kendra       Hofting      M  1986-03-14\n",
       "90   10091  1955-10-04      Amabile       Gomatam      M  1992-11-18\n",
       "91   10092  1964-10-18    Valdiodio       Niizuma      F  1989-09-22\n",
       "92   10093  1964-06-11      Sailaja       Desikan      M  1996-11-05\n",
       "93   10094  1957-05-25     Arumugam  Ossenbruggen      F  1987-04-18\n",
       "94   10095  1965-01-03       Hilari        Morton      M  1986-07-15\n",
       "95   10096  1954-09-16       Jayson       Mandell      M  1990-01-14\n",
       "96   10097  1952-02-27        Remzi   Waschkowski      M  1990-09-15\n",
       "97   10098  1961-09-23  Sreekrishna     Servieres      F  1985-05-13\n",
       "98   10099  1956-05-25       Valter       Sullins      F  1988-10-18\n",
       "99   10100  1953-04-21     Hironobu     Haraldson      F  1987-09-21"
      ]
     },
     "execution_count": 39,
     "metadata": {},
     "output_type": "execute_result"
    }
   ],
   "source": [
    "employees_df = pd.read_sql('SELECT * from employees limit 100', url)\n",
    "employees_df"
   ]
  },
  {
   "cell_type": "code",
   "execution_count": null,
   "metadata": {},
   "outputs": [],
   "source": [
    "#### 2a. Is there a relationship between how long an employee has been with the company and their salary?\n"
   ]
  },
  {
   "cell_type": "code",
   "execution_count": null,
   "metadata": {},
   "outputs": [],
   "source": [
    "#### 2b. Is there a relationship between how long an employee has been with the company and the number of titles they have had?"
   ]
  }
 ],
 "metadata": {
  "kernelspec": {
   "display_name": "Python 3",
   "language": "python",
   "name": "python3"
  },
  "language_info": {
   "codemirror_mode": {
    "name": "ipython",
    "version": 3
   },
   "file_extension": ".py",
   "mimetype": "text/x-python",
   "name": "python",
   "nbconvert_exporter": "python",
   "pygments_lexer": "ipython3",
   "version": "3.8.5"
  }
 },
 "nbformat": 4,
 "nbformat_minor": 4
}
