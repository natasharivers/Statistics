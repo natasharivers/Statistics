{
 "cells": [
  {
   "cell_type": "code",
   "execution_count": 2,
   "metadata": {},
   "outputs": [],
   "source": [
    "import matplotlib.pyplot as plt\n",
    "import numpy as np\n",
    "import pandas as pd\n",
    "from scipy import stats"
   ]
  },
  {
   "cell_type": "markdown",
   "metadata": {},
   "source": [
    "Probabiity Distributions: Mathematical functions that we can use to model real-world processes."
   ]
  },
  {
   "cell_type": "markdown",
   "metadata": {},
   "source": [
    "### DISCRETE VS CONTINIOUS:"
   ]
  },
  {
   "cell_type": "markdown",
   "metadata": {},
   "source": [
    "##### Discrete distribution:\n",
    "- Examples: \n",
    "    - Number of customer complaints\n",
    "    - Number of calls received in a call-center per hour\n",
    "    - Number of food trucks at Travis Park in a day\n",
    "\n",
    "- Bar Chart"
   ]
  },
  {
   "cell_type": "markdown",
   "metadata": {},
   "source": [
    "##### Continuous distribution:\n",
    "- Examples:\n",
    "    - Height\n",
    "    - Temperature\n",
    "    - Employee salaries"
   ]
  },
  {
   "cell_type": "markdown",
   "metadata": {},
   "source": [
    "### Types of Distributions:\n",
    "- Uniform distribution\n",
    "- Normal distribution\n",
    "- Binomial distribution\n",
    "- Poisson distrbution\n",
    "\n",
    "https://en.wikipedia.org/wiki/List_of_probability_distributions\n",
    "https://www.kdnuggets.com/2020/02/probability-distributions-data-science.html\n"
   ]
  },
  {
   "cell_type": "code",
   "execution_count": null,
   "metadata": {},
   "outputs": [],
   "source": []
  }
 ],
 "metadata": {
  "kernelspec": {
   "display_name": "Python 3",
   "language": "python",
   "name": "python3"
  },
  "language_info": {
   "codemirror_mode": {
    "name": "ipython",
    "version": 3
   },
   "file_extension": ".py",
   "mimetype": "text/x-python",
   "name": "python",
   "nbconvert_exporter": "python",
   "pygments_lexer": "ipython3",
   "version": "3.8.5"
  }
 },
 "nbformat": 4,
 "nbformat_minor": 4
}
