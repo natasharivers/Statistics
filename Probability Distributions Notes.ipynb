{
 "cells": [
  {
   "cell_type": "code",
   "execution_count": 2,
   "metadata": {},
   "outputs": [],
   "source": [
    "import matplotlib.pyplot as plt\n",
    "import numpy as np\n",
    "import pandas as pd\n",
    "from scipy import stats"
   ]
  },
  {
   "cell_type": "markdown",
   "metadata": {},
   "source": [
    "Probabiity Distributions: Mathematical functions that we can use to model real-world processes."
   ]
  },
  {
   "cell_type": "markdown",
   "metadata": {},
   "source": [
    "### DISCRETE VS CONTINIOUS:"
   ]
  },
  {
   "cell_type": "markdown",
   "metadata": {},
   "source": [
    "##### Discrete distribution:\n",
    "- Examples: \n",
    "    - Number of customer complaints\n",
    "    - Number of calls received in a call-center per hour\n",
    "    - Number of food trucks at Travis Park in a day\n",
    "\n",
    "- Bar Chart"
   ]
  },
  {
   "cell_type": "markdown",
   "metadata": {},
   "source": [
    "##### Continuous distribution:\n",
    "- Examples:\n",
    "    - Height\n",
    "    - Temperature\n",
    "    - Employee salaries"
   ]
  },
  {
   "cell_type": "markdown",
   "metadata": {},
   "source": [
    "### Types of Distributions:\n",
    "- Uniform distribution\n",
    "- Normal distribution\n",
    "- Binomial distribution\n",
    "- Poisson distrbution\n",
    "\n",
    "https://en.wikipedia.org/wiki/List_of_probability_distributions\n",
    "https://www.kdnuggets.com/2020/02/probability-distributions-data-science.html\n"
   ]
  },
  {
   "cell_type": "markdown",
   "metadata": {},
   "source": [
    "#### scipy distribution object: What can we calculate from distribution?\n",
    "\n",
    "\n",
    "- value --> probability  \n",
    "   -- pmf: equal to a point (only for discrete distributions!)  \n",
    "    -- pdf: equal to a point (for continuous distributions)  \n",
    "   -- cdf: less than or equal to a point  \n",
    "   -- sf: greater than a point  \n",
    "- probability --> value  \n",
    "   -- ppf: less than or equal to a point  \n",
    "   -- isf: greater than a point  \n",
    "- rvs for random values "
   ]
  },
  {
   "cell_type": "markdown",
   "metadata": {},
   "source": [
    "### Uniform Distribution"
   ]
  },
  {
   "cell_type": "markdown",
   "metadata": {},
   "source": [
    "- Rolling a fair 6-sided die\n",
    "    - what does the probability distribution look like?"
   ]
  },
  {
   "cell_type": "markdown",
   "metadata": {},
   "source": [
    "### Using Scipy stats module"
   ]
  },
  {
   "cell_type": "code",
   "execution_count": 3,
   "metadata": {},
   "outputs": [
    {
     "data": {
      "text/plain": [
       "<scipy.stats._distn_infrastructure.rv_frozen at 0x7fcf82e8bb20>"
      ]
     },
     "execution_count": 3,
     "metadata": {},
     "output_type": "execute_result"
    }
   ],
   "source": [
    "die_distribution = stats.randint(1,7)\n",
    "die_distribution"
   ]
  },
  {
   "cell_type": "code",
   "execution_count": 4,
   "metadata": {},
   "outputs": [
    {
     "data": {
      "text/plain": [
       "0.16666666666666666"
      ]
     },
     "execution_count": 4,
     "metadata": {},
     "output_type": "execute_result"
    }
   ],
   "source": [
    "# What is probability of rolling 3?\n",
    "\n",
    "die_distribution.pmf(3)"
   ]
  },
  {
   "cell_type": "code",
   "execution_count": 5,
   "metadata": {},
   "outputs": [
    {
     "data": {
      "text/plain": [
       "0.5"
      ]
     },
     "execution_count": 5,
     "metadata": {},
     "output_type": "execute_result"
    }
   ],
   "source": [
    "# What is probability of rolling 3 or less?\n",
    "\n",
    "die_distribution.cdf(3)"
   ]
  },
  {
   "cell_type": "code",
   "execution_count": 6,
   "metadata": {},
   "outputs": [
    {
     "data": {
      "text/plain": [
       "0.5"
      ]
     },
     "execution_count": 6,
     "metadata": {},
     "output_type": "execute_result"
    }
   ],
   "source": [
    "# What is the likelihood we roll a value higher than 4?\n",
    "\n",
    "die_distribution.sf(3)"
   ]
  },
  {
   "cell_type": "code",
   "execution_count": 7,
   "metadata": {},
   "outputs": [
    {
     "data": {
      "text/plain": [
       "nan"
      ]
     },
     "execution_count": 7,
     "metadata": {},
     "output_type": "execute_result"
    }
   ],
   "source": [
    "# There is a 1/3 chance a dice roll will be higher than what value\n",
    "\n",
    "die_distribution.isf(3)"
   ]
  },
  {
   "cell_type": "markdown",
   "metadata": {},
   "source": [
    "### Normal Distribution"
   ]
  },
  {
   "cell_type": "markdown",
   "metadata": {},
   "source": [
    "- Bell shaped\n",
    "- Most observations are closer to the mean\n",
    "- Common in nature. Examples\n",
    "    - Height\n",
    "    - time a flight takes from point A to B\n",
    "    - manufacturing\n",
    "- 2 parameters\n",
    "    - mean ($\\mu$)\n",
    "    - std dev ($\\sigma$)"
   ]
  },
  {
   "cell_type": "markdown",
   "metadata": {},
   "source": [
    "#### Suppose that a store's daily sales are normally distributed with a mean of 12,000 dollars and standard deviation of 2000 dollars.\n",
    " - What is the probability that sales are 10,000 dollars on a certain day.     \n",
    " - What is the probability that sales are 10,000 dollars <ins>or less</ins> on a certain day.\n",
    " - What is the probability that sales are greater than 15,000 dollars on a certain day.\n",
    " - How much would the daily sales have to be to be in the top 10% of all days?"
   ]
  },
  {
   "cell_type": "markdown",
   "metadata": {},
   "source": [
    "#### *graph in \"probability_distribution_lesson\"*"
   ]
  },
  {
   "cell_type": "markdown",
   "metadata": {},
   "source": [
    "####  #1 What is the probability that sales are 10,000 dollars on a certain day?"
   ]
  },
  {
   "cell_type": "code",
   "execution_count": 10,
   "metadata": {},
   "outputs": [],
   "source": [
    "#parameters\n",
    "mean= 12000\n",
    "std_dev = 2000\n",
    "\n",
    "#random variable \n",
    "#x= daily sales"
   ]
  },
  {
   "cell_type": "code",
   "execution_count": 11,
   "metadata": {},
   "outputs": [
    {
     "data": {
      "text/plain": [
       "<scipy.stats._distn_infrastructure.rv_frozen at 0x7fcf6006c1f0>"
      ]
     },
     "execution_count": 11,
     "metadata": {},
     "output_type": "execute_result"
    }
   ],
   "source": [
    "sales = stats.norm(mean, std_dev)\n",
    "#can also say, sales=stats.norm(12000,2000)\n",
    "sales"
   ]
  },
  {
   "cell_type": "code",
   "execution_count": 12,
   "metadata": {},
   "outputs": [
    {
     "data": {
      "text/plain": [
       "0.00012098536225957169"
      ]
     },
     "execution_count": 12,
     "metadata": {},
     "output_type": "execute_result"
    }
   ],
   "source": [
    "#p_sales = 10000 \n",
    "sales.pdf(10000)\n",
    "#^-- have to use \"pdf\" because its continuous distribution"
   ]
  },
  {
   "cell_type": "code",
   "execution_count": 14,
   "metadata": {},
   "outputs": [
    {
     "data": {
      "text/plain": [
       "0.0001"
      ]
     },
     "execution_count": 14,
     "metadata": {},
     "output_type": "execute_result"
    }
   ],
   "source": [
    "sales.pdf(10000).round(4) #this will round result to 4 places"
   ]
  },
  {
   "cell_type": "markdown",
   "metadata": {},
   "source": [
    "#### #2 What is the probability that sales are 10,000 dollars \n",
    "#### or less on a certain day."
   ]
  },
  {
   "cell_type": "code",
   "execution_count": 13,
   "metadata": {},
   "outputs": [
    {
     "data": {
      "text/plain": [
       "0.15865525393145707"
      ]
     },
     "execution_count": 13,
     "metadata": {},
     "output_type": "execute_result"
    }
   ],
   "source": [
    "sales.cdf(10000)\n",
    "#^-- must use \"cdf\" because its an amount or LESS than"
   ]
  },
  {
   "cell_type": "markdown",
   "metadata": {},
   "source": [
    "#### #3 What is the probability that sales are greater than 15,000 dollars on a certain day."
   ]
  },
  {
   "cell_type": "code",
   "execution_count": 17,
   "metadata": {},
   "outputs": [
    {
     "data": {
      "text/plain": [
       "0.06680720126885807"
      ]
     },
     "execution_count": 17,
     "metadata": {},
     "output_type": "execute_result"
    }
   ],
   "source": [
    "sales.sf(15000)\n",
    "#^-- use \"sf\" because its GREATER than the amount"
   ]
  },
  {
   "cell_type": "markdown",
   "metadata": {},
   "source": [
    "#### #4 How much would the daily sales have to be to be in the top 10% of all days?"
   ]
  },
  {
   "cell_type": "code",
   "execution_count": 20,
   "metadata": {},
   "outputs": [
    {
     "data": {
      "text/plain": [
       "14563.1031"
      ]
     },
     "execution_count": 20,
     "metadata": {},
     "output_type": "execute_result"
    }
   ],
   "source": [
    "#in this case, you KNOW the probability already and you need to find the amount\n",
    "sales.isf(0.1).round(4)"
   ]
  },
  {
   "cell_type": "markdown",
   "metadata": {},
   "source": [
    "#### Manufacturing tolerances example:\n",
    "\n",
    "#### Apple machines the front glass of iphone to mean thickness of 500 $\\mu$m. Upon inspecting a sample of 1000 phone off assembly line, the standard deviation of the thickness was measured as 25 $\\mu$m. \n",
    "#### Apple spec sheet list the max and min tolerances on glass thickness and +/- 50 $\\mu$m. Meaning anything iphone built with glass thickness greater than 550 $\\mu$m or less than 450 $\\mu$m is considered defective.\n",
    "\n",
    "1. If the assembly line produced 1000,000 iphone last year, how many iphone were built as 'defective'.\n",
    "\n",
    "2. If the standard deviation of thickness increased to 33 $\\mu$m due to manufacuring issue at the assembly plant, how many defective iphones were built?\n",
    "\n",
    "3. Apple was able to implement new improved machining process and reduce the std dev to 14 $\\mu$m. How many defective iphone will be built?\n",
    "\n",
    "### Chart in \"probability_distributions_lessons\""
   ]
  },
  {
   "cell_type": "markdown",
   "metadata": {},
   "source": [
    "#### 1. If the assembly line produced 1000,000 iphone last year, how many iphone were built as 'defective'."
   ]
  },
  {
   "cell_type": "code",
   "execution_count": 22,
   "metadata": {},
   "outputs": [],
   "source": [
    "#parameters\n",
    "mean= 500\n",
    "std_dev= 25"
   ]
  },
  {
   "cell_type": "code",
   "execution_count": 23,
   "metadata": {},
   "outputs": [],
   "source": [
    "#distribution\n",
    "phones= stats.norm(mean, std_dev)"
   ]
  },
  {
   "cell_type": "code",
   "execution_count": 24,
   "metadata": {},
   "outputs": [
    {
     "data": {
      "text/plain": [
       "0.04550026389635839"
      ]
     },
     "execution_count": 24,
     "metadata": {},
     "output_type": "execute_result"
    }
   ],
   "source": [
    "#defective is >550 or <450\n",
    "phones.sf(550) + phones.cdf(450) #gives propability"
   ]
  },
  {
   "cell_type": "code",
   "execution_count": 25,
   "metadata": {},
   "outputs": [
    {
     "data": {
      "text/plain": [
       "45500.26389635839"
      ]
     },
     "execution_count": 25,
     "metadata": {},
     "output_type": "execute_result"
    }
   ],
   "source": [
    "#BUT need to multiply by number of phones\n",
    "(phones.sf(550) + phones.cdf(450)) *1_000_000\n",
    "#45,500 defective phones out of 1M"
   ]
  },
  {
   "cell_type": "markdown",
   "metadata": {},
   "source": [
    "#### 2. If the standard deviation of thickness increased to 33 $\\mu$m due to manufacuring issue at the assembly plant, how many defective iphones were built?"
   ]
  },
  {
   "cell_type": "code",
   "execution_count": 26,
   "metadata": {},
   "outputs": [],
   "source": [
    "#std_dev changed so we need to run parameters and distribution again\n",
    "mean = 500\n",
    "std_dev = 33\n",
    "phones= stats.norm(mean, std_dev)"
   ]
  },
  {
   "cell_type": "code",
   "execution_count": 27,
   "metadata": {},
   "outputs": [
    {
     "data": {
      "text/plain": [
       "129734.03829466889"
      ]
     },
     "execution_count": 27,
     "metadata": {},
     "output_type": "execute_result"
    }
   ],
   "source": [
    "(phones.sf(550) + phones.cdf(450)) *1_000_000\n",
    "#129,734 defective out of 1M"
   ]
  },
  {
   "cell_type": "markdown",
   "metadata": {},
   "source": [
    "#### 3. Apple was able to implement new improved machining process and reduce the std dev to 14 $\\mu$m. How many defective iphone will be built?"
   ]
  },
  {
   "cell_type": "code",
   "execution_count": 30,
   "metadata": {},
   "outputs": [],
   "source": [
    "#std_dev decreased greatly. need to redefine parameters and distribution again\n",
    "mean = 500\n",
    "std_dev = 14\n",
    "phones= stats.norm(mean, std_dev)"
   ]
  },
  {
   "cell_type": "code",
   "execution_count": 29,
   "metadata": {},
   "outputs": [
    {
     "data": {
      "text/plain": [
       "355.03938074694156"
      ]
     },
     "execution_count": 29,
     "metadata": {},
     "output_type": "execute_result"
    }
   ],
   "source": [
    "(phones.sf(550) + phones.cdf(450)) *1_000_000\n",
    "#355 defective out of 1M"
   ]
  },
  {
   "cell_type": "markdown",
   "metadata": {},
   "source": [
    "## EXERCISES:\n",
    "The average battery life for a fully charges iphone-12 is 14 hours with standard deviation of 1.5 hour\n",
    "\n",
    "\n",
    "1. What kind of probability distribution represents the random variable \"battery life in hours\"?\n",
    "\n",
    "\n",
    "2. What are the appropriate defining parameters for this distribution?\n",
    "\n",
    "\n",
    "3. Create a Scipy object/instance for this distribution\n",
    "\n",
    "\n",
    "4. Use the object create above and choose appropriate method (e.g. pmf, cdf, ppf etc.) to calculate the following:  \n",
    "\n",
    "\n",
    "     a. What is the probability the cell phone battery more than 16 hours.  \n",
    "     b. What is probability that cell phone battery lasts for exactly 12 hours.  \n",
    "     c. What is the probability that cell phone battery lasts for 12 hours or less.  \n",
    "     d. How many hours do the battery lasts for top 25% longest lasting phones.  "
   ]
  },
  {
   "cell_type": "markdown",
   "metadata": {},
   "source": [
    "#### 1. What kind of probability distribution represents the random variable \"battery life in hours\"?"
   ]
  },
  {
   "cell_type": "code",
   "execution_count": 31,
   "metadata": {},
   "outputs": [],
   "source": [
    "# normal distribution"
   ]
  },
  {
   "cell_type": "markdown",
   "metadata": {},
   "source": [
    "#### 2. What are the appropriate defining parameters for this distribution?\n"
   ]
  },
  {
   "cell_type": "code",
   "execution_count": 43,
   "metadata": {},
   "outputs": [],
   "source": [
    "mean = 14\n",
    "std_dev = 1.5"
   ]
  },
  {
   "cell_type": "markdown",
   "metadata": {},
   "source": [
    "#### 3. Create a Scipy object/instance for this distribution"
   ]
  },
  {
   "cell_type": "code",
   "execution_count": 44,
   "metadata": {},
   "outputs": [],
   "source": [
    "battery_life = stats.norm(mean, std_dev)"
   ]
  },
  {
   "cell_type": "markdown",
   "metadata": {},
   "source": [
    "#### 4. Use the object create above and choose appropriate method (e.g. pmf, cdf, ppf etc.) to calculate the following: "
   ]
  },
  {
   "cell_type": "markdown",
   "metadata": {},
   "source": [
    "##### a. What is the probability the cell phone battery more than 16 hours.  "
   ]
  },
  {
   "cell_type": "code",
   "execution_count": 45,
   "metadata": {},
   "outputs": [
    {
     "data": {
      "text/plain": [
       "0.09121121972586788"
      ]
     },
     "execution_count": 45,
     "metadata": {},
     "output_type": "execute_result"
    }
   ],
   "source": [
    "battery_life.sf(16)"
   ]
  },
  {
   "cell_type": "markdown",
   "metadata": {},
   "source": [
    "##### b. What is probability that cell phone battery lasts for exactly 12 hours.  "
   ]
  },
  {
   "cell_type": "code",
   "execution_count": 46,
   "metadata": {},
   "outputs": [
    {
     "data": {
      "text/plain": [
       "0.10934004978399577"
      ]
     },
     "execution_count": 46,
     "metadata": {},
     "output_type": "execute_result"
    }
   ],
   "source": [
    "battery_life.pdf(12)"
   ]
  },
  {
   "cell_type": "markdown",
   "metadata": {},
   "source": [
    "#####  c. What is the probability that cell phone battery lasts for 12 hours or less.  "
   ]
  },
  {
   "cell_type": "code",
   "execution_count": 47,
   "metadata": {},
   "outputs": [
    {
     "data": {
      "text/plain": [
       "0.09121121972586788"
      ]
     },
     "execution_count": 47,
     "metadata": {},
     "output_type": "execute_result"
    }
   ],
   "source": [
    "battery_life.cdf(12)"
   ]
  },
  {
   "cell_type": "markdown",
   "metadata": {},
   "source": [
    "#####  d. How many hours do the battery lasts for top 25% longest lasting phones.  "
   ]
  },
  {
   "cell_type": "code",
   "execution_count": 48,
   "metadata": {},
   "outputs": [
    {
     "data": {
      "text/plain": [
       "15.011734625294123"
      ]
     },
     "execution_count": 48,
     "metadata": {},
     "output_type": "execute_result"
    }
   ],
   "source": [
    "battery_life.isf(.25)"
   ]
  },
  {
   "cell_type": "markdown",
   "metadata": {},
   "source": [
    "# BINOMIAL DISTRIBUTION:"
   ]
  },
  {
   "cell_type": "markdown",
   "metadata": {},
   "source": [
    " Binomial distribution is a <ins>discrete</ins> probability distribution.\n",
    " \n",
    " \n",
    "Defined by \n",
    " - Number of Trials (sequence of n trials)\n",
    " - Probability of 'success' in each trial"
   ]
  },
  {
   "cell_type": "markdown",
   "metadata": {},
   "source": [
    "### Assumptions:\n",
    "- Two potential outcome per trial\n",
    "- Probability of success is same across all trials\n",
    "- Each trial is independent"
   ]
  },
  {
   "cell_type": "markdown",
   "metadata": {},
   "source": [
    "#### Example: Suppose we flip a fair coin 5 times in a row. What is probability of getting exactly 1 head."
   ]
  },
  {
   "cell_type": "markdown",
   "metadata": {},
   "source": [
    "##### Random variable X = Number of heads (success) from flipping a coin 5 times\n",
    "\n",
    "\n",
    "A) What is a trial.\n",
    "- Each flip of coin is a trial\n",
    "- number of trials = 5\n",
    "\n",
    "B) Define what is 'success'.\n",
    "- Getting 'heads' in a coin toss\n",
    "- probability of success (getting 'heads') = 0.5 \n",
    "\n",
    "\n",
    "Total possible outcomes for 5 coin flips = ?"
   ]
  },
  {
   "cell_type": "markdown",
   "metadata": {},
   "source": [
    "- Y axis = probability of the event happening\n",
    "- X axis = number of trials"
   ]
  },
  {
   "cell_type": "markdown",
   "metadata": {},
   "source": [
    "### this is how you calculate it manually"
   ]
  },
  {
   "cell_type": "code",
   "execution_count": 56,
   "metadata": {},
   "outputs": [],
   "source": [
    "# for P(x=0) <--- ie Zero heads in 5 trials\n",
    "# in this example. you get ZERO heads\n",
    "# Probability(X = 0) = 1/32 <-- 1/32 chances that youll get zero heads"
   ]
  },
  {
   "cell_type": "code",
   "execution_count": 57,
   "metadata": {},
   "outputs": [
    {
     "data": {
      "text/plain": [
       "0.03125"
      ]
     },
     "execution_count": 57,
     "metadata": {},
     "output_type": "execute_result"
    }
   ],
   "source": [
    "1/32"
   ]
  },
  {
   "cell_type": "code",
   "execution_count": 58,
   "metadata": {},
   "outputs": [],
   "source": [
    "# Probability (X = 1) i.e 1 head in 5 trials"
   ]
  },
  {
   "cell_type": "code",
   "execution_count": 59,
   "metadata": {},
   "outputs": [
    {
     "data": {
      "text/plain": [
       "0.15625"
      ]
     },
     "execution_count": 59,
     "metadata": {},
     "output_type": "execute_result"
    }
   ],
   "source": [
    "1/32 * 5"
   ]
  },
  {
   "cell_type": "markdown",
   "metadata": {},
   "source": [
    "### this is how you do it using Python"
   ]
  },
  {
   "cell_type": "code",
   "execution_count": 60,
   "metadata": {},
   "outputs": [],
   "source": [
    "#Binomial Parameters\n",
    "n_trials = 5 \n",
    "p= 0.5 #probability of success"
   ]
  },
  {
   "cell_type": "code",
   "execution_count": 62,
   "metadata": {},
   "outputs": [],
   "source": [
    "#define \n",
    "flips = stats.binom(n_trials, p)"
   ]
  },
  {
   "cell_type": "markdown",
   "metadata": {},
   "source": [
    "#### probability of getting zero heads?"
   ]
  },
  {
   "cell_type": "code",
   "execution_count": 63,
   "metadata": {},
   "outputs": [
    {
     "data": {
      "text/plain": [
       "0.03125"
      ]
     },
     "execution_count": 63,
     "metadata": {},
     "output_type": "execute_result"
    }
   ],
   "source": [
    "flips.pmf(0)"
   ]
  },
  {
   "cell_type": "markdown",
   "metadata": {},
   "source": [
    "#### probability of getting 2 heads?"
   ]
  },
  {
   "cell_type": "code",
   "execution_count": 65,
   "metadata": {},
   "outputs": [
    {
     "data": {
      "text/plain": [
       "0.3125"
      ]
     },
     "execution_count": 65,
     "metadata": {},
     "output_type": "execute_result"
    }
   ],
   "source": [
    "flips.pmf(2)"
   ]
  },
  {
   "cell_type": "markdown",
   "metadata": {},
   "source": [
    "__________________________________________\n",
    "#### Rigged coin distribution\n",
    "- Probability of success (getting 'heads' in a coin toss) = 0.7  \n",
    "- number of trials = 5"
   ]
  },
  {
   "cell_type": "code",
   "execution_count": 66,
   "metadata": {},
   "outputs": [
    {
     "data": {
      "text/plain": [
       "0.16806999999999994"
      ]
     },
     "execution_count": 66,
     "metadata": {},
     "output_type": "execute_result"
    }
   ],
   "source": [
    "stats.binom(5, 0.7).pmf(5)"
   ]
  },
  {
   "cell_type": "markdown",
   "metadata": {},
   "source": [
    "#### Rigged coin distribution\n",
    "Probability of success (getting heads in a coin toss) = 0.2  \n",
    "Number of trials = 5"
   ]
  },
  {
   "cell_type": "code",
   "execution_count": 67,
   "metadata": {},
   "outputs": [
    {
     "data": {
      "text/plain": [
       "0.0003200000000000001"
      ]
     },
     "execution_count": 67,
     "metadata": {},
     "output_type": "execute_result"
    }
   ],
   "source": [
    "stats.binom(5, 0.2).pmf(5)"
   ]
  },
  {
   "cell_type": "markdown",
   "metadata": {},
   "source": [
    "#### Example 1:  \n",
    "You are taking a multiple choice test consisting of 30 questions that you forgot to study for. Each question has 4 possible answers and you will choose one at random. What is the probability you get more than 10 of the questions right?"
   ]
  },
  {
   "cell_type": "code",
   "execution_count": null,
   "metadata": {},
   "outputs": [],
   "source": [
    "# What kind of distribution is this? \n",
    "#binomial distribution\n",
    "\n",
    "#success? = answering question correctly. 1/4\n",
    "\n",
    "# Random variable X?\n",
    "# number of questions answered correctly"
   ]
  },
  {
   "cell_type": "code",
   "execution_count": 72,
   "metadata": {},
   "outputs": [
    {
     "data": {
      "text/plain": [
       "0.10572812269266013"
      ]
     },
     "execution_count": 72,
     "metadata": {},
     "output_type": "execute_result"
    }
   ],
   "source": [
    "n_trials = 30\n",
    "p= 0.25\n",
    "stats.binom(n_trials, p).sf(10)\n",
    "# can aslo write --> stats.binom(30, 0.25).sf(10)"
   ]
  },
  {
   "cell_type": "markdown",
   "metadata": {},
   "source": [
    "#### Example 2\n",
    "Suppose there is a 5% chance that a Codeup student will show up late to class. With a class of 20, what is the likelihood that everyone shows up on time?\n",
    "\n"
   ]
  },
  {
   "cell_type": "code",
   "execution_count": 76,
   "metadata": {},
   "outputs": [
    {
     "data": {
      "text/plain": [
       "0.3584859224085422"
      ]
     },
     "execution_count": 76,
     "metadata": {},
     "output_type": "execute_result"
    }
   ],
   "source": [
    "#ASK YOURSELF:\n",
    "\n",
    "# success = someone being late\n",
    "# Random variable X? = number of people who show up late\n",
    "\n",
    "n_trials = 20\n",
    "p=.05\n",
    "\n",
    "# What kind of distribution is this? = binomial distribution\n",
    "\n",
    "# What are the appropriate defining parameters for this distribution?\n",
    "stats.binom(n_trials, p).pmf(0) \n"
   ]
  },
  {
   "cell_type": "code",
   "execution_count": 75,
   "metadata": {},
   "outputs": [
    {
     "data": {
      "text/plain": [
       "0.35848592240854193"
      ]
     },
     "execution_count": 75,
     "metadata": {},
     "output_type": "execute_result"
    }
   ],
   "source": [
    "1- stats.binom(n_trials, p).sf(0)\n",
    "#another way to do the same problem"
   ]
  },
  {
   "cell_type": "markdown",
   "metadata": {},
   "source": [
    "#### Mini Exercise\n",
    "\n",
    "The probability that a visitor will make a purchase when browsing in your web-store is 1.5%. You expect 350 web-visitors today \n",
    "\n",
    "\n",
    "1. What kind of probability distribution you have for \"# number of visitors who end up making a purchase\"?\n",
    "\n",
    "\n",
    "2. What are the appropriate defining parameters for this distribution?\n",
    "\n",
    "\n",
    "3. Create a Scipy object/instance for this distribution\n",
    "\n",
    "\n",
    "\n",
    "4. Use the object create above and choose appropriate method (e.g. pmf, cdf, ppf etc.) to calculate the following:  \n",
    "\n",
    "\n",
    "     a. What is the probability that exactly 10 vistors will make the a purchase?\n",
    "     b. What is probability 13 or more visitors will make a purchase?  \n",
    "     c. What is probability that 10 or less visitors will make a purchase?"
   ]
  },
  {
   "cell_type": "markdown",
   "metadata": {},
   "source": [
    "#### 1. What kind of probability distribution you have for \"# number of visitors who end up making a purchase\"?"
   ]
  },
  {
   "cell_type": "code",
   "execution_count": null,
   "metadata": {},
   "outputs": [],
   "source": [
    "# Binomial Distribution"
   ]
  },
  {
   "cell_type": "markdown",
   "metadata": {},
   "source": [
    "#### 2. What are the appropriate defining parameters for this distribution?"
   ]
  },
  {
   "cell_type": "code",
   "execution_count": 77,
   "metadata": {},
   "outputs": [],
   "source": [
    "n_trials = 350\n",
    "p= 0.015"
   ]
  },
  {
   "cell_type": "markdown",
   "metadata": {},
   "source": [
    "#### 3. Create a Scipy object/instance for this distribution"
   ]
  },
  {
   "cell_type": "code",
   "execution_count": 78,
   "metadata": {},
   "outputs": [
    {
     "data": {
      "text/plain": [
       "<scipy.stats._distn_infrastructure.rv_frozen at 0x7fcf6006c910>"
      ]
     },
     "execution_count": 78,
     "metadata": {},
     "output_type": "execute_result"
    }
   ],
   "source": [
    "stats.binom(n_trials, p)"
   ]
  },
  {
   "cell_type": "markdown",
   "metadata": {},
   "source": [
    "#### 4. Use the object create above and choose appropriate method (e.g. pmf, cdf, ppf etc.) to calculate the following:  "
   ]
  },
  {
   "cell_type": "markdown",
   "metadata": {},
   "source": [
    "#### a. What is the probability that exactly 10 vistors will make the a purchase?"
   ]
  },
  {
   "cell_type": "code",
   "execution_count": 79,
   "metadata": {},
   "outputs": [
    {
     "data": {
      "text/plain": [
       "0.022583869648271287"
      ]
     },
     "execution_count": 79,
     "metadata": {},
     "output_type": "execute_result"
    }
   ],
   "source": [
    "stats.binom(n_trials, p).pmf(10)"
   ]
  },
  {
   "cell_type": "markdown",
   "metadata": {},
   "source": [
    "#### b. What is probability 13 or more visitors will make a purchase?  "
   ]
  },
  {
   "cell_type": "code",
   "execution_count": 83,
   "metadata": {},
   "outputs": [
    {
     "data": {
      "text/plain": [
       "0.0028028606293500156"
      ]
     },
     "execution_count": 83,
     "metadata": {},
     "output_type": "execute_result"
    }
   ],
   "source": [
    "stats.binom(n_trials, p).sf(12) #more than 12, \"sf\" is non-inclusive"
   ]
  },
  {
   "cell_type": "markdown",
   "metadata": {},
   "source": [
    "#### c. What is probability that 10 or less visitors will make a purchase?"
   ]
  },
  {
   "cell_type": "code",
   "execution_count": 86,
   "metadata": {},
   "outputs": [
    {
     "data": {
      "text/plain": [
       "0.9819938585504345"
      ]
     },
     "execution_count": 86,
     "metadata": {},
     "output_type": "execute_result"
    }
   ],
   "source": [
    "stats.binom(n_trials, p).cdf(10)"
   ]
  },
  {
   "cell_type": "code",
   "execution_count": 88,
   "metadata": {},
   "outputs": [
    {
     "data": {
      "text/plain": [
       "<BarContainer object of 15 artists>"
      ]
     },
     "execution_count": 88,
     "metadata": {},
     "output_type": "execute_result"
    },
    {
     "data": {
      "image/png": "[encoded data removed]",
      "text/plain": [
       "<Figure size 432x288 with 1 Axes>"
      ]
     },
     "metadata": {
      "needs_background": "light"
     },
     "output_type": "display_data"
    }
   ],
   "source": [
    "x= np.arange(0,15)\n",
    "y= stats.binom(n_trials,p).pmf(x)\n",
    "\n",
    "plt.bar(x,y)\n",
    "#this shows distribution in bar chart"
   ]
  },
  {
   "cell_type": "markdown",
   "metadata": {},
   "source": [
    "\n",
    "## Poisson Distribution"
   ]
  },
  {
   "cell_type": "markdown",
   "metadata": {},
   "source": [
    "- <ins>discrete</ins> probability distribution \n",
    "- expresses the probability of a given number of events occurring in a fixed interval of time or space\n",
    "- No upper bound on number of events (un-like Binomial distribution)\n",
    "- Only one parameter ($\\lambda$,) which is the rate at which the event happens.\n",
    "\n",
    "- you might see a rate in which trail happens\n",
    "    - (ex) this happens in 2 hours"
   ]
  },
  {
   "cell_type": "markdown",
   "metadata": {},
   "source": [
    "#### Real life examples:\n",
    "\n",
    "Telecommunications: # of calls arriving in to customer service.  \n",
    "\n",
    "Astronomy: photons arriving at a telescope.\n",
    "\n",
    "Biology: the number of mutations on a strand of DNA per unit length.  \n",
    "\n",
    "Management: customers arriving at a counter or call centre.\n",
    "\n",
    "Finance and insurance: number of losses or claims occurring in a given period of time.  \n",
    "\n",
    "Radioactivity: number of decays in a given time interval in a radioactive sample."
   ]
  },
  {
   "cell_type": "markdown",
   "metadata": {},
   "source": [
    "#### Example\n",
    "Suppose that astronomers estimate that large meteorites (above a certain size) hit the earth on average once every 100 years (λ = 1 event per 100 years), and that the number of meteorite hits follows a Poisson distribution.\n",
    "\n",
    "What is the probability of k = 0 meteorite hits in the next 100 years?"
   ]
  },
  {
   "cell_type": "code",
   "execution_count": 91,
   "metadata": {},
   "outputs": [
    {
     "data": {
      "text/plain": [
       "0.36787944117144233"
      ]
     },
     "execution_count": 91,
     "metadata": {},
     "output_type": "execute_result"
    }
   ],
   "source": [
    "#parameter\n",
    "λ  = 1 #per hundred years\n",
    "stats.poisson(λ).pmf(0)"
   ]
  },
  {
   "cell_type": "code",
   "execution_count": 96,
   "metadata": {},
   "outputs": [
    {
     "data": {
      "text/plain": [
       "Text(0.5, 1.0, 'Poisson distribution $λ = 1$')"
      ]
     },
     "execution_count": 96,
     "metadata": {},
     "output_type": "execute_result"
    },
    {
     "data": {
      "image/png": "[encoded data removed]",
      "text/plain": [
       "<Figure size 432x288 with 1 Axes>"
      ]
     },
     "metadata": {
      "needs_background": "light"
     },
     "output_type": "display_data"
    }
   ],
   "source": [
    "x= np.arange(0,12)\n",
    "y= stats.poisson(λ).pmf(x)\n",
    "plt.bar(x,y)\n",
    "plt.xlabel('number of meteorite strikes per 100 years')\n",
    "plt.ylabel('P(x)')\n",
    "plt.title('Poisson distribution $λ = 1$')\n",
    "#this shows bar distribution for (λ) = 1"
   ]
  },
  {
   "cell_type": "markdown",
   "metadata": {},
   "source": [
    "#### Mini Exercise:\n",
    "\n",
    "Average number of customers going through CVS drive-through is 8 per hour. \n",
    "\n",
    "1. What kind of distribution we are working with?\n",
    "\n",
    "\n",
    "2. What are the appropriate defining parameters for this distribution?\n",
    "\n",
    "\n",
    "3. Create a Scipy object/instance for this distribution\n",
    "\n",
    "\n",
    "\n",
    "4. Use the object create above and choose appropriate method (e.g. pmf, cdf, ppf etc.) to calculate the probability that 11 cars customers will go through in next hr.\n"
   ]
  },
  {
   "cell_type": "markdown",
   "metadata": {},
   "source": [
    "#### 1. What kind of distribution we are working with?"
   ]
  },
  {
   "cell_type": "code",
   "execution_count": null,
   "metadata": {},
   "outputs": [],
   "source": [
    "#poisson distribution"
   ]
  },
  {
   "cell_type": "markdown",
   "metadata": {},
   "source": [
    "#### 2. What are the appropriate defining parameters for this distribution?"
   ]
  },
  {
   "cell_type": "code",
   "execution_count": 97,
   "metadata": {},
   "outputs": [],
   "source": [
    "λ = 8 #per hour"
   ]
  },
  {
   "cell_type": "markdown",
   "metadata": {},
   "source": [
    "#### 3. Create a Scipy object/instance for this distribution"
   ]
  },
  {
   "cell_type": "code",
   "execution_count": 98,
   "metadata": {},
   "outputs": [
    {
     "data": {
      "text/plain": [
       "<scipy.stats._distn_infrastructure.rv_frozen at 0x7fcf70221550>"
      ]
     },
     "execution_count": 98,
     "metadata": {},
     "output_type": "execute_result"
    }
   ],
   "source": [
    "stats.poisson(λ)"
   ]
  },
  {
   "cell_type": "markdown",
   "metadata": {},
   "source": [
    "#### 4. Use the object create above and choose appropriate method (e.g. pmf, cdf, ppf etc.) to calculate the probability that 11 cars customers will go through in next hr."
   ]
  },
  {
   "cell_type": "code",
   "execution_count": 99,
   "metadata": {},
   "outputs": [
    {
     "data": {
      "text/plain": [
       "0.07219020642293475"
      ]
     },
     "execution_count": 99,
     "metadata": {},
     "output_type": "execute_result"
    }
   ],
   "source": [
    "stats.poisson(λ).pmf(11)"
   ]
  },
  {
   "cell_type": "code",
   "execution_count": 102,
   "metadata": {},
   "outputs": [
    {
     "data": {
      "text/plain": [
       "Text(0.5, 1.0, 'Poisson distribution $λ =8$')"
      ]
     },
     "execution_count": 102,
     "metadata": {},
     "output_type": "execute_result"
    },
    {
     "data": {
      "image/png": "[encoded data removed]",
      "text/plain": [
       "<Figure size 432x288 with 1 Axes>"
      ]
     },
     "metadata": {
      "needs_background": "light"
     },
     "output_type": "display_data"
    }
   ],
   "source": [
    "x= np.arange(0,25)\n",
    "y= stats.poisson(λ).pmf(x)\n",
    "plt.bar(x,y)\n",
    "plt.xlabel('number of cars per hour')\n",
    "plt.ylabel('P(x)')\n",
    "plt.title('Poisson distribution $λ =8$')"
   ]
  },
  {
   "cell_type": "markdown",
   "metadata": {},
   "source": [
    "# Summary:\n",
    "\n",
    "Types of Distribution:\n",
    "1. Normal distribution\n",
    "    - mean($\\mu$)\n",
    "    - std dev ($\\sigma$)\n",
    "    - stats.norm($\\mu$,  $\\sigma$ )\n",
    "\n",
    "\n",
    "2. Binomial distribution\n",
    "    - number of trials (n)\n",
    "    - probability of success (p)\n",
    "    - stats.binom(n, p )\n",
    "    - X = number of success in trials\n",
    "\n",
    "\n",
    "3. Poisson distribution\n",
    "    - rate ($\\lambda$)\n",
    "    - stats.poisson($\\lambda$)\n",
    "    - X = number of events per unit time\n",
    "    \n",
    " \n",
    "For a defined probability distribution above, we can answer different questions using following functions:\n",
    "\n",
    "- pmf/pdf\n",
    "- cdf/ppf\n",
    "- sf/isf\n"
   ]
  },
  {
   "cell_type": "code",
   "execution_count": null,
   "metadata": {},
   "outputs": [],
   "source": []
  }
 ],
 "metadata": {
  "kernelspec": {
   "display_name": "Python 3",
   "language": "python",
   "name": "python3"
  },
  "language_info": {
   "codemirror_mode": {
    "name": "ipython",
    "version": 3
   },
   "file_extension": ".py",
   "mimetype": "text/x-python",
   "name": "python",
   "nbconvert_exporter": "python",
   "pygments_lexer": "ipython3",
   "version": "3.8.5"
  }
 },
 "nbformat": 4,
 "nbformat_minor": 4
}
