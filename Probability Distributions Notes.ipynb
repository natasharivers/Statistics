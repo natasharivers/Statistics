{
 "cells": [
  {
   "cell_type": "code",
   "execution_count": 2,
   "metadata": {},
   "outputs": [],
   "source": [
    "import matplotlib.pyplot as plt\n",
    "import numpy as np\n",
    "import pandas as pd\n",
    "from scipy import stats"
   ]
  },
  {
   "cell_type": "markdown",
   "metadata": {},
   "source": [
    "Probabiity Distributions: Mathematical functions that we can use to model real-world processes."
   ]
  },
  {
   "cell_type": "markdown",
   "metadata": {},
   "source": [
    "### DISCRETE VS CONTINIOUS:"
   ]
  },
  {
   "cell_type": "code",
   "execution_count": null,
   "metadata": {},
   "outputs": [],
   "source": []
  },
  {
   "cell_type": "markdown",
   "metadata": {},
   "source": [
    "##### Discrete distribution:\n",
    "- Examples: \n",
    "    - Number of customer complaints\n",
    "    - Number of calls received in a call-center per hour\n",
    "    - Number of food trucks at Travis Park in a day\n",
    "\n",
    "- Bar Chart"
   ]
  },
  {
   "cell_type": "markdown",
   "metadata": {},
   "source": [
    "##### Continuous distribution:\n",
    "- Examples:\n",
    "    - Height\n",
    "    - Temperature\n",
    "    - Employee salaries"
   ]
  },
  {
   "cell_type": "markdown",
   "metadata": {},
   "source": [
    "### Types of Distributions:\n",
    "- Uniform distribution\n",
    "- Normal distribution\n",
    "- Binomial distribution\n",
    "- Poisson distrbution\n",
    "\n",
    "https://en.wikipedia.org/wiki/List_of_probability_distributions\n",
    "https://www.kdnuggets.com/2020/02/probability-distributions-data-science.html\n"
   ]
  },
  {
   "cell_type": "markdown",
   "metadata": {},
   "source": [
    "#### scipy distribution object: What can we calculate from distribution?\n",
    "\n",
    "\n",
    "- value --> probability  \n",
    "   -- pmf: equal to a point (only for discrete distributions!)  \n",
    "    -- pdf: equal to a point (for continuous distributions)  \n",
    "   -- cdf: less than or equal to a point  \n",
    "   -- sf: greater than a point  \n",
    "- probability --> value  \n",
    "   -- ppf: less than or equal to a point  \n",
    "   -- isf: greater than a point  \n",
    "- rvs for random values "
   ]
  },
  {
   "cell_type": "markdown",
   "metadata": {},
   "source": [
    "### Uniform Distribution"
   ]
  },
  {
   "cell_type": "markdown",
   "metadata": {},
   "source": [
    "- Rolling a fair 6-sided die\n",
    "    - what does the probability distribution look like?"
   ]
  },
  {
   "cell_type": "markdown",
   "metadata": {},
   "source": [
    "### Using Scipy stats module"
   ]
  },
  {
   "cell_type": "code",
   "execution_count": 3,
   "metadata": {},
   "outputs": [
    {
     "data": {
      "text/plain": [
       "<scipy.stats._distn_infrastructure.rv_frozen at 0x7fcf82e8bb20>"
      ]
     },
     "execution_count": 3,
     "metadata": {},
     "output_type": "execute_result"
    }
   ],
   "source": [
    "die_distribution = stats.randint(1,7)\n",
    "die_distribution"
   ]
  },
  {
   "cell_type": "code",
   "execution_count": 4,
   "metadata": {},
   "outputs": [
    {
     "data": {
      "text/plain": [
       "0.16666666666666666"
      ]
     },
     "execution_count": 4,
     "metadata": {},
     "output_type": "execute_result"
    }
   ],
   "source": [
    "# What is probability of rolling 3?\n",
    "\n",
    "die_distribution.pmf(3)"
   ]
  },
  {
   "cell_type": "code",
   "execution_count": 5,
   "metadata": {},
   "outputs": [
    {
     "data": {
      "text/plain": [
       "0.5"
      ]
     },
     "execution_count": 5,
     "metadata": {},
     "output_type": "execute_result"
    }
   ],
   "source": [
    "# What is probability of rolling 3 or less?\n",
    "\n",
    "die_distribution.cdf(3)"
   ]
  },
  {
   "cell_type": "code",
   "execution_count": 6,
   "metadata": {},
   "outputs": [
    {
     "data": {
      "text/plain": [
       "0.5"
      ]
     },
     "execution_count": 6,
     "metadata": {},
     "output_type": "execute_result"
    }
   ],
   "source": [
    "# What is the likelihood we roll a value higher than 4?\n",
    "\n",
    "die_distribution.sf(3)"
   ]
  },
  {
   "cell_type": "code",
   "execution_count": 7,
   "metadata": {},
   "outputs": [
    {
     "data": {
      "text/plain": [
       "nan"
      ]
     },
     "execution_count": 7,
     "metadata": {},
     "output_type": "execute_result"
    }
   ],
   "source": [
    "# There is a 1/3 chance a dice roll will be higher than what value\n",
    "\n",
    "die_distribution.isf(3)"
   ]
  },
  {
   "cell_type": "markdown",
   "metadata": {},
   "source": [
    "### Normal Distribution"
   ]
  },
  {
   "cell_type": "markdown",
   "metadata": {},
   "source": [
    "- Bell shaped\n",
    "- Most observations are closer to the mean\n",
    "- Common in nature. Examples\n",
    "    - Height\n",
    "    - time a flight takes from point A to B\n",
    "    - manufacturing\n",
    "- 2 parameters\n",
    "    - mean ($\\mu$)\n",
    "    - std dev ($\\sigma$)"
   ]
  },
  {
   "cell_type": "markdown",
   "metadata": {},
   "source": [
    "#### Suppose that a store's daily sales are normally distributed with a mean of 12,000 dollars and standard deviation of 2000 dollars.\n",
    " - What is the probability that sales are 10,000 dollars on a certain day.     \n",
    " - What is the probability that sales are 10,000 dollars <ins>or less</ins> on a certain day.\n",
    " - What is the probability that sales are greater than 15,000 dollars on a certain day.\n",
    " - How much would the daily sales have to be to be in the top 10% of all days?"
   ]
  },
  {
   "cell_type": "markdown",
   "metadata": {},
   "source": [
    "#### *graph in \"probability_distribution_lesson\"*"
   ]
  },
  {
   "cell_type": "markdown",
   "metadata": {},
   "source": [
    "####  #1 What is the probability that sales are 10,000 dollars on a certain day?"
   ]
  },
  {
   "cell_type": "code",
   "execution_count": 10,
   "metadata": {},
   "outputs": [],
   "source": [
    "#parameters\n",
    "mean= 12000\n",
    "std_dev = 2000\n",
    "\n",
    "#random variable \n",
    "#x= daily sales"
   ]
  },
  {
   "cell_type": "code",
   "execution_count": 11,
   "metadata": {},
   "outputs": [
    {
     "data": {
      "text/plain": [
       "<scipy.stats._distn_infrastructure.rv_frozen at 0x7fcf6006c1f0>"
      ]
     },
     "execution_count": 11,
     "metadata": {},
     "output_type": "execute_result"
    }
   ],
   "source": [
    "sales = stats.norm(mean, std_dev)\n",
    "#can also say, sales=stats.norm(12000,2000)\n",
    "sales"
   ]
  },
  {
   "cell_type": "code",
   "execution_count": 12,
   "metadata": {},
   "outputs": [
    {
     "data": {
      "text/plain": [
       "0.00012098536225957169"
      ]
     },
     "execution_count": 12,
     "metadata": {},
     "output_type": "execute_result"
    }
   ],
   "source": [
    "#p_sales = 10000 \n",
    "sales.pdf(10000)\n",
    "#^-- have to use \"pdf\" because its continuous distribution"
   ]
  },
  {
   "cell_type": "code",
   "execution_count": 14,
   "metadata": {},
   "outputs": [
    {
     "data": {
      "text/plain": [
       "0.0001"
      ]
     },
     "execution_count": 14,
     "metadata": {},
     "output_type": "execute_result"
    }
   ],
   "source": [
    "sales.pdf(10000).round(4) #this will round result to 4 places"
   ]
  },
  {
   "cell_type": "markdown",
   "metadata": {},
   "source": [
    "#### #2 What is the probability that sales are 10,000 dollars \n",
    "#### or less on a certain day."
   ]
  },
  {
   "cell_type": "code",
   "execution_count": 13,
   "metadata": {},
   "outputs": [
    {
     "data": {
      "text/plain": [
       "0.15865525393145707"
      ]
     },
     "execution_count": 13,
     "metadata": {},
     "output_type": "execute_result"
    }
   ],
   "source": [
    "sales.cdf(10000)\n",
    "#^-- must use \"cdf\" because its an amount or LESS than"
   ]
  },
  {
   "cell_type": "markdown",
   "metadata": {},
   "source": [
    "#### #3 What is the probability that sales are greater than 15,000 dollars on a certain day."
   ]
  },
  {
   "cell_type": "code",
   "execution_count": 17,
   "metadata": {},
   "outputs": [
    {
     "data": {
      "text/plain": [
       "0.06680720126885807"
      ]
     },
     "execution_count": 17,
     "metadata": {},
     "output_type": "execute_result"
    }
   ],
   "source": [
    "sales.sf(15000)\n",
    "#^-- use \"sf\" because its GREATER than the amount"
   ]
  },
  {
   "cell_type": "markdown",
   "metadata": {},
   "source": [
    "#### #4 How much would the daily sales have to be to be in the top 10% of all days?"
   ]
  },
  {
   "cell_type": "code",
   "execution_count": 20,
   "metadata": {},
   "outputs": [
    {
     "data": {
      "text/plain": [
       "14563.1031"
      ]
     },
     "execution_count": 20,
     "metadata": {},
     "output_type": "execute_result"
    }
   ],
   "source": [
    "#in this case, you KNOW the probability already and you need to find the amount\n",
    "sales.isf(0.1).round(4)"
   ]
  },
  {
   "cell_type": "markdown",
   "metadata": {},
   "source": [
    "#### Manufacturing tolerances example:\n",
    "\n",
    "#### Apple machines the front glass of iphone to mean thickness of 500 $\\mu$m. Upon inspecting a sample of 1000 phone off assembly line, the standard deviation of the thickness was measured as 25 $\\mu$m. \n",
    "#### Apple spec sheet list the max and min tolerances on glass thickness and +/- 50 $\\mu$m. Meaning anything iphone built with glass thickness greater than 550 $\\mu$m or less than 450 $\\mu$m is considered defective.\n",
    "\n",
    "1. If the assembly line produced 1000,000 iphone last year, how many iphone were built as 'defective'.\n",
    "\n",
    "2. If the standard deviation of thickness increased to 33 $\\mu$m due to manufacuring issue at the assembly plant, how many defective iphones were built?\n",
    "\n",
    "3. Apple was able to implement new improved machining process and reduce the std dev to 14 $\\mu$m. How many defective iphone will be built?\n",
    "\n",
    "### Chart in \"probability_distributions_lessons\""
   ]
  },
  {
   "cell_type": "markdown",
   "metadata": {},
   "source": [
    "#### 1. If the assembly line produced 1000,000 iphone last year, how many iphone were built as 'defective'."
   ]
  },
  {
   "cell_type": "code",
   "execution_count": 22,
   "metadata": {},
   "outputs": [],
   "source": [
    "#parameters\n",
    "mean= 500\n",
    "std_dev= 25"
   ]
  },
  {
   "cell_type": "code",
   "execution_count": 23,
   "metadata": {},
   "outputs": [],
   "source": [
    "#distribution\n",
    "phones= stats.norm(mean, std_dev)"
   ]
  },
  {
   "cell_type": "code",
   "execution_count": 24,
   "metadata": {},
   "outputs": [
    {
     "data": {
      "text/plain": [
       "0.04550026389635839"
      ]
     },
     "execution_count": 24,
     "metadata": {},
     "output_type": "execute_result"
    }
   ],
   "source": [
    "#defective is >550 or <450\n",
    "phones.sf(550) + phones.cdf(450) #gives propability"
   ]
  },
  {
   "cell_type": "code",
   "execution_count": 25,
   "metadata": {},
   "outputs": [
    {
     "data": {
      "text/plain": [
       "45500.26389635839"
      ]
     },
     "execution_count": 25,
     "metadata": {},
     "output_type": "execute_result"
    }
   ],
   "source": [
    "#BUT need to multiply by number of phones\n",
    "(phones.sf(550) + phones.cdf(450)) *1_000_000\n",
    "#45,500 defective phones out of 1M"
   ]
  },
  {
   "cell_type": "markdown",
   "metadata": {},
   "source": [
    "#### 2. If the standard deviation of thickness increased to 33 $\\mu$m due to manufacuring issue at the assembly plant, how many defective iphones were built?"
   ]
  },
  {
   "cell_type": "code",
   "execution_count": 26,
   "metadata": {},
   "outputs": [],
   "source": [
    "#std_dev changed so we need to run parameters and distribution again\n",
    "mean = 500\n",
    "std_dev = 33\n",
    "phones= stats.norm(mean, std_dev)"
   ]
  },
  {
   "cell_type": "code",
   "execution_count": 27,
   "metadata": {},
   "outputs": [
    {
     "data": {
      "text/plain": [
       "129734.03829466889"
      ]
     },
     "execution_count": 27,
     "metadata": {},
     "output_type": "execute_result"
    }
   ],
   "source": [
    "(phones.sf(550) + phones.cdf(450)) *1_000_000\n",
    "#129,734 defective out of 1M"
   ]
  },
  {
   "cell_type": "markdown",
   "metadata": {},
   "source": [
    "#### 3. Apple was able to implement new improved machining process and reduce the std dev to 14 $\\mu$m. How many defective iphone will be built?"
   ]
  },
  {
   "cell_type": "code",
   "execution_count": 30,
   "metadata": {},
   "outputs": [],
   "source": [
    "#std_dev decreased greatly. need to redefine parameters and distribution again\n",
    "mean = 500\n",
    "std_dev = 14\n",
    "phones= stats.norm(mean, std_dev)"
   ]
  },
  {
   "cell_type": "code",
   "execution_count": 29,
   "metadata": {},
   "outputs": [
    {
     "data": {
      "text/plain": [
       "355.03938074694156"
      ]
     },
     "execution_count": 29,
     "metadata": {},
     "output_type": "execute_result"
    }
   ],
   "source": [
    "(phones.sf(550) + phones.cdf(450)) *1_000_000\n",
    "#355 defective out of 1M"
   ]
  },
  {
   "cell_type": "markdown",
   "metadata": {},
   "source": [
    "## EXERCISES:\n",
    "The average battery life for a fully charges iphone-12 is 14 hours with standard deviation of 1.5 hour\n",
    "\n",
    "\n",
    "1. What kind of probability distribution represents the random variable \"battery life in hours\"?\n",
    "\n",
    "\n",
    "2. What are the appropriate defining parameters for this distribution?\n",
    "\n",
    "\n",
    "3. Create a Scipy object/instance for this distribution\n",
    "\n",
    "\n",
    "4. Use the object create above and choose appropriate method (e.g. pmf, cdf, ppf etc.) to calculate the following:  \n",
    "\n",
    "\n",
    "     a. What is the probability the cell phone battery more than 16 hours.  \n",
    "     b. What is probability that cell phone battery lasts for exactly 12 hours.  \n",
    "     c. What is the probability that cell phone battery lasts for 12 hours or less.  \n",
    "     d. How many hours do the battery lasts for top 25% longest lasting phones.  "
   ]
  },
  {
   "cell_type": "markdown",
   "metadata": {},
   "source": [
    "#### 1. What kind of probability distribution represents the random variable \"battery life in hours\"?"
   ]
  },
  {
   "cell_type": "code",
   "execution_count": 31,
   "metadata": {},
   "outputs": [],
   "source": [
    "# normal distribution"
   ]
  },
  {
   "cell_type": "markdown",
   "metadata": {},
   "source": [
    "#### 2. What are the appropriate defining parameters for this distribution?\n"
   ]
  },
  {
   "cell_type": "code",
   "execution_count": 43,
   "metadata": {},
   "outputs": [],
   "source": [
    "mean = 14\n",
    "std_dev = 1.5"
   ]
  },
  {
   "cell_type": "markdown",
   "metadata": {},
   "source": [
    "#### 3. Create a Scipy object/instance for this distribution"
   ]
  },
  {
   "cell_type": "code",
   "execution_count": 44,
   "metadata": {},
   "outputs": [],
   "source": [
    "battery_life = stats.norm(mean, std_dev)"
   ]
  },
  {
   "cell_type": "markdown",
   "metadata": {},
   "source": [
    "#### 4. Use the object create above and choose appropriate method (e.g. pmf, cdf, ppf etc.) to calculate the following: "
   ]
  },
  {
   "cell_type": "markdown",
   "metadata": {},
   "source": [
    "##### a. What is the probability the cell phone battery more than 16 hours.  "
   ]
  },
  {
   "cell_type": "code",
   "execution_count": 45,
   "metadata": {},
   "outputs": [
    {
     "data": {
      "text/plain": [
       "0.09121121972586788"
      ]
     },
     "execution_count": 45,
     "metadata": {},
     "output_type": "execute_result"
    }
   ],
   "source": [
    "battery_life.sf(16)"
   ]
  },
  {
   "cell_type": "markdown",
   "metadata": {},
   "source": [
    "##### b. What is probability that cell phone battery lasts for exactly 12 hours.  "
   ]
  },
  {
   "cell_type": "code",
   "execution_count": 46,
   "metadata": {},
   "outputs": [
    {
     "data": {
      "text/plain": [
       "0.10934004978399577"
      ]
     },
     "execution_count": 46,
     "metadata": {},
     "output_type": "execute_result"
    }
   ],
   "source": [
    "battery_life.pdf(12)"
   ]
  },
  {
   "cell_type": "markdown",
   "metadata": {},
   "source": [
    "#####  c. What is the probability that cell phone battery lasts for 12 hours or less.  "
   ]
  },
  {
   "cell_type": "code",
   "execution_count": 47,
   "metadata": {},
   "outputs": [
    {
     "data": {
      "text/plain": [
       "0.09121121972586788"
      ]
     },
     "execution_count": 47,
     "metadata": {},
     "output_type": "execute_result"
    }
   ],
   "source": [
    "battery_life.cdf(12)"
   ]
  },
  {
   "cell_type": "markdown",
   "metadata": {},
   "source": [
    "#####  d. How many hours do the battery lasts for top 25% longest lasting phones.  "
   ]
  },
  {
   "cell_type": "code",
   "execution_count": 48,
   "metadata": {},
   "outputs": [
    {
     "data": {
      "text/plain": [
       "15.011734625294123"
      ]
     },
     "execution_count": 48,
     "metadata": {},
     "output_type": "execute_result"
    }
   ],
   "source": [
    "battery_life.isf(.25)"
   ]
  },
  {
   "cell_type": "code",
   "execution_count": null,
   "metadata": {},
   "outputs": [],
   "source": []
  }
 ],
 "metadata": {
  "kernelspec": {
   "display_name": "Python 3",
   "language": "python",
   "name": "python3"
  },
  "language_info": {
   "codemirror_mode": {
    "name": "ipython",
    "version": 3
   },
   "file_extension": ".py",
   "mimetype": "text/x-python",
   "name": "python",
   "nbconvert_exporter": "python",
   "pygments_lexer": "ipython3",
   "version": "3.8.5"
  }
 },
 "nbformat": 4,
 "nbformat_minor": 4
}
